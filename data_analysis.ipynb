{
  "cells": [
    {
      "cell_type": "markdown",
      "metadata": {
        "id": "view-in-github",
        "colab_type": "text"
      },
      "source": [
        "<a href=\"https://colab.research.google.com/github/FauzanNR/DataAnalysisDicoding/blob/main/data_analysis.ipynb\" target=\"_parent\"><img src=\"https://colab.research.google.com/assets/colab-badge.svg\" alt=\"Open In Colab\"/></a>"
      ]
    },
    {
      "cell_type": "markdown",
      "metadata": {
        "id": "8cWiv8BqRqN7"
      },
      "source": [
        "#E-Comerce Public Data Analysis\n",
        "\n",
        "- **Nama:** Fauzan Nur Rifai\n",
        "- **Email:** fauzannur.rifai.fnr@gmail.com\n",
        "- **ID Dicoding:** fauzannurrifai"
      ]
    },
    {
      "cell_type": "markdown",
      "metadata": {
        "id": "wU9MEh0aTRFg"
      },
      "source": [
        "#Business Questions\n",
        "- Wich region gave the most revenue?\n",
        "- Are there specific times in all regions when customers make the most purchase ?\n",
        "- What are the most purchased products?\n",
        "- Which seller make the most selling?\n",
        "\n"
      ]
    },
    {
      "cell_type": "markdown",
      "metadata": {
        "id": "S7CrrFmFhhjd"
      },
      "source": [
        "#Importing Library"
      ]
    },
    {
      "cell_type": "code",
      "execution_count": null,
      "metadata": {
        "id": "629YFciXhr5L"
      },
      "outputs": [],
      "source": [
        "import pandas as pd\n",
        "import matplotlib.pyplot as plt\n",
        "import numpy as np\n",
        "import seaborn as sns\n",
        "\n",
        "\n",
        "pd.set_option('display.width', None)       # Avoid truncation"
      ]
    },
    {
      "cell_type": "markdown",
      "metadata": {
        "id": "NHTu_HsoiT1A"
      },
      "source": [
        "#Data Wrangling"
      ]
    },
    {
      "cell_type": "markdown",
      "metadata": {
        "id": "Zh_XjBT0ijBM"
      },
      "source": [
        "##Data Gathering"
      ]
    },
    {
      "cell_type": "code",
      "execution_count": null,
      "metadata": {
        "id": "wNkhCAJ1jmxq"
      },
      "outputs": [],
      "source": [
        "customers_df = pd.read_csv(\"Data/E-Commerce-Public-Dataset/customers_dataset.csv\")\n",
        "orders_df = pd.read_csv(\"Data/E-Commerce-Public-Dataset/orders_dataset.csv\")\n",
        "geolocation_df = pd.read_csv(\"Data/E-Commerce-Public-Dataset/geolocation_dataset.csv\")\n",
        "order_items_df = pd.read_csv(\"Data/E-Commerce-Public-Dataset/order_items_dataset.csv\")\n",
        "order_payments_df = pd.read_csv(\"Data/E-Commerce-Public-Dataset/order_payments_dataset.csv\")\n",
        "sellers_df = pd.read_csv(\"Data/E-Commerce-Public-Dataset/sellers_dataset.csv\")\n",
        "products_df = pd.read_csv(\"Data/E-Commerce-Public-Dataset/products_dataset.csv\")\n",
        "products_translation_df = pd.read_csv(\"Data/E-Commerce-Public-Dataset/product_category_name_translation.csv\")"
      ]
    },
    {
      "cell_type": "code",
      "execution_count": null,
      "metadata": {
        "id": "E2Xi4BQC0rw3"
      },
      "outputs": [],
      "source": [
        "customers_df.name = \"Customers\"\n",
        "orders_df.name = \"Orders\"\n",
        "geolocation_df.name = \"Geolocations\"\n",
        "order_items_df.name = \"Order Items\"\n",
        "order_payments_df.name = \"Order Payments\"\n",
        "sellers_df.name = \"Sellers\"\n",
        "products_df.name = \"Products\"\n",
        "products_translation_df.name = \"Translated Product\"\n",
        "df_list = [ customers_df, orders_df, geolocation_df, order_items_df, order_payments_df, sellers_df, products_df, products_translation_df]"
      ]
    },
    {
      "cell_type": "code",
      "execution_count": null,
      "metadata": {
        "id": "22G6i4yy0rw3",
        "outputId": "92c82253-d469-495f-cb7d-2448dc5da15c"
      },
      "outputs": [
        {
          "name": "stdout",
          "output_type": "stream",
          "text": [
            "###Data Customers Info###\n",
            "<class 'pandas.core.frame.DataFrame'>\n",
            "RangeIndex: 99441 entries, 0 to 99440\n",
            "Data columns (total 5 columns):\n",
            " #   Column                    Non-Null Count  Dtype \n",
            "---  ------                    --------------  ----- \n",
            " 0   customer_id               99441 non-null  object\n",
            " 1   customer_unique_id        99441 non-null  object\n",
            " 2   customer_zip_code_prefix  99441 non-null  int64 \n",
            " 3   customer_city             99441 non-null  object\n",
            " 4   customer_state            99441 non-null  object\n",
            "dtypes: int64(1), object(4)\n",
            "memory usage: 3.8+ MB\n",
            "###Data Orders Info###\n",
            "<class 'pandas.core.frame.DataFrame'>\n",
            "RangeIndex: 99441 entries, 0 to 99440\n",
            "Data columns (total 8 columns):\n",
            " #   Column                         Non-Null Count  Dtype \n",
            "---  ------                         --------------  ----- \n",
            " 0   order_id                       99441 non-null  object\n",
            " 1   customer_id                    99441 non-null  object\n",
            " 2   order_status                   99441 non-null  object\n",
            " 3   order_purchase_timestamp       99441 non-null  object\n",
            " 4   order_approved_at              99281 non-null  object\n",
            " 5   order_delivered_carrier_date   97658 non-null  object\n",
            " 6   order_delivered_customer_date  96476 non-null  object\n",
            " 7   order_estimated_delivery_date  99441 non-null  object\n",
            "dtypes: object(8)\n",
            "memory usage: 6.1+ MB\n",
            "###Data Geolocations Info###\n",
            "<class 'pandas.core.frame.DataFrame'>\n",
            "RangeIndex: 1000163 entries, 0 to 1000162\n",
            "Data columns (total 5 columns):\n",
            " #   Column                       Non-Null Count    Dtype  \n",
            "---  ------                       --------------    -----  \n",
            " 0   geolocation_zip_code_prefix  1000163 non-null  int64  \n",
            " 1   geolocation_lat              1000163 non-null  float64\n",
            " 2   geolocation_lng              1000163 non-null  float64\n",
            " 3   geolocation_city             1000163 non-null  object \n",
            " 4   geolocation_state            1000163 non-null  object \n",
            "dtypes: float64(2), int64(1), object(2)\n",
            "memory usage: 38.2+ MB\n",
            "###Data Order Items Info###\n",
            "<class 'pandas.core.frame.DataFrame'>\n",
            "RangeIndex: 112650 entries, 0 to 112649\n",
            "Data columns (total 7 columns):\n",
            " #   Column               Non-Null Count   Dtype  \n",
            "---  ------               --------------   -----  \n",
            " 0   order_id             112650 non-null  object \n",
            " 1   order_item_id        112650 non-null  int64  \n",
            " 2   product_id           112650 non-null  object \n",
            " 3   seller_id            112650 non-null  object \n",
            " 4   shipping_limit_date  112650 non-null  object \n",
            " 5   price                112650 non-null  float64\n",
            " 6   freight_value        112650 non-null  float64\n",
            "dtypes: float64(2), int64(1), object(4)\n",
            "memory usage: 6.0+ MB\n",
            "###Data Order Payments Info###\n",
            "<class 'pandas.core.frame.DataFrame'>\n",
            "RangeIndex: 103886 entries, 0 to 103885\n",
            "Data columns (total 5 columns):\n",
            " #   Column                Non-Null Count   Dtype  \n",
            "---  ------                --------------   -----  \n",
            " 0   order_id              103886 non-null  object \n",
            " 1   payment_sequential    103886 non-null  int64  \n",
            " 2   payment_type          103886 non-null  object \n",
            " 3   payment_installments  103886 non-null  int64  \n",
            " 4   payment_value         103886 non-null  float64\n",
            "dtypes: float64(1), int64(2), object(2)\n",
            "memory usage: 4.0+ MB\n",
            "###Data Sellers Info###\n",
            "<class 'pandas.core.frame.DataFrame'>\n",
            "RangeIndex: 3095 entries, 0 to 3094\n",
            "Data columns (total 4 columns):\n",
            " #   Column                  Non-Null Count  Dtype \n",
            "---  ------                  --------------  ----- \n",
            " 0   seller_id               3095 non-null   object\n",
            " 1   seller_zip_code_prefix  3095 non-null   int64 \n",
            " 2   seller_city             3095 non-null   object\n",
            " 3   seller_state            3095 non-null   object\n",
            "dtypes: int64(1), object(3)\n",
            "memory usage: 96.8+ KB\n",
            "###Data Products Info###\n",
            "<class 'pandas.core.frame.DataFrame'>\n",
            "RangeIndex: 32951 entries, 0 to 32950\n",
            "Data columns (total 9 columns):\n",
            " #   Column                      Non-Null Count  Dtype  \n",
            "---  ------                      --------------  -----  \n",
            " 0   product_id                  32951 non-null  object \n",
            " 1   product_category_name       32341 non-null  object \n",
            " 2   product_name_lenght         32341 non-null  float64\n",
            " 3   product_description_lenght  32341 non-null  float64\n",
            " 4   product_photos_qty          32341 non-null  float64\n",
            " 5   product_weight_g            32949 non-null  float64\n",
            " 6   product_length_cm           32949 non-null  float64\n",
            " 7   product_height_cm           32949 non-null  float64\n",
            " 8   product_width_cm            32949 non-null  float64\n",
            "dtypes: float64(7), object(2)\n",
            "memory usage: 2.3+ MB\n",
            "###Data Translated Product Info###\n",
            "<class 'pandas.core.frame.DataFrame'>\n",
            "RangeIndex: 71 entries, 0 to 70\n",
            "Data columns (total 2 columns):\n",
            " #   Column                         Non-Null Count  Dtype \n",
            "---  ------                         --------------  ----- \n",
            " 0   product_category_name          71 non-null     object\n",
            " 1   product_category_name_english  71 non-null     object\n",
            "dtypes: object(2)\n",
            "memory usage: 1.2+ KB\n"
          ]
        }
      ],
      "source": [
        "for data in df_list:\n",
        "    print(f\"###Data {data.name} Info###\")\n",
        "    data.info()"
      ]
    },
    {
      "cell_type": "markdown",
      "metadata": {
        "id": "f_6Br9w40rw3"
      },
      "source": [
        "##Data Assesment"
      ]
    },
    {
      "cell_type": "code",
      "execution_count": null,
      "metadata": {
        "id": "0ovK0Kkm0rw4",
        "outputId": "14cb7d4d-9ad2-44e2-8ad6-327618bb509a"
      },
      "outputs": [
        {
          "name": "stdout",
          "output_type": "stream",
          "text": [
            "###Customers###\n",
            "---Missing Data---\n",
            "customer_id                 0\n",
            "customer_unique_id          0\n",
            "customer_zip_code_prefix    0\n",
            "customer_city               0\n",
            "customer_state              0\n",
            "dtype: int64\n",
            "---Duplicated Data---\n",
            "0\n",
            "---Data Desc---\n",
            "       customer_zip_code_prefix\n",
            "count              99441.000000\n",
            "mean               35137.474583\n",
            "std                29797.938996\n",
            "min                 1003.000000\n",
            "25%                11347.000000\n",
            "50%                24416.000000\n",
            "75%                58900.000000\n",
            "max                99990.000000\n",
            "###Orders###\n",
            "---Missing Data---\n",
            "order_id                            0\n",
            "customer_id                         0\n",
            "order_status                        0\n",
            "order_purchase_timestamp            0\n",
            "order_approved_at                 160\n",
            "order_delivered_carrier_date     1783\n",
            "order_delivered_customer_date    2965\n",
            "order_estimated_delivery_date       0\n",
            "dtype: int64\n",
            "---Duplicated Data---\n",
            "0\n",
            "---Data Desc---\n",
            "                                order_id                       customer_id  \\\n",
            "count                              99441                             99441   \n",
            "unique                             99441                             99441   \n",
            "top     e481f51cbdc54678b7cc49136f2d6af7  9ef432eb6251297304e76186b10a928d   \n",
            "freq                                   1                                 1   \n",
            "\n",
            "       order_status order_purchase_timestamp    order_approved_at  \\\n",
            "count         99441                    99441                99281   \n",
            "unique            8                    98875                90733   \n",
            "top       delivered      2018-04-11 10:48:14  2018-02-27 04:31:10   \n",
            "freq          96478                        3                    9   \n",
            "\n",
            "       order_delivered_carrier_date order_delivered_customer_date  \\\n",
            "count                         97658                         96476   \n",
            "unique                        81018                         95664   \n",
            "top             2018-05-09 15:48:00           2018-05-08 23:38:46   \n",
            "freq                             47                             3   \n",
            "\n",
            "       order_estimated_delivery_date  \n",
            "count                          99441  \n",
            "unique                           459  \n",
            "top              2017-12-20 00:00:00  \n",
            "freq                             522  \n",
            "###Geolocations###\n",
            "---Missing Data---\n",
            "geolocation_zip_code_prefix    0\n",
            "geolocation_lat                0\n",
            "geolocation_lng                0\n",
            "geolocation_city               0\n",
            "geolocation_state              0\n",
            "dtype: int64\n",
            "---Duplicated Data---\n",
            "261831\n",
            "---Data Desc---\n",
            "       geolocation_zip_code_prefix  geolocation_lat  geolocation_lng\n",
            "count                 1.000163e+06     1.000163e+06     1.000163e+06\n",
            "mean                  3.657417e+04    -2.117615e+01    -4.639054e+01\n",
            "std                   3.054934e+04     5.715866e+00     4.269748e+00\n",
            "min                   1.001000e+03    -3.660537e+01    -1.014668e+02\n",
            "25%                   1.107500e+04    -2.360355e+01    -4.857317e+01\n",
            "50%                   2.653000e+04    -2.291938e+01    -4.663788e+01\n",
            "75%                   6.350400e+04    -1.997962e+01    -4.376771e+01\n",
            "max                   9.999000e+04     4.506593e+01     1.211054e+02\n",
            "###Order Items###\n",
            "---Missing Data---\n",
            "order_id               0\n",
            "order_item_id          0\n",
            "product_id             0\n",
            "seller_id              0\n",
            "shipping_limit_date    0\n",
            "price                  0\n",
            "freight_value          0\n",
            "dtype: int64\n",
            "---Duplicated Data---\n",
            "0\n",
            "---Data Desc---\n",
            "       order_item_id          price  freight_value\n",
            "count  112650.000000  112650.000000  112650.000000\n",
            "mean        1.197834     120.653739      19.990320\n",
            "std         0.705124     183.633928      15.806405\n",
            "min         1.000000       0.850000       0.000000\n",
            "25%         1.000000      39.900000      13.080000\n",
            "50%         1.000000      74.990000      16.260000\n",
            "75%         1.000000     134.900000      21.150000\n",
            "max        21.000000    6735.000000     409.680000\n",
            "###Order Payments###\n",
            "---Missing Data---\n",
            "order_id                0\n",
            "payment_sequential      0\n",
            "payment_type            0\n",
            "payment_installments    0\n",
            "payment_value           0\n",
            "dtype: int64\n",
            "---Duplicated Data---\n",
            "0\n",
            "---Data Desc---\n",
            "       payment_sequential  payment_installments  payment_value\n",
            "count       103886.000000         103886.000000  103886.000000\n",
            "mean             1.092679              2.853349     154.100380\n",
            "std              0.706584              2.687051     217.494064\n",
            "min              1.000000              0.000000       0.000000\n",
            "25%              1.000000              1.000000      56.790000\n",
            "50%              1.000000              1.000000     100.000000\n",
            "75%              1.000000              4.000000     171.837500\n",
            "max             29.000000             24.000000   13664.080000\n",
            "###Sellers###\n",
            "---Missing Data---\n",
            "seller_id                 0\n",
            "seller_zip_code_prefix    0\n",
            "seller_city               0\n",
            "seller_state              0\n",
            "dtype: int64\n",
            "---Duplicated Data---\n",
            "0\n",
            "---Data Desc---\n",
            "       seller_zip_code_prefix\n",
            "count             3095.000000\n",
            "mean             32291.059451\n",
            "std              32713.453830\n",
            "min               1001.000000\n",
            "25%               7093.500000\n",
            "50%              14940.000000\n",
            "75%              64552.500000\n",
            "max              99730.000000\n",
            "###Products###\n",
            "---Missing Data---\n",
            "product_id                      0\n",
            "product_category_name         610\n",
            "product_name_lenght           610\n",
            "product_description_lenght    610\n",
            "product_photos_qty            610\n",
            "product_weight_g                2\n",
            "product_length_cm               2\n",
            "product_height_cm               2\n",
            "product_width_cm                2\n",
            "dtype: int64\n",
            "---Duplicated Data---\n",
            "0\n",
            "---Data Desc---\n",
            "       product_name_lenght  product_description_lenght  product_photos_qty  \\\n",
            "count         32341.000000                32341.000000        32341.000000   \n",
            "mean             48.476949                  771.495285            2.188986   \n",
            "std              10.245741                  635.115225            1.736766   \n",
            "min               5.000000                    4.000000            1.000000   \n",
            "25%              42.000000                  339.000000            1.000000   \n",
            "50%              51.000000                  595.000000            1.000000   \n",
            "75%              57.000000                  972.000000            3.000000   \n",
            "max              76.000000                 3992.000000           20.000000   \n",
            "\n",
            "       product_weight_g  product_length_cm  product_height_cm  \\\n",
            "count      32949.000000       32949.000000       32949.000000   \n",
            "mean        2276.472488          30.815078          16.937661   \n",
            "std         4282.038731          16.914458          13.637554   \n",
            "min            0.000000           7.000000           2.000000   \n",
            "25%          300.000000          18.000000           8.000000   \n",
            "50%          700.000000          25.000000          13.000000   \n",
            "75%         1900.000000          38.000000          21.000000   \n",
            "max        40425.000000         105.000000         105.000000   \n",
            "\n",
            "       product_width_cm  \n",
            "count      32949.000000  \n",
            "mean          23.196728  \n",
            "std           12.079047  \n",
            "min            6.000000  \n",
            "25%           15.000000  \n",
            "50%           20.000000  \n",
            "75%           30.000000  \n",
            "max          118.000000  \n",
            "###Translated Product###\n",
            "---Missing Data---\n",
            "product_category_name            0\n",
            "product_category_name_english    0\n",
            "dtype: int64\n",
            "---Duplicated Data---\n",
            "0\n",
            "---Data Desc---\n",
            "       product_category_name product_category_name_english\n",
            "count                     71                            71\n",
            "unique                    71                            71\n",
            "top             beleza_saude                 health_beauty\n",
            "freq                       1                             1\n"
          ]
        }
      ],
      "source": [
        "for data in df_list:\n",
        "    print(f\"###{data.name}###\")\n",
        "    print(\"---Missing Data---\")\n",
        "    print(data.isna().sum())\n",
        "\n",
        "    print(\"---Duplicated Data---\")\n",
        "    print(data.duplicated().sum())\n",
        "\n",
        "    print(\"---Data Desc---\")\n",
        "    print(data.describe())"
      ]
    },
    {
      "cell_type": "markdown",
      "metadata": {
        "id": "stzwQES60rw4"
      },
      "source": [
        "##Data Cleaning"
      ]
    },
    {
      "cell_type": "code",
      "execution_count": null,
      "metadata": {
        "id": "LrfWtVTU0rw4",
        "outputId": "dd576a27-dd16-41a6-a060-335ee9f43532"
      },
      "outputs": [
        {
          "name": "stdout",
          "output_type": "stream",
          "text": [
            "###Customers###\n",
            "0\n",
            "0\n",
            "###Orders###\n",
            "0\n",
            "0\n",
            "###Geolocations###\n",
            "261831\n",
            "0\n",
            "###Order Items###\n",
            "0\n",
            "0\n",
            "###Order Payments###\n",
            "0\n",
            "0\n",
            "###Sellers###\n",
            "0\n",
            "0\n",
            "###Products###\n",
            "0\n",
            "0\n",
            "###Translated Product###\n",
            "0\n",
            "0\n"
          ]
        }
      ],
      "source": [
        "#Duplicated Data\n",
        "\n",
        "for data in df_list:\n",
        "    print(f\"###{data.name}###\")\n",
        "    print(data.duplicated().sum())\n",
        "    data.drop_duplicates(inplace=True)\n",
        "    print(data.duplicated().sum())"
      ]
    },
    {
      "cell_type": "code",
      "execution_count": null,
      "metadata": {
        "id": "BezZ1WY90rw4",
        "outputId": "8418f9b7-fe63-415e-d61d-418906da992b"
      },
      "outputs": [
        {
          "data": {
            "text/plain": [
              "delivered      96478\n",
              "shipped         1107\n",
              "canceled         625\n",
              "unavailable      609\n",
              "invoiced         314\n",
              "processing       301\n",
              "created            5\n",
              "approved           2\n",
              "Name: order_status, dtype: int64"
            ]
          },
          "execution_count": 7,
          "metadata": {},
          "output_type": "execute_result"
        }
      ],
      "source": [
        "#Order missing value\n",
        "# order_approved_at                 160\n",
        "# order_delivered_carrier_date     1783\n",
        "# order_delivered_customer_date    2965\n",
        "orders_df.order_status.value_counts()\n"
      ]
    },
    {
      "cell_type": "code",
      "execution_count": null,
      "metadata": {
        "id": "8_cYGU_Y0rw4",
        "outputId": "83bd6ba5-e473-4bc3-c507-c3142b5325cc"
      },
      "outputs": [
        {
          "data": {
            "text/plain": [
              "canceled     141\n",
              "delivered     14\n",
              "created        5\n",
              "Name: order_status, dtype: int64"
            ]
          },
          "execution_count": 8,
          "metadata": {},
          "output_type": "execute_result"
        }
      ],
      "source": [
        "#checking approved and delivered order but missing value\n",
        "def order_approvement_missing():\n",
        "    order_approved_null_status = orders_df[orders_df[\"order_approved_at\"].isna() & orders_df[\"order_status\"]]\n",
        "    return order_approved_null_status.order_status.value_counts()\n",
        "\n",
        "order_approvement_missing()"
      ]
    },
    {
      "cell_type": "code",
      "execution_count": null,
      "metadata": {
        "id": "CD3czbT90rw4"
      },
      "outputs": [],
      "source": [
        "#Convert to datetime\n",
        "datetime_column = [\"order_purchase_timestamp\", \"order_approved_at\", \"order_delivered_carrier_date\", \"order_delivered_customer_date\", \"order_delivered_customer_date\", \"order_estimated_delivery_date\"]\n",
        "for column in datetime_column:\n",
        "    orders_df[column] = pd.to_datetime(orders_df[column], errors=\"coerce\")"
      ]
    },
    {
      "cell_type": "code",
      "execution_count": null,
      "metadata": {
        "id": "-g3z0HCn0rw5",
        "outputId": "976ff7d3-4cbb-4123-b286-61c15a8a3e57"
      },
      "outputs": [
        {
          "name": "stdout",
          "output_type": "stream",
          "text": [
            "0 days 10:16:36.361243572\n"
          ]
        }
      ],
      "source": [
        "#get average approvement time\n",
        "approved_notna = (orders_df[\"order_approved_at\"].notna() &  orders_df[\"order_purchase_timestamp\"].notna()\n",
        "                  & (orders_df[\"order_status\"] == \"delivered\")\n",
        "                  )\n",
        "order_approvement_delay = (orders_df.loc[approved_notna, \"order_approved_at\"] - orders_df.loc[approved_notna, \"order_purchase_timestamp\"])\n",
        "avg_approvement = order_approvement_delay.mean()\n",
        "print(avg_approvement)"
      ]
    },
    {
      "cell_type": "code",
      "execution_count": null,
      "metadata": {
        "id": "x6_LPrJt0rw5",
        "outputId": "ac899f9a-80a6-446e-ea26-ed04b0bf4149"
      },
      "outputs": [
        {
          "data": {
            "text/plain": [
              "order_id                         0a93b40850d3f4becf2f276666e01340\n",
              "customer_id                      a70076d8d4bfce15f8081951c43bf187\n",
              "order_status                                            delivered\n",
              "order_purchase_timestamp                      2018-01-20 14:24:50\n",
              "order_approved_at                             2018-02-20 11:51:27\n",
              "order_delivered_carrier_date                  2018-02-21 19:34:13\n",
              "order_delivered_customer_date                 2018-03-02 22:37:49\n",
              "order_estimated_delivery_date                 2018-02-23 00:00:00\n",
              "Name: 96251, dtype: object"
            ]
          },
          "execution_count": 11,
          "metadata": {},
          "output_type": "execute_result"
        }
      ],
      "source": [
        "orders_df.loc[order_approvement_delay.idxmax()]"
      ]
    },
    {
      "cell_type": "code",
      "execution_count": null,
      "metadata": {
        "id": "ri0SFjPV0rw5",
        "outputId": "0fad4945-12ce-41c7-d7f6-9352821e5d26"
      },
      "outputs": [
        {
          "data": {
            "text/html": [
              "<div>\n",
              "<style scoped>\n",
              "    .dataframe tbody tr th:only-of-type {\n",
              "        vertical-align: middle;\n",
              "    }\n",
              "\n",
              "    .dataframe tbody tr th {\n",
              "        vertical-align: top;\n",
              "    }\n",
              "\n",
              "    .dataframe thead th {\n",
              "        text-align: right;\n",
              "    }\n",
              "</style>\n",
              "<table border=\"1\" class=\"dataframe\">\n",
              "  <thead>\n",
              "    <tr style=\"text-align: right;\">\n",
              "      <th></th>\n",
              "      <th>order_id</th>\n",
              "      <th>customer_id</th>\n",
              "      <th>order_status</th>\n",
              "      <th>order_purchase_timestamp</th>\n",
              "      <th>order_approved_at</th>\n",
              "      <th>order_delivered_carrier_date</th>\n",
              "      <th>order_delivered_customer_date</th>\n",
              "      <th>order_estimated_delivery_date</th>\n",
              "    </tr>\n",
              "  </thead>\n",
              "  <tbody>\n",
              "    <tr>\n",
              "      <th>5323</th>\n",
              "      <td>e04abd8149ef81b95221e88f6ed9ab6a</td>\n",
              "      <td>2127dc6603ac33544953ef05ec155771</td>\n",
              "      <td>delivered</td>\n",
              "      <td>2017-02-18 14:40:00</td>\n",
              "      <td>NaT</td>\n",
              "      <td>2017-02-23 12:04:47</td>\n",
              "      <td>2017-03-01 13:25:33</td>\n",
              "      <td>2017-03-17</td>\n",
              "    </tr>\n",
              "    <tr>\n",
              "      <th>16567</th>\n",
              "      <td>8a9adc69528e1001fc68dd0aaebbb54a</td>\n",
              "      <td>4c1ccc74e00993733742a3c786dc3c1f</td>\n",
              "      <td>delivered</td>\n",
              "      <td>2017-02-18 12:45:31</td>\n",
              "      <td>NaT</td>\n",
              "      <td>2017-02-23 09:01:52</td>\n",
              "      <td>2017-03-02 10:05:06</td>\n",
              "      <td>2017-03-21</td>\n",
              "    </tr>\n",
              "    <tr>\n",
              "      <th>19031</th>\n",
              "      <td>7013bcfc1c97fe719a7b5e05e61c12db</td>\n",
              "      <td>2941af76d38100e0f8740a374f1a5dc3</td>\n",
              "      <td>delivered</td>\n",
              "      <td>2017-02-18 13:29:47</td>\n",
              "      <td>NaT</td>\n",
              "      <td>2017-02-22 16:25:25</td>\n",
              "      <td>2017-03-01 08:07:38</td>\n",
              "      <td>2017-03-17</td>\n",
              "    </tr>\n",
              "    <tr>\n",
              "      <th>22663</th>\n",
              "      <td>5cf925b116421afa85ee25e99b4c34fb</td>\n",
              "      <td>29c35fc91fc13fb5073c8f30505d860d</td>\n",
              "      <td>delivered</td>\n",
              "      <td>2017-02-18 16:48:35</td>\n",
              "      <td>NaT</td>\n",
              "      <td>2017-02-22 11:23:10</td>\n",
              "      <td>2017-03-09 07:28:47</td>\n",
              "      <td>2017-03-31</td>\n",
              "    </tr>\n",
              "    <tr>\n",
              "      <th>23156</th>\n",
              "      <td>12a95a3c06dbaec84bcfb0e2da5d228a</td>\n",
              "      <td>1e101e0daffaddce8159d25a8e53f2b2</td>\n",
              "      <td>delivered</td>\n",
              "      <td>2017-02-17 13:05:55</td>\n",
              "      <td>NaT</td>\n",
              "      <td>2017-02-22 11:23:11</td>\n",
              "      <td>2017-03-02 11:09:19</td>\n",
              "      <td>2017-03-20</td>\n",
              "    </tr>\n",
              "    <tr>\n",
              "      <th>26800</th>\n",
              "      <td>c1d4211b3dae76144deccd6c74144a88</td>\n",
              "      <td>684cb238dc5b5d6366244e0e0776b450</td>\n",
              "      <td>delivered</td>\n",
              "      <td>2017-01-19 12:48:08</td>\n",
              "      <td>NaT</td>\n",
              "      <td>2017-01-25 14:56:50</td>\n",
              "      <td>2017-01-30 18:16:01</td>\n",
              "      <td>2017-03-01</td>\n",
              "    </tr>\n",
              "    <tr>\n",
              "      <th>38290</th>\n",
              "      <td>d69e5d356402adc8cf17e08b5033acfb</td>\n",
              "      <td>68d081753ad4fe22fc4d410a9eb1ca01</td>\n",
              "      <td>delivered</td>\n",
              "      <td>2017-02-19 01:28:47</td>\n",
              "      <td>NaT</td>\n",
              "      <td>2017-02-23 03:11:48</td>\n",
              "      <td>2017-03-02 03:41:58</td>\n",
              "      <td>2017-03-27</td>\n",
              "    </tr>\n",
              "    <tr>\n",
              "      <th>39334</th>\n",
              "      <td>d77031d6a3c8a52f019764e68f211c69</td>\n",
              "      <td>0bf35cac6cc7327065da879e2d90fae8</td>\n",
              "      <td>delivered</td>\n",
              "      <td>2017-02-18 11:04:19</td>\n",
              "      <td>NaT</td>\n",
              "      <td>2017-02-23 07:23:36</td>\n",
              "      <td>2017-03-02 16:15:23</td>\n",
              "      <td>2017-03-22</td>\n",
              "    </tr>\n",
              "    <tr>\n",
              "      <th>48401</th>\n",
              "      <td>7002a78c79c519ac54022d4f8a65e6e8</td>\n",
              "      <td>d5de688c321096d15508faae67a27051</td>\n",
              "      <td>delivered</td>\n",
              "      <td>2017-01-19 22:26:59</td>\n",
              "      <td>NaT</td>\n",
              "      <td>2017-01-27 11:08:05</td>\n",
              "      <td>2017-02-06 14:22:19</td>\n",
              "      <td>2017-03-16</td>\n",
              "    </tr>\n",
              "    <tr>\n",
              "      <th>61743</th>\n",
              "      <td>2eecb0d85f281280f79fa00f9cec1a95</td>\n",
              "      <td>a3d3c38e58b9d2dfb9207cab690b6310</td>\n",
              "      <td>delivered</td>\n",
              "      <td>2017-02-17 17:21:55</td>\n",
              "      <td>NaT</td>\n",
              "      <td>2017-02-22 11:42:51</td>\n",
              "      <td>2017-03-03 12:16:03</td>\n",
              "      <td>2017-03-20</td>\n",
              "    </tr>\n",
              "    <tr>\n",
              "      <th>63052</th>\n",
              "      <td>51eb2eebd5d76a24625b31c33dd41449</td>\n",
              "      <td>07a2a7e0f63fd8cb757ed77d4245623c</td>\n",
              "      <td>delivered</td>\n",
              "      <td>2017-02-18 15:52:27</td>\n",
              "      <td>NaT</td>\n",
              "      <td>2017-02-23 03:09:14</td>\n",
              "      <td>2017-03-07 13:57:47</td>\n",
              "      <td>2017-03-29</td>\n",
              "    </tr>\n",
              "    <tr>\n",
              "      <th>67697</th>\n",
              "      <td>88083e8f64d95b932164187484d90212</td>\n",
              "      <td>f67cd1a215aae2a1074638bbd35a223a</td>\n",
              "      <td>delivered</td>\n",
              "      <td>2017-02-18 22:49:19</td>\n",
              "      <td>NaT</td>\n",
              "      <td>2017-02-22 11:31:06</td>\n",
              "      <td>2017-03-02 12:06:06</td>\n",
              "      <td>2017-03-21</td>\n",
              "    </tr>\n",
              "    <tr>\n",
              "      <th>72407</th>\n",
              "      <td>3c0b8706b065f9919d0505d3b3343881</td>\n",
              "      <td>d85919cb3c0529589c6fa617f5f43281</td>\n",
              "      <td>delivered</td>\n",
              "      <td>2017-02-17 15:53:27</td>\n",
              "      <td>NaT</td>\n",
              "      <td>2017-02-22 11:31:30</td>\n",
              "      <td>2017-03-03 11:47:47</td>\n",
              "      <td>2017-03-23</td>\n",
              "    </tr>\n",
              "    <tr>\n",
              "      <th>84999</th>\n",
              "      <td>2babbb4b15e6d2dfe95e2de765c97bce</td>\n",
              "      <td>74bebaf46603f9340e3b50c6b086f992</td>\n",
              "      <td>delivered</td>\n",
              "      <td>2017-02-18 17:15:03</td>\n",
              "      <td>NaT</td>\n",
              "      <td>2017-02-22 11:23:11</td>\n",
              "      <td>2017-03-03 18:43:43</td>\n",
              "      <td>2017-03-31</td>\n",
              "    </tr>\n",
              "  </tbody>\n",
              "</table>\n",
              "</div>"
            ],
            "text/plain": [
              "                               order_id                       customer_id  \\\n",
              "5323   e04abd8149ef81b95221e88f6ed9ab6a  2127dc6603ac33544953ef05ec155771   \n",
              "16567  8a9adc69528e1001fc68dd0aaebbb54a  4c1ccc74e00993733742a3c786dc3c1f   \n",
              "19031  7013bcfc1c97fe719a7b5e05e61c12db  2941af76d38100e0f8740a374f1a5dc3   \n",
              "22663  5cf925b116421afa85ee25e99b4c34fb  29c35fc91fc13fb5073c8f30505d860d   \n",
              "23156  12a95a3c06dbaec84bcfb0e2da5d228a  1e101e0daffaddce8159d25a8e53f2b2   \n",
              "26800  c1d4211b3dae76144deccd6c74144a88  684cb238dc5b5d6366244e0e0776b450   \n",
              "38290  d69e5d356402adc8cf17e08b5033acfb  68d081753ad4fe22fc4d410a9eb1ca01   \n",
              "39334  d77031d6a3c8a52f019764e68f211c69  0bf35cac6cc7327065da879e2d90fae8   \n",
              "48401  7002a78c79c519ac54022d4f8a65e6e8  d5de688c321096d15508faae67a27051   \n",
              "61743  2eecb0d85f281280f79fa00f9cec1a95  a3d3c38e58b9d2dfb9207cab690b6310   \n",
              "63052  51eb2eebd5d76a24625b31c33dd41449  07a2a7e0f63fd8cb757ed77d4245623c   \n",
              "67697  88083e8f64d95b932164187484d90212  f67cd1a215aae2a1074638bbd35a223a   \n",
              "72407  3c0b8706b065f9919d0505d3b3343881  d85919cb3c0529589c6fa617f5f43281   \n",
              "84999  2babbb4b15e6d2dfe95e2de765c97bce  74bebaf46603f9340e3b50c6b086f992   \n",
              "\n",
              "      order_status order_purchase_timestamp order_approved_at  \\\n",
              "5323     delivered      2017-02-18 14:40:00               NaT   \n",
              "16567    delivered      2017-02-18 12:45:31               NaT   \n",
              "19031    delivered      2017-02-18 13:29:47               NaT   \n",
              "22663    delivered      2017-02-18 16:48:35               NaT   \n",
              "23156    delivered      2017-02-17 13:05:55               NaT   \n",
              "26800    delivered      2017-01-19 12:48:08               NaT   \n",
              "38290    delivered      2017-02-19 01:28:47               NaT   \n",
              "39334    delivered      2017-02-18 11:04:19               NaT   \n",
              "48401    delivered      2017-01-19 22:26:59               NaT   \n",
              "61743    delivered      2017-02-17 17:21:55               NaT   \n",
              "63052    delivered      2017-02-18 15:52:27               NaT   \n",
              "67697    delivered      2017-02-18 22:49:19               NaT   \n",
              "72407    delivered      2017-02-17 15:53:27               NaT   \n",
              "84999    delivered      2017-02-18 17:15:03               NaT   \n",
              "\n",
              "      order_delivered_carrier_date order_delivered_customer_date  \\\n",
              "5323           2017-02-23 12:04:47           2017-03-01 13:25:33   \n",
              "16567          2017-02-23 09:01:52           2017-03-02 10:05:06   \n",
              "19031          2017-02-22 16:25:25           2017-03-01 08:07:38   \n",
              "22663          2017-02-22 11:23:10           2017-03-09 07:28:47   \n",
              "23156          2017-02-22 11:23:11           2017-03-02 11:09:19   \n",
              "26800          2017-01-25 14:56:50           2017-01-30 18:16:01   \n",
              "38290          2017-02-23 03:11:48           2017-03-02 03:41:58   \n",
              "39334          2017-02-23 07:23:36           2017-03-02 16:15:23   \n",
              "48401          2017-01-27 11:08:05           2017-02-06 14:22:19   \n",
              "61743          2017-02-22 11:42:51           2017-03-03 12:16:03   \n",
              "63052          2017-02-23 03:09:14           2017-03-07 13:57:47   \n",
              "67697          2017-02-22 11:31:06           2017-03-02 12:06:06   \n",
              "72407          2017-02-22 11:31:30           2017-03-03 11:47:47   \n",
              "84999          2017-02-22 11:23:11           2017-03-03 18:43:43   \n",
              "\n",
              "      order_estimated_delivery_date  \n",
              "5323                     2017-03-17  \n",
              "16567                    2017-03-21  \n",
              "19031                    2017-03-17  \n",
              "22663                    2017-03-31  \n",
              "23156                    2017-03-20  \n",
              "26800                    2017-03-01  \n",
              "38290                    2017-03-27  \n",
              "39334                    2017-03-22  \n",
              "48401                    2017-03-16  \n",
              "61743                    2017-03-20  \n",
              "63052                    2017-03-29  \n",
              "67697                    2017-03-21  \n",
              "72407                    2017-03-23  \n",
              "84999                    2017-03-31  "
            ]
          },
          "execution_count": 12,
          "metadata": {},
          "output_type": "execute_result"
        }
      ],
      "source": [
        "delivered_missing_approvement = (((orders_df[\"order_status\"] == \"delivered\") | (orders_df[\"order_status\"] == \"canceled\") ) & (orders_df[\"order_approved_at\"].isna()) & (orders_df[\"order_purchase_timestamp\"]+avg_approvement < orders_df[\"order_delivered_carrier_date\"]))\n",
        "\n",
        "orders_df.loc[delivered_missing_approvement]"
      ]
    },
    {
      "cell_type": "code",
      "execution_count": null,
      "metadata": {
        "id": "KloPLHKT0rw5"
      },
      "outputs": [],
      "source": [
        "orders_df.loc[delivered_missing_approvement, \"order_approved_at\"] = (orders_df.loc[delivered_missing_approvement, \"order_purchase_timestamp\"]+avg_approvement).dt.floor(\"S\")"
      ]
    },
    {
      "cell_type": "code",
      "execution_count": null,
      "metadata": {
        "id": "UFM6vO8m0rw5",
        "outputId": "492a09ab-e415-491c-fc6f-1c0b17033b49"
      },
      "outputs": [
        {
          "data": {
            "text/html": [
              "<div>\n",
              "<style scoped>\n",
              "    .dataframe tbody tr th:only-of-type {\n",
              "        vertical-align: middle;\n",
              "    }\n",
              "\n",
              "    .dataframe tbody tr th {\n",
              "        vertical-align: top;\n",
              "    }\n",
              "\n",
              "    .dataframe thead th {\n",
              "        text-align: right;\n",
              "    }\n",
              "</style>\n",
              "<table border=\"1\" class=\"dataframe\">\n",
              "  <thead>\n",
              "    <tr style=\"text-align: right;\">\n",
              "      <th></th>\n",
              "      <th>order_id</th>\n",
              "      <th>customer_id</th>\n",
              "      <th>order_status</th>\n",
              "      <th>order_purchase_timestamp</th>\n",
              "      <th>order_approved_at</th>\n",
              "      <th>order_delivered_carrier_date</th>\n",
              "      <th>order_delivered_customer_date</th>\n",
              "      <th>order_estimated_delivery_date</th>\n",
              "    </tr>\n",
              "  </thead>\n",
              "  <tbody>\n",
              "    <tr>\n",
              "      <th>5323</th>\n",
              "      <td>e04abd8149ef81b95221e88f6ed9ab6a</td>\n",
              "      <td>2127dc6603ac33544953ef05ec155771</td>\n",
              "      <td>delivered</td>\n",
              "      <td>2017-02-18 14:40:00</td>\n",
              "      <td>2017-02-19 00:56:36</td>\n",
              "      <td>2017-02-23 12:04:47</td>\n",
              "      <td>2017-03-01 13:25:33</td>\n",
              "      <td>2017-03-17</td>\n",
              "    </tr>\n",
              "    <tr>\n",
              "      <th>16567</th>\n",
              "      <td>8a9adc69528e1001fc68dd0aaebbb54a</td>\n",
              "      <td>4c1ccc74e00993733742a3c786dc3c1f</td>\n",
              "      <td>delivered</td>\n",
              "      <td>2017-02-18 12:45:31</td>\n",
              "      <td>2017-02-18 23:02:07</td>\n",
              "      <td>2017-02-23 09:01:52</td>\n",
              "      <td>2017-03-02 10:05:06</td>\n",
              "      <td>2017-03-21</td>\n",
              "    </tr>\n",
              "    <tr>\n",
              "      <th>19031</th>\n",
              "      <td>7013bcfc1c97fe719a7b5e05e61c12db</td>\n",
              "      <td>2941af76d38100e0f8740a374f1a5dc3</td>\n",
              "      <td>delivered</td>\n",
              "      <td>2017-02-18 13:29:47</td>\n",
              "      <td>2017-02-18 23:46:23</td>\n",
              "      <td>2017-02-22 16:25:25</td>\n",
              "      <td>2017-03-01 08:07:38</td>\n",
              "      <td>2017-03-17</td>\n",
              "    </tr>\n",
              "    <tr>\n",
              "      <th>22663</th>\n",
              "      <td>5cf925b116421afa85ee25e99b4c34fb</td>\n",
              "      <td>29c35fc91fc13fb5073c8f30505d860d</td>\n",
              "      <td>delivered</td>\n",
              "      <td>2017-02-18 16:48:35</td>\n",
              "      <td>2017-02-19 03:05:11</td>\n",
              "      <td>2017-02-22 11:23:10</td>\n",
              "      <td>2017-03-09 07:28:47</td>\n",
              "      <td>2017-03-31</td>\n",
              "    </tr>\n",
              "    <tr>\n",
              "      <th>23156</th>\n",
              "      <td>12a95a3c06dbaec84bcfb0e2da5d228a</td>\n",
              "      <td>1e101e0daffaddce8159d25a8e53f2b2</td>\n",
              "      <td>delivered</td>\n",
              "      <td>2017-02-17 13:05:55</td>\n",
              "      <td>2017-02-17 23:22:31</td>\n",
              "      <td>2017-02-22 11:23:11</td>\n",
              "      <td>2017-03-02 11:09:19</td>\n",
              "      <td>2017-03-20</td>\n",
              "    </tr>\n",
              "    <tr>\n",
              "      <th>26800</th>\n",
              "      <td>c1d4211b3dae76144deccd6c74144a88</td>\n",
              "      <td>684cb238dc5b5d6366244e0e0776b450</td>\n",
              "      <td>delivered</td>\n",
              "      <td>2017-01-19 12:48:08</td>\n",
              "      <td>2017-01-19 23:04:44</td>\n",
              "      <td>2017-01-25 14:56:50</td>\n",
              "      <td>2017-01-30 18:16:01</td>\n",
              "      <td>2017-03-01</td>\n",
              "    </tr>\n",
              "    <tr>\n",
              "      <th>38290</th>\n",
              "      <td>d69e5d356402adc8cf17e08b5033acfb</td>\n",
              "      <td>68d081753ad4fe22fc4d410a9eb1ca01</td>\n",
              "      <td>delivered</td>\n",
              "      <td>2017-02-19 01:28:47</td>\n",
              "      <td>2017-02-19 11:45:23</td>\n",
              "      <td>2017-02-23 03:11:48</td>\n",
              "      <td>2017-03-02 03:41:58</td>\n",
              "      <td>2017-03-27</td>\n",
              "    </tr>\n",
              "    <tr>\n",
              "      <th>39334</th>\n",
              "      <td>d77031d6a3c8a52f019764e68f211c69</td>\n",
              "      <td>0bf35cac6cc7327065da879e2d90fae8</td>\n",
              "      <td>delivered</td>\n",
              "      <td>2017-02-18 11:04:19</td>\n",
              "      <td>2017-02-18 21:20:55</td>\n",
              "      <td>2017-02-23 07:23:36</td>\n",
              "      <td>2017-03-02 16:15:23</td>\n",
              "      <td>2017-03-22</td>\n",
              "    </tr>\n",
              "    <tr>\n",
              "      <th>48401</th>\n",
              "      <td>7002a78c79c519ac54022d4f8a65e6e8</td>\n",
              "      <td>d5de688c321096d15508faae67a27051</td>\n",
              "      <td>delivered</td>\n",
              "      <td>2017-01-19 22:26:59</td>\n",
              "      <td>2017-01-20 08:43:35</td>\n",
              "      <td>2017-01-27 11:08:05</td>\n",
              "      <td>2017-02-06 14:22:19</td>\n",
              "      <td>2017-03-16</td>\n",
              "    </tr>\n",
              "    <tr>\n",
              "      <th>61743</th>\n",
              "      <td>2eecb0d85f281280f79fa00f9cec1a95</td>\n",
              "      <td>a3d3c38e58b9d2dfb9207cab690b6310</td>\n",
              "      <td>delivered</td>\n",
              "      <td>2017-02-17 17:21:55</td>\n",
              "      <td>2017-02-18 03:38:31</td>\n",
              "      <td>2017-02-22 11:42:51</td>\n",
              "      <td>2017-03-03 12:16:03</td>\n",
              "      <td>2017-03-20</td>\n",
              "    </tr>\n",
              "    <tr>\n",
              "      <th>63052</th>\n",
              "      <td>51eb2eebd5d76a24625b31c33dd41449</td>\n",
              "      <td>07a2a7e0f63fd8cb757ed77d4245623c</td>\n",
              "      <td>delivered</td>\n",
              "      <td>2017-02-18 15:52:27</td>\n",
              "      <td>2017-02-19 02:09:03</td>\n",
              "      <td>2017-02-23 03:09:14</td>\n",
              "      <td>2017-03-07 13:57:47</td>\n",
              "      <td>2017-03-29</td>\n",
              "    </tr>\n",
              "    <tr>\n",
              "      <th>67697</th>\n",
              "      <td>88083e8f64d95b932164187484d90212</td>\n",
              "      <td>f67cd1a215aae2a1074638bbd35a223a</td>\n",
              "      <td>delivered</td>\n",
              "      <td>2017-02-18 22:49:19</td>\n",
              "      <td>2017-02-19 09:05:55</td>\n",
              "      <td>2017-02-22 11:31:06</td>\n",
              "      <td>2017-03-02 12:06:06</td>\n",
              "      <td>2017-03-21</td>\n",
              "    </tr>\n",
              "    <tr>\n",
              "      <th>72407</th>\n",
              "      <td>3c0b8706b065f9919d0505d3b3343881</td>\n",
              "      <td>d85919cb3c0529589c6fa617f5f43281</td>\n",
              "      <td>delivered</td>\n",
              "      <td>2017-02-17 15:53:27</td>\n",
              "      <td>2017-02-18 02:10:03</td>\n",
              "      <td>2017-02-22 11:31:30</td>\n",
              "      <td>2017-03-03 11:47:47</td>\n",
              "      <td>2017-03-23</td>\n",
              "    </tr>\n",
              "    <tr>\n",
              "      <th>84999</th>\n",
              "      <td>2babbb4b15e6d2dfe95e2de765c97bce</td>\n",
              "      <td>74bebaf46603f9340e3b50c6b086f992</td>\n",
              "      <td>delivered</td>\n",
              "      <td>2017-02-18 17:15:03</td>\n",
              "      <td>2017-02-19 03:31:39</td>\n",
              "      <td>2017-02-22 11:23:11</td>\n",
              "      <td>2017-03-03 18:43:43</td>\n",
              "      <td>2017-03-31</td>\n",
              "    </tr>\n",
              "  </tbody>\n",
              "</table>\n",
              "</div>"
            ],
            "text/plain": [
              "                               order_id                       customer_id  \\\n",
              "5323   e04abd8149ef81b95221e88f6ed9ab6a  2127dc6603ac33544953ef05ec155771   \n",
              "16567  8a9adc69528e1001fc68dd0aaebbb54a  4c1ccc74e00993733742a3c786dc3c1f   \n",
              "19031  7013bcfc1c97fe719a7b5e05e61c12db  2941af76d38100e0f8740a374f1a5dc3   \n",
              "22663  5cf925b116421afa85ee25e99b4c34fb  29c35fc91fc13fb5073c8f30505d860d   \n",
              "23156  12a95a3c06dbaec84bcfb0e2da5d228a  1e101e0daffaddce8159d25a8e53f2b2   \n",
              "26800  c1d4211b3dae76144deccd6c74144a88  684cb238dc5b5d6366244e0e0776b450   \n",
              "38290  d69e5d356402adc8cf17e08b5033acfb  68d081753ad4fe22fc4d410a9eb1ca01   \n",
              "39334  d77031d6a3c8a52f019764e68f211c69  0bf35cac6cc7327065da879e2d90fae8   \n",
              "48401  7002a78c79c519ac54022d4f8a65e6e8  d5de688c321096d15508faae67a27051   \n",
              "61743  2eecb0d85f281280f79fa00f9cec1a95  a3d3c38e58b9d2dfb9207cab690b6310   \n",
              "63052  51eb2eebd5d76a24625b31c33dd41449  07a2a7e0f63fd8cb757ed77d4245623c   \n",
              "67697  88083e8f64d95b932164187484d90212  f67cd1a215aae2a1074638bbd35a223a   \n",
              "72407  3c0b8706b065f9919d0505d3b3343881  d85919cb3c0529589c6fa617f5f43281   \n",
              "84999  2babbb4b15e6d2dfe95e2de765c97bce  74bebaf46603f9340e3b50c6b086f992   \n",
              "\n",
              "      order_status order_purchase_timestamp   order_approved_at  \\\n",
              "5323     delivered      2017-02-18 14:40:00 2017-02-19 00:56:36   \n",
              "16567    delivered      2017-02-18 12:45:31 2017-02-18 23:02:07   \n",
              "19031    delivered      2017-02-18 13:29:47 2017-02-18 23:46:23   \n",
              "22663    delivered      2017-02-18 16:48:35 2017-02-19 03:05:11   \n",
              "23156    delivered      2017-02-17 13:05:55 2017-02-17 23:22:31   \n",
              "26800    delivered      2017-01-19 12:48:08 2017-01-19 23:04:44   \n",
              "38290    delivered      2017-02-19 01:28:47 2017-02-19 11:45:23   \n",
              "39334    delivered      2017-02-18 11:04:19 2017-02-18 21:20:55   \n",
              "48401    delivered      2017-01-19 22:26:59 2017-01-20 08:43:35   \n",
              "61743    delivered      2017-02-17 17:21:55 2017-02-18 03:38:31   \n",
              "63052    delivered      2017-02-18 15:52:27 2017-02-19 02:09:03   \n",
              "67697    delivered      2017-02-18 22:49:19 2017-02-19 09:05:55   \n",
              "72407    delivered      2017-02-17 15:53:27 2017-02-18 02:10:03   \n",
              "84999    delivered      2017-02-18 17:15:03 2017-02-19 03:31:39   \n",
              "\n",
              "      order_delivered_carrier_date order_delivered_customer_date  \\\n",
              "5323           2017-02-23 12:04:47           2017-03-01 13:25:33   \n",
              "16567          2017-02-23 09:01:52           2017-03-02 10:05:06   \n",
              "19031          2017-02-22 16:25:25           2017-03-01 08:07:38   \n",
              "22663          2017-02-22 11:23:10           2017-03-09 07:28:47   \n",
              "23156          2017-02-22 11:23:11           2017-03-02 11:09:19   \n",
              "26800          2017-01-25 14:56:50           2017-01-30 18:16:01   \n",
              "38290          2017-02-23 03:11:48           2017-03-02 03:41:58   \n",
              "39334          2017-02-23 07:23:36           2017-03-02 16:15:23   \n",
              "48401          2017-01-27 11:08:05           2017-02-06 14:22:19   \n",
              "61743          2017-02-22 11:42:51           2017-03-03 12:16:03   \n",
              "63052          2017-02-23 03:09:14           2017-03-07 13:57:47   \n",
              "67697          2017-02-22 11:31:06           2017-03-02 12:06:06   \n",
              "72407          2017-02-22 11:31:30           2017-03-03 11:47:47   \n",
              "84999          2017-02-22 11:23:11           2017-03-03 18:43:43   \n",
              "\n",
              "      order_estimated_delivery_date  \n",
              "5323                     2017-03-17  \n",
              "16567                    2017-03-21  \n",
              "19031                    2017-03-17  \n",
              "22663                    2017-03-31  \n",
              "23156                    2017-03-20  \n",
              "26800                    2017-03-01  \n",
              "38290                    2017-03-27  \n",
              "39334                    2017-03-22  \n",
              "48401                    2017-03-16  \n",
              "61743                    2017-03-20  \n",
              "63052                    2017-03-29  \n",
              "67697                    2017-03-21  \n",
              "72407                    2017-03-23  \n",
              "84999                    2017-03-31  "
            ]
          },
          "execution_count": 14,
          "metadata": {},
          "output_type": "execute_result"
        }
      ],
      "source": [
        "orders_df.loc[delivered_missing_approvement]"
      ]
    },
    {
      "cell_type": "code",
      "execution_count": null,
      "metadata": {
        "id": "0q3WUtt30rw5",
        "outputId": "69940ad0-7087-4d31-dc9b-ec728f089d96"
      },
      "outputs": [
        {
          "data": {
            "text/plain": [
              "canceled    141\n",
              "created       5\n",
              "Name: order_status, dtype: int64"
            ]
          },
          "execution_count": 15,
          "metadata": {},
          "output_type": "execute_result"
        }
      ],
      "source": [
        "order_approvement_missing()"
      ]
    },
    {
      "cell_type": "markdown",
      "metadata": {
        "id": "Y7d7EngO0rw5"
      },
      "source": [
        "Delivered but missing order_delivered_carrier_date and order_delivered_customer_date"
      ]
    },
    {
      "cell_type": "code",
      "execution_count": null,
      "metadata": {
        "id": "-QCNGVtC0rw5",
        "outputId": "47b1da79-3b1b-45c4-da37-d25a5b40cc27"
      },
      "outputs": [
        {
          "data": {
            "text/html": [
              "<div>\n",
              "<style scoped>\n",
              "    .dataframe tbody tr th:only-of-type {\n",
              "        vertical-align: middle;\n",
              "    }\n",
              "\n",
              "    .dataframe tbody tr th {\n",
              "        vertical-align: top;\n",
              "    }\n",
              "\n",
              "    .dataframe thead th {\n",
              "        text-align: right;\n",
              "    }\n",
              "</style>\n",
              "<table border=\"1\" class=\"dataframe\">\n",
              "  <thead>\n",
              "    <tr style=\"text-align: right;\">\n",
              "      <th></th>\n",
              "      <th>order_id</th>\n",
              "      <th>customer_id</th>\n",
              "      <th>order_status</th>\n",
              "      <th>order_purchase_timestamp</th>\n",
              "      <th>order_approved_at</th>\n",
              "      <th>order_delivered_carrier_date</th>\n",
              "      <th>order_delivered_customer_date</th>\n",
              "      <th>order_estimated_delivery_date</th>\n",
              "    </tr>\n",
              "  </thead>\n",
              "  <tbody>\n",
              "    <tr>\n",
              "      <th>92643</th>\n",
              "      <td>2d858f451373b04fb5c984a1cc2defaf</td>\n",
              "      <td>e08caf668d499a6d643dafd7c5cc498a</td>\n",
              "      <td>delivered</td>\n",
              "      <td>2017-05-25 23:22:43</td>\n",
              "      <td>2017-05-25 23:30:16</td>\n",
              "      <td>NaT</td>\n",
              "      <td>NaT</td>\n",
              "      <td>2017-06-23</td>\n",
              "    </tr>\n",
              "  </tbody>\n",
              "</table>\n",
              "</div>"
            ],
            "text/plain": [
              "                               order_id                       customer_id  \\\n",
              "92643  2d858f451373b04fb5c984a1cc2defaf  e08caf668d499a6d643dafd7c5cc498a   \n",
              "\n",
              "      order_status order_purchase_timestamp   order_approved_at  \\\n",
              "92643    delivered      2017-05-25 23:22:43 2017-05-25 23:30:16   \n",
              "\n",
              "      order_delivered_carrier_date order_delivered_customer_date  \\\n",
              "92643                          NaT                           NaT   \n",
              "\n",
              "      order_estimated_delivery_date  \n",
              "92643                    2017-06-23  "
            ]
          },
          "execution_count": 16,
          "metadata": {},
          "output_type": "execute_result"
        }
      ],
      "source": [
        "delivered_missing_carrier_customer = (orders_df[\"order_delivered_carrier_date\"].isna()\n",
        "                                      & orders_df[\"order_delivered_customer_date\"].isna()\n",
        "                                      & (orders_df[\"order_status\"] == \"delivered\"))\n",
        "\n",
        "orders_df.loc[delivered_missing_carrier_customer]"
      ]
    },
    {
      "cell_type": "code",
      "execution_count": null,
      "metadata": {
        "id": "y0GruYE80rw5",
        "outputId": "df36c077-e6f8-4a40-e8a3-0445aebc57e0"
      },
      "outputs": [
        {
          "data": {
            "text/plain": [
              "Timedelta('2 days 19:10:56.833666773')"
            ]
          },
          "execution_count": 17,
          "metadata": {},
          "output_type": "execute_result"
        }
      ],
      "source": [
        "#avg order_delivered_carrier_date\n",
        "\n",
        "delivered_notna =orders_df[orders_df[\"order_delivered_carrier_date\"].notna() & orders_df[\"order_delivered_customer_date\"].notna()\n",
        "                   & (orders_df[\"order_status\"] == \"delivered\")]\n",
        "\n",
        "order_delivered_carrier_date_delay = (delivered_notna[\"order_delivered_carrier_date\"] - delivered_notna[\"order_approved_at\"])\n",
        "\n",
        "avg_order_delivered_carrier_date =order_delivered_carrier_date_delay.mean()\n",
        "avg_order_delivered_carrier_date"
      ]
    },
    {
      "cell_type": "markdown",
      "metadata": {
        "id": "sGwqaFER0rw6"
      },
      "source": [
        "Assignin delivered order with missing approvement data"
      ]
    },
    {
      "cell_type": "code",
      "execution_count": null,
      "metadata": {
        "id": "-S8BuahB0rw6"
      },
      "outputs": [],
      "source": [
        "orders_df.loc[delivered_missing_carrier_customer, \"order_delivered_carrier_date\"] = (orders_df.loc[delivered_missing_carrier_customer, \"order_approved_at\"]+avg_order_delivered_carrier_date).dt.floor(\"S\")"
      ]
    },
    {
      "cell_type": "code",
      "execution_count": null,
      "metadata": {
        "id": "_ZFFykcz0rw6",
        "outputId": "69a38e48-835f-4c8a-916f-3cb80dcfa05d"
      },
      "outputs": [
        {
          "data": {
            "text/html": [
              "<div>\n",
              "<style scoped>\n",
              "    .dataframe tbody tr th:only-of-type {\n",
              "        vertical-align: middle;\n",
              "    }\n",
              "\n",
              "    .dataframe tbody tr th {\n",
              "        vertical-align: top;\n",
              "    }\n",
              "\n",
              "    .dataframe thead th {\n",
              "        text-align: right;\n",
              "    }\n",
              "</style>\n",
              "<table border=\"1\" class=\"dataframe\">\n",
              "  <thead>\n",
              "    <tr style=\"text-align: right;\">\n",
              "      <th></th>\n",
              "      <th>order_id</th>\n",
              "      <th>customer_id</th>\n",
              "      <th>order_status</th>\n",
              "      <th>order_purchase_timestamp</th>\n",
              "      <th>order_approved_at</th>\n",
              "      <th>order_delivered_carrier_date</th>\n",
              "      <th>order_delivered_customer_date</th>\n",
              "      <th>order_estimated_delivery_date</th>\n",
              "    </tr>\n",
              "  </thead>\n",
              "  <tbody>\n",
              "    <tr>\n",
              "      <th>92643</th>\n",
              "      <td>2d858f451373b04fb5c984a1cc2defaf</td>\n",
              "      <td>e08caf668d499a6d643dafd7c5cc498a</td>\n",
              "      <td>delivered</td>\n",
              "      <td>2017-05-25 23:22:43</td>\n",
              "      <td>2017-05-25 23:30:16</td>\n",
              "      <td>2017-05-28 18:41:12</td>\n",
              "      <td>NaT</td>\n",
              "      <td>2017-06-23</td>\n",
              "    </tr>\n",
              "  </tbody>\n",
              "</table>\n",
              "</div>"
            ],
            "text/plain": [
              "                               order_id                       customer_id  \\\n",
              "92643  2d858f451373b04fb5c984a1cc2defaf  e08caf668d499a6d643dafd7c5cc498a   \n",
              "\n",
              "      order_status order_purchase_timestamp   order_approved_at  \\\n",
              "92643    delivered      2017-05-25 23:22:43 2017-05-25 23:30:16   \n",
              "\n",
              "      order_delivered_carrier_date order_delivered_customer_date  \\\n",
              "92643          2017-05-28 18:41:12                           NaT   \n",
              "\n",
              "      order_estimated_delivery_date  \n",
              "92643                    2017-06-23  "
            ]
          },
          "execution_count": 19,
          "metadata": {},
          "output_type": "execute_result"
        }
      ],
      "source": [
        "orders_df.loc[delivered_missing_carrier_customer]"
      ]
    },
    {
      "cell_type": "code",
      "execution_count": null,
      "metadata": {
        "id": "PInMEikC0rw6",
        "outputId": "45daa242-25ce-44fd-9ce7-a2a80d826433"
      },
      "outputs": [
        {
          "data": {
            "text/plain": [
              "92643   12 days 14:39:24\n",
              "dtype: timedelta64[ns]"
            ]
          },
          "execution_count": 20,
          "metadata": {},
          "output_type": "execute_result"
        }
      ],
      "source": [
        "carrier_to_estimated = (orders_df.loc[delivered_missing_carrier_customer, \"order_estimated_delivery_date\"] - orders_df.loc[delivered_missing_carrier_customer, \"order_delivered_carrier_date\"] )\n",
        "median_date = carrier_to_estimated/2\n",
        "median_date"
      ]
    },
    {
      "cell_type": "code",
      "execution_count": null,
      "metadata": {
        "id": "RoBXFjOt0rw6"
      },
      "outputs": [],
      "source": [
        "orders_df.loc[delivered_missing_carrier_customer, \"order_delivered_customer_date\"] = (orders_df.loc[delivered_missing_carrier_customer, \"order_delivered_carrier_date\"]+median_date).dt.floor(\"S\")"
      ]
    },
    {
      "cell_type": "code",
      "execution_count": null,
      "metadata": {
        "id": "26ezmh3h0rw6",
        "outputId": "5e9a978a-c3b9-4d0c-ebdd-215b487c6823"
      },
      "outputs": [
        {
          "data": {
            "text/html": [
              "<div>\n",
              "<style scoped>\n",
              "    .dataframe tbody tr th:only-of-type {\n",
              "        vertical-align: middle;\n",
              "    }\n",
              "\n",
              "    .dataframe tbody tr th {\n",
              "        vertical-align: top;\n",
              "    }\n",
              "\n",
              "    .dataframe thead th {\n",
              "        text-align: right;\n",
              "    }\n",
              "</style>\n",
              "<table border=\"1\" class=\"dataframe\">\n",
              "  <thead>\n",
              "    <tr style=\"text-align: right;\">\n",
              "      <th></th>\n",
              "      <th>order_id</th>\n",
              "      <th>customer_id</th>\n",
              "      <th>order_status</th>\n",
              "      <th>order_purchase_timestamp</th>\n",
              "      <th>order_approved_at</th>\n",
              "      <th>order_delivered_carrier_date</th>\n",
              "      <th>order_delivered_customer_date</th>\n",
              "      <th>order_estimated_delivery_date</th>\n",
              "    </tr>\n",
              "  </thead>\n",
              "  <tbody>\n",
              "    <tr>\n",
              "      <th>92643</th>\n",
              "      <td>2d858f451373b04fb5c984a1cc2defaf</td>\n",
              "      <td>e08caf668d499a6d643dafd7c5cc498a</td>\n",
              "      <td>delivered</td>\n",
              "      <td>2017-05-25 23:22:43</td>\n",
              "      <td>2017-05-25 23:30:16</td>\n",
              "      <td>2017-05-28 18:41:12</td>\n",
              "      <td>2017-06-10 09:20:36</td>\n",
              "      <td>2017-06-23</td>\n",
              "    </tr>\n",
              "  </tbody>\n",
              "</table>\n",
              "</div>"
            ],
            "text/plain": [
              "                               order_id                       customer_id  \\\n",
              "92643  2d858f451373b04fb5c984a1cc2defaf  e08caf668d499a6d643dafd7c5cc498a   \n",
              "\n",
              "      order_status order_purchase_timestamp   order_approved_at  \\\n",
              "92643    delivered      2017-05-25 23:22:43 2017-05-25 23:30:16   \n",
              "\n",
              "      order_delivered_carrier_date order_delivered_customer_date  \\\n",
              "92643          2017-05-28 18:41:12           2017-06-10 09:20:36   \n",
              "\n",
              "      order_estimated_delivery_date  \n",
              "92643                    2017-06-23  "
            ]
          },
          "execution_count": 22,
          "metadata": {},
          "output_type": "execute_result"
        }
      ],
      "source": [
        "orders_df.loc[delivered_missing_carrier_customer]"
      ]
    },
    {
      "cell_type": "markdown",
      "metadata": {
        "id": "55CSwIbQ0rw6"
      },
      "source": [
        "another more\n",
        "\n",
        "notna_but_delivered"
      ]
    },
    {
      "cell_type": "code",
      "execution_count": null,
      "metadata": {
        "id": "d1wjE0zm0rw6",
        "outputId": "26265f5a-dd3c-401d-f431-bdd223e9c840"
      },
      "outputs": [
        {
          "data": {
            "text/plain": [
              "order_id                         0\n",
              "customer_id                      0\n",
              "order_status                     0\n",
              "order_purchase_timestamp         0\n",
              "order_approved_at                0\n",
              "order_delivered_carrier_date     1\n",
              "order_delivered_customer_date    7\n",
              "order_estimated_delivery_date    0\n",
              "dtype: int64"
            ]
          },
          "execution_count": 23,
          "metadata": {},
          "output_type": "execute_result"
        }
      ],
      "source": [
        "notna_but_delivered =((orders_df[\"order_status\"] == \"delivered\"))\n",
        "\n",
        "orders_df.loc[notna_but_delivered].isna().sum()"
      ]
    },
    {
      "cell_type": "markdown",
      "metadata": {
        "id": "Xb7hVBoZ0rw6"
      },
      "source": [
        "Delivered orders with missing order_delivered_customer_date"
      ]
    },
    {
      "cell_type": "code",
      "execution_count": null,
      "metadata": {
        "id": "n2K3DOlL0rw7",
        "outputId": "421b950e-85c1-4089-8b16-8a55df0b9209"
      },
      "outputs": [
        {
          "data": {
            "text/html": [
              "<div>\n",
              "<style scoped>\n",
              "    .dataframe tbody tr th:only-of-type {\n",
              "        vertical-align: middle;\n",
              "    }\n",
              "\n",
              "    .dataframe tbody tr th {\n",
              "        vertical-align: top;\n",
              "    }\n",
              "\n",
              "    .dataframe thead th {\n",
              "        text-align: right;\n",
              "    }\n",
              "</style>\n",
              "<table border=\"1\" class=\"dataframe\">\n",
              "  <thead>\n",
              "    <tr style=\"text-align: right;\">\n",
              "      <th></th>\n",
              "      <th>order_id</th>\n",
              "      <th>customer_id</th>\n",
              "      <th>order_status</th>\n",
              "      <th>order_purchase_timestamp</th>\n",
              "      <th>order_approved_at</th>\n",
              "      <th>order_delivered_carrier_date</th>\n",
              "      <th>order_delivered_customer_date</th>\n",
              "      <th>order_estimated_delivery_date</th>\n",
              "    </tr>\n",
              "  </thead>\n",
              "  <tbody>\n",
              "    <tr>\n",
              "      <th>3002</th>\n",
              "      <td>2d1e2d5bf4dc7227b3bfebb81328c15f</td>\n",
              "      <td>ec05a6d8558c6455f0cbbd8a420ad34f</td>\n",
              "      <td>delivered</td>\n",
              "      <td>2017-11-28 17:44:07</td>\n",
              "      <td>2017-11-28 17:56:40</td>\n",
              "      <td>2017-11-30 18:12:23</td>\n",
              "      <td>NaT</td>\n",
              "      <td>2017-12-18</td>\n",
              "    </tr>\n",
              "    <tr>\n",
              "      <th>20618</th>\n",
              "      <td>f5dd62b788049ad9fc0526e3ad11a097</td>\n",
              "      <td>5e89028e024b381dc84a13a3570decb4</td>\n",
              "      <td>delivered</td>\n",
              "      <td>2018-06-20 06:58:43</td>\n",
              "      <td>2018-06-20 07:19:05</td>\n",
              "      <td>2018-06-25 08:05:00</td>\n",
              "      <td>NaT</td>\n",
              "      <td>2018-07-16</td>\n",
              "    </tr>\n",
              "    <tr>\n",
              "      <th>43834</th>\n",
              "      <td>2ebdfc4f15f23b91474edf87475f108e</td>\n",
              "      <td>29f0540231702fda0cfdee0a310f11aa</td>\n",
              "      <td>delivered</td>\n",
              "      <td>2018-07-01 17:05:11</td>\n",
              "      <td>2018-07-01 17:15:12</td>\n",
              "      <td>2018-07-03 13:57:00</td>\n",
              "      <td>NaT</td>\n",
              "      <td>2018-07-30</td>\n",
              "    </tr>\n",
              "    <tr>\n",
              "      <th>79263</th>\n",
              "      <td>e69f75a717d64fc5ecdfae42b2e8e086</td>\n",
              "      <td>cfda40ca8dd0a5d486a9635b611b398a</td>\n",
              "      <td>delivered</td>\n",
              "      <td>2018-07-01 22:05:55</td>\n",
              "      <td>2018-07-01 22:15:14</td>\n",
              "      <td>2018-07-03 13:57:00</td>\n",
              "      <td>NaT</td>\n",
              "      <td>2018-07-30</td>\n",
              "    </tr>\n",
              "    <tr>\n",
              "      <th>82868</th>\n",
              "      <td>0d3268bad9b086af767785e3f0fc0133</td>\n",
              "      <td>4f1d63d35fb7c8999853b2699f5c7649</td>\n",
              "      <td>delivered</td>\n",
              "      <td>2018-07-01 21:14:02</td>\n",
              "      <td>2018-07-01 21:29:54</td>\n",
              "      <td>2018-07-03 09:28:00</td>\n",
              "      <td>NaT</td>\n",
              "      <td>2018-07-24</td>\n",
              "    </tr>\n",
              "    <tr>\n",
              "      <th>97647</th>\n",
              "      <td>ab7c89dc1bf4a1ead9d6ec1ec8968a84</td>\n",
              "      <td>dd1b84a7286eb4524d52af4256c0ba24</td>\n",
              "      <td>delivered</td>\n",
              "      <td>2018-06-08 12:09:39</td>\n",
              "      <td>2018-06-08 12:36:39</td>\n",
              "      <td>2018-06-12 14:10:00</td>\n",
              "      <td>NaT</td>\n",
              "      <td>2018-06-26</td>\n",
              "    </tr>\n",
              "    <tr>\n",
              "      <th>98038</th>\n",
              "      <td>20edc82cf5400ce95e1afacc25798b31</td>\n",
              "      <td>28c37425f1127d887d7337f284080a0f</td>\n",
              "      <td>delivered</td>\n",
              "      <td>2018-06-27 16:09:12</td>\n",
              "      <td>2018-06-27 16:29:30</td>\n",
              "      <td>2018-07-03 19:26:00</td>\n",
              "      <td>NaT</td>\n",
              "      <td>2018-07-19</td>\n",
              "    </tr>\n",
              "  </tbody>\n",
              "</table>\n",
              "</div>"
            ],
            "text/plain": [
              "                               order_id                       customer_id  \\\n",
              "3002   2d1e2d5bf4dc7227b3bfebb81328c15f  ec05a6d8558c6455f0cbbd8a420ad34f   \n",
              "20618  f5dd62b788049ad9fc0526e3ad11a097  5e89028e024b381dc84a13a3570decb4   \n",
              "43834  2ebdfc4f15f23b91474edf87475f108e  29f0540231702fda0cfdee0a310f11aa   \n",
              "79263  e69f75a717d64fc5ecdfae42b2e8e086  cfda40ca8dd0a5d486a9635b611b398a   \n",
              "82868  0d3268bad9b086af767785e3f0fc0133  4f1d63d35fb7c8999853b2699f5c7649   \n",
              "97647  ab7c89dc1bf4a1ead9d6ec1ec8968a84  dd1b84a7286eb4524d52af4256c0ba24   \n",
              "98038  20edc82cf5400ce95e1afacc25798b31  28c37425f1127d887d7337f284080a0f   \n",
              "\n",
              "      order_status order_purchase_timestamp   order_approved_at  \\\n",
              "3002     delivered      2017-11-28 17:44:07 2017-11-28 17:56:40   \n",
              "20618    delivered      2018-06-20 06:58:43 2018-06-20 07:19:05   \n",
              "43834    delivered      2018-07-01 17:05:11 2018-07-01 17:15:12   \n",
              "79263    delivered      2018-07-01 22:05:55 2018-07-01 22:15:14   \n",
              "82868    delivered      2018-07-01 21:14:02 2018-07-01 21:29:54   \n",
              "97647    delivered      2018-06-08 12:09:39 2018-06-08 12:36:39   \n",
              "98038    delivered      2018-06-27 16:09:12 2018-06-27 16:29:30   \n",
              "\n",
              "      order_delivered_carrier_date order_delivered_customer_date  \\\n",
              "3002           2017-11-30 18:12:23                           NaT   \n",
              "20618          2018-06-25 08:05:00                           NaT   \n",
              "43834          2018-07-03 13:57:00                           NaT   \n",
              "79263          2018-07-03 13:57:00                           NaT   \n",
              "82868          2018-07-03 09:28:00                           NaT   \n",
              "97647          2018-06-12 14:10:00                           NaT   \n",
              "98038          2018-07-03 19:26:00                           NaT   \n",
              "\n",
              "      order_estimated_delivery_date  \n",
              "3002                     2017-12-18  \n",
              "20618                    2018-07-16  \n",
              "43834                    2018-07-30  \n",
              "79263                    2018-07-30  \n",
              "82868                    2018-07-24  \n",
              "97647                    2018-06-26  \n",
              "98038                    2018-07-19  "
            ]
          },
          "execution_count": 24,
          "metadata": {},
          "output_type": "execute_result"
        }
      ],
      "source": [
        "isna_order_delivered_customer_date =((orders_df[\"order_status\"] == \"delivered\")\n",
        "                  & orders_df[\"order_delivered_customer_date\"].isna())\n",
        "\n",
        "orders_df.loc[isna_order_delivered_customer_date]"
      ]
    },
    {
      "cell_type": "code",
      "execution_count": null,
      "metadata": {
        "id": "WJp6O_aY0rw7"
      },
      "outputs": [],
      "source": [
        "orders_df.loc[isna_order_delivered_customer_date, \"order_delivered_customer_date\"] = (orders_df.loc[isna_order_delivered_customer_date, \"order_delivered_carrier_date\"]\n",
        "                                                                                                     +((orders_df.loc[isna_order_delivered_customer_date, \"order_estimated_delivery_date\"] - orders_df.loc[isna_order_delivered_customer_date, \"order_delivered_carrier_date\"])/2)\n",
        "                                                                                                     ).dt.floor(\"S\")\n"
      ]
    },
    {
      "cell_type": "code",
      "execution_count": null,
      "metadata": {
        "id": "aDf3XuCn0rw7",
        "outputId": "d5809e2b-b5d3-4b38-cf5a-e4508a16610d"
      },
      "outputs": [
        {
          "data": {
            "text/html": [
              "<div>\n",
              "<style scoped>\n",
              "    .dataframe tbody tr th:only-of-type {\n",
              "        vertical-align: middle;\n",
              "    }\n",
              "\n",
              "    .dataframe tbody tr th {\n",
              "        vertical-align: top;\n",
              "    }\n",
              "\n",
              "    .dataframe thead th {\n",
              "        text-align: right;\n",
              "    }\n",
              "</style>\n",
              "<table border=\"1\" class=\"dataframe\">\n",
              "  <thead>\n",
              "    <tr style=\"text-align: right;\">\n",
              "      <th></th>\n",
              "      <th>order_id</th>\n",
              "      <th>customer_id</th>\n",
              "      <th>order_status</th>\n",
              "      <th>order_purchase_timestamp</th>\n",
              "      <th>order_approved_at</th>\n",
              "      <th>order_delivered_carrier_date</th>\n",
              "      <th>order_delivered_customer_date</th>\n",
              "      <th>order_estimated_delivery_date</th>\n",
              "    </tr>\n",
              "  </thead>\n",
              "  <tbody>\n",
              "    <tr>\n",
              "      <th>3002</th>\n",
              "      <td>2d1e2d5bf4dc7227b3bfebb81328c15f</td>\n",
              "      <td>ec05a6d8558c6455f0cbbd8a420ad34f</td>\n",
              "      <td>delivered</td>\n",
              "      <td>2017-11-28 17:44:07</td>\n",
              "      <td>2017-11-28 17:56:40</td>\n",
              "      <td>2017-11-30 18:12:23</td>\n",
              "      <td>2017-12-09 09:06:11</td>\n",
              "      <td>2017-12-18</td>\n",
              "    </tr>\n",
              "    <tr>\n",
              "      <th>20618</th>\n",
              "      <td>f5dd62b788049ad9fc0526e3ad11a097</td>\n",
              "      <td>5e89028e024b381dc84a13a3570decb4</td>\n",
              "      <td>delivered</td>\n",
              "      <td>2018-06-20 06:58:43</td>\n",
              "      <td>2018-06-20 07:19:05</td>\n",
              "      <td>2018-06-25 08:05:00</td>\n",
              "      <td>2018-07-05 16:02:30</td>\n",
              "      <td>2018-07-16</td>\n",
              "    </tr>\n",
              "    <tr>\n",
              "      <th>43834</th>\n",
              "      <td>2ebdfc4f15f23b91474edf87475f108e</td>\n",
              "      <td>29f0540231702fda0cfdee0a310f11aa</td>\n",
              "      <td>delivered</td>\n",
              "      <td>2018-07-01 17:05:11</td>\n",
              "      <td>2018-07-01 17:15:12</td>\n",
              "      <td>2018-07-03 13:57:00</td>\n",
              "      <td>2018-07-16 18:58:30</td>\n",
              "      <td>2018-07-30</td>\n",
              "    </tr>\n",
              "    <tr>\n",
              "      <th>79263</th>\n",
              "      <td>e69f75a717d64fc5ecdfae42b2e8e086</td>\n",
              "      <td>cfda40ca8dd0a5d486a9635b611b398a</td>\n",
              "      <td>delivered</td>\n",
              "      <td>2018-07-01 22:05:55</td>\n",
              "      <td>2018-07-01 22:15:14</td>\n",
              "      <td>2018-07-03 13:57:00</td>\n",
              "      <td>2018-07-16 18:58:30</td>\n",
              "      <td>2018-07-30</td>\n",
              "    </tr>\n",
              "    <tr>\n",
              "      <th>82868</th>\n",
              "      <td>0d3268bad9b086af767785e3f0fc0133</td>\n",
              "      <td>4f1d63d35fb7c8999853b2699f5c7649</td>\n",
              "      <td>delivered</td>\n",
              "      <td>2018-07-01 21:14:02</td>\n",
              "      <td>2018-07-01 21:29:54</td>\n",
              "      <td>2018-07-03 09:28:00</td>\n",
              "      <td>2018-07-13 16:44:00</td>\n",
              "      <td>2018-07-24</td>\n",
              "    </tr>\n",
              "    <tr>\n",
              "      <th>97647</th>\n",
              "      <td>ab7c89dc1bf4a1ead9d6ec1ec8968a84</td>\n",
              "      <td>dd1b84a7286eb4524d52af4256c0ba24</td>\n",
              "      <td>delivered</td>\n",
              "      <td>2018-06-08 12:09:39</td>\n",
              "      <td>2018-06-08 12:36:39</td>\n",
              "      <td>2018-06-12 14:10:00</td>\n",
              "      <td>2018-06-19 07:05:00</td>\n",
              "      <td>2018-06-26</td>\n",
              "    </tr>\n",
              "    <tr>\n",
              "      <th>98038</th>\n",
              "      <td>20edc82cf5400ce95e1afacc25798b31</td>\n",
              "      <td>28c37425f1127d887d7337f284080a0f</td>\n",
              "      <td>delivered</td>\n",
              "      <td>2018-06-27 16:09:12</td>\n",
              "      <td>2018-06-27 16:29:30</td>\n",
              "      <td>2018-07-03 19:26:00</td>\n",
              "      <td>2018-07-11 09:43:00</td>\n",
              "      <td>2018-07-19</td>\n",
              "    </tr>\n",
              "  </tbody>\n",
              "</table>\n",
              "</div>"
            ],
            "text/plain": [
              "                               order_id                       customer_id  \\\n",
              "3002   2d1e2d5bf4dc7227b3bfebb81328c15f  ec05a6d8558c6455f0cbbd8a420ad34f   \n",
              "20618  f5dd62b788049ad9fc0526e3ad11a097  5e89028e024b381dc84a13a3570decb4   \n",
              "43834  2ebdfc4f15f23b91474edf87475f108e  29f0540231702fda0cfdee0a310f11aa   \n",
              "79263  e69f75a717d64fc5ecdfae42b2e8e086  cfda40ca8dd0a5d486a9635b611b398a   \n",
              "82868  0d3268bad9b086af767785e3f0fc0133  4f1d63d35fb7c8999853b2699f5c7649   \n",
              "97647  ab7c89dc1bf4a1ead9d6ec1ec8968a84  dd1b84a7286eb4524d52af4256c0ba24   \n",
              "98038  20edc82cf5400ce95e1afacc25798b31  28c37425f1127d887d7337f284080a0f   \n",
              "\n",
              "      order_status order_purchase_timestamp   order_approved_at  \\\n",
              "3002     delivered      2017-11-28 17:44:07 2017-11-28 17:56:40   \n",
              "20618    delivered      2018-06-20 06:58:43 2018-06-20 07:19:05   \n",
              "43834    delivered      2018-07-01 17:05:11 2018-07-01 17:15:12   \n",
              "79263    delivered      2018-07-01 22:05:55 2018-07-01 22:15:14   \n",
              "82868    delivered      2018-07-01 21:14:02 2018-07-01 21:29:54   \n",
              "97647    delivered      2018-06-08 12:09:39 2018-06-08 12:36:39   \n",
              "98038    delivered      2018-06-27 16:09:12 2018-06-27 16:29:30   \n",
              "\n",
              "      order_delivered_carrier_date order_delivered_customer_date  \\\n",
              "3002           2017-11-30 18:12:23           2017-12-09 09:06:11   \n",
              "20618          2018-06-25 08:05:00           2018-07-05 16:02:30   \n",
              "43834          2018-07-03 13:57:00           2018-07-16 18:58:30   \n",
              "79263          2018-07-03 13:57:00           2018-07-16 18:58:30   \n",
              "82868          2018-07-03 09:28:00           2018-07-13 16:44:00   \n",
              "97647          2018-06-12 14:10:00           2018-06-19 07:05:00   \n",
              "98038          2018-07-03 19:26:00           2018-07-11 09:43:00   \n",
              "\n",
              "      order_estimated_delivery_date  \n",
              "3002                     2017-12-18  \n",
              "20618                    2018-07-16  \n",
              "43834                    2018-07-30  \n",
              "79263                    2018-07-30  \n",
              "82868                    2018-07-24  \n",
              "97647                    2018-06-26  \n",
              "98038                    2018-07-19  "
            ]
          },
          "execution_count": 26,
          "metadata": {},
          "output_type": "execute_result"
        }
      ],
      "source": [
        "orders_df.loc[isna_order_delivered_customer_date]"
      ]
    },
    {
      "cell_type": "markdown",
      "metadata": {
        "id": "IxTsTC7r0rw7"
      },
      "source": [
        "Delivered orders with missing order_delivered_carrier_date"
      ]
    },
    {
      "cell_type": "code",
      "execution_count": null,
      "metadata": {
        "id": "wfl2sVtx0rw7",
        "outputId": "4e35ac28-a2ef-4f1c-931d-560ea2a1cbd1"
      },
      "outputs": [
        {
          "data": {
            "text/html": [
              "<div>\n",
              "<style scoped>\n",
              "    .dataframe tbody tr th:only-of-type {\n",
              "        vertical-align: middle;\n",
              "    }\n",
              "\n",
              "    .dataframe tbody tr th {\n",
              "        vertical-align: top;\n",
              "    }\n",
              "\n",
              "    .dataframe thead th {\n",
              "        text-align: right;\n",
              "    }\n",
              "</style>\n",
              "<table border=\"1\" class=\"dataframe\">\n",
              "  <thead>\n",
              "    <tr style=\"text-align: right;\">\n",
              "      <th></th>\n",
              "      <th>order_id</th>\n",
              "      <th>customer_id</th>\n",
              "      <th>order_status</th>\n",
              "      <th>order_purchase_timestamp</th>\n",
              "      <th>order_approved_at</th>\n",
              "      <th>order_delivered_carrier_date</th>\n",
              "      <th>order_delivered_customer_date</th>\n",
              "      <th>order_estimated_delivery_date</th>\n",
              "    </tr>\n",
              "  </thead>\n",
              "  <tbody>\n",
              "    <tr>\n",
              "      <th>73222</th>\n",
              "      <td>2aa91108853cecb43c84a5dc5b277475</td>\n",
              "      <td>afeb16c7f46396c0ed54acb45ccaaa40</td>\n",
              "      <td>delivered</td>\n",
              "      <td>2017-09-29 08:52:58</td>\n",
              "      <td>2017-09-29 09:07:16</td>\n",
              "      <td>NaT</td>\n",
              "      <td>2017-11-20 19:44:47</td>\n",
              "      <td>2017-11-14</td>\n",
              "    </tr>\n",
              "  </tbody>\n",
              "</table>\n",
              "</div>"
            ],
            "text/plain": [
              "                               order_id                       customer_id  \\\n",
              "73222  2aa91108853cecb43c84a5dc5b277475  afeb16c7f46396c0ed54acb45ccaaa40   \n",
              "\n",
              "      order_status order_purchase_timestamp   order_approved_at  \\\n",
              "73222    delivered      2017-09-29 08:52:58 2017-09-29 09:07:16   \n",
              "\n",
              "      order_delivered_carrier_date order_delivered_customer_date  \\\n",
              "73222                          NaT           2017-11-20 19:44:47   \n",
              "\n",
              "      order_estimated_delivery_date  \n",
              "73222                    2017-11-14  "
            ]
          },
          "execution_count": 27,
          "metadata": {},
          "output_type": "execute_result"
        }
      ],
      "source": [
        "isna_order_delivered_carrier_date =((orders_df[\"order_status\"] == \"delivered\")\n",
        "                  & orders_df[\"order_delivered_carrier_date\"].isna()\n",
        ")\n",
        "\n",
        "orders_df.loc[isna_order_delivered_carrier_date]"
      ]
    },
    {
      "cell_type": "code",
      "execution_count": null,
      "metadata": {
        "id": "i8d8K5dd0rw_"
      },
      "outputs": [],
      "source": [
        "orders_df.loc[isna_order_delivered_carrier_date, \"order_delivered_carrier_date\"] = (\n",
        "    orders_df.loc[isna_order_delivered_carrier_date, \"order_approved_at\"]+avg_order_delivered_carrier_date\n",
        ").dt.floor(\"S\")"
      ]
    },
    {
      "cell_type": "code",
      "execution_count": null,
      "metadata": {
        "id": "a3F2gqAq0rw_",
        "outputId": "ede284c7-72e6-407a-fe7e-236ac9dbbb23"
      },
      "outputs": [
        {
          "data": {
            "text/html": [
              "<div>\n",
              "<style scoped>\n",
              "    .dataframe tbody tr th:only-of-type {\n",
              "        vertical-align: middle;\n",
              "    }\n",
              "\n",
              "    .dataframe tbody tr th {\n",
              "        vertical-align: top;\n",
              "    }\n",
              "\n",
              "    .dataframe thead th {\n",
              "        text-align: right;\n",
              "    }\n",
              "</style>\n",
              "<table border=\"1\" class=\"dataframe\">\n",
              "  <thead>\n",
              "    <tr style=\"text-align: right;\">\n",
              "      <th></th>\n",
              "      <th>order_id</th>\n",
              "      <th>customer_id</th>\n",
              "      <th>order_status</th>\n",
              "      <th>order_purchase_timestamp</th>\n",
              "      <th>order_approved_at</th>\n",
              "      <th>order_delivered_carrier_date</th>\n",
              "      <th>order_delivered_customer_date</th>\n",
              "      <th>order_estimated_delivery_date</th>\n",
              "    </tr>\n",
              "  </thead>\n",
              "  <tbody>\n",
              "    <tr>\n",
              "      <th>73222</th>\n",
              "      <td>2aa91108853cecb43c84a5dc5b277475</td>\n",
              "      <td>afeb16c7f46396c0ed54acb45ccaaa40</td>\n",
              "      <td>delivered</td>\n",
              "      <td>2017-09-29 08:52:58</td>\n",
              "      <td>2017-09-29 09:07:16</td>\n",
              "      <td>2017-10-02 04:18:12</td>\n",
              "      <td>2017-11-20 19:44:47</td>\n",
              "      <td>2017-11-14</td>\n",
              "    </tr>\n",
              "  </tbody>\n",
              "</table>\n",
              "</div>"
            ],
            "text/plain": [
              "                               order_id                       customer_id  \\\n",
              "73222  2aa91108853cecb43c84a5dc5b277475  afeb16c7f46396c0ed54acb45ccaaa40   \n",
              "\n",
              "      order_status order_purchase_timestamp   order_approved_at  \\\n",
              "73222    delivered      2017-09-29 08:52:58 2017-09-29 09:07:16   \n",
              "\n",
              "      order_delivered_carrier_date order_delivered_customer_date  \\\n",
              "73222          2017-10-02 04:18:12           2017-11-20 19:44:47   \n",
              "\n",
              "      order_estimated_delivery_date  \n",
              "73222                    2017-11-14  "
            ]
          },
          "execution_count": 29,
          "metadata": {},
          "output_type": "execute_result"
        }
      ],
      "source": [
        "orders_df.loc[isna_order_delivered_carrier_date]"
      ]
    },
    {
      "cell_type": "code",
      "execution_count": null,
      "metadata": {
        "id": "ClOUC8xP0rw_",
        "outputId": "532d184f-44f5-4165-8f0b-8883b6bfc039"
      },
      "outputs": [
        {
          "data": {
            "text/plain": [
              "order_id                         0\n",
              "customer_id                      0\n",
              "order_status                     0\n",
              "order_purchase_timestamp         0\n",
              "order_approved_at                0\n",
              "order_delivered_carrier_date     0\n",
              "order_delivered_customer_date    0\n",
              "order_estimated_delivery_date    0\n",
              "dtype: int64"
            ]
          },
          "execution_count": 30,
          "metadata": {},
          "output_type": "execute_result"
        }
      ],
      "source": [
        "notna_but_delivered =((orders_df[\"order_status\"] == \"delivered\"))\n",
        "\n",
        "orders_df.loc[notna_but_delivered].isna().sum()"
      ]
    },
    {
      "cell_type": "code",
      "execution_count": null,
      "metadata": {
        "id": "sbagKpRS0rw_",
        "outputId": "a5809eeb-498e-409c-93b0-3726079bbd18"
      },
      "outputs": [
        {
          "data": {
            "text/plain": [
              "order_id                            0\n",
              "customer_id                         0\n",
              "order_status                        0\n",
              "order_purchase_timestamp            0\n",
              "order_approved_at                 146\n",
              "order_delivered_carrier_date     1781\n",
              "order_delivered_customer_date    2957\n",
              "order_estimated_delivery_date       0\n",
              "dtype: int64"
            ]
          },
          "execution_count": 31,
          "metadata": {},
          "output_type": "execute_result"
        }
      ],
      "source": [
        "orders_df.isna().sum()"
      ]
    },
    {
      "cell_type": "code",
      "execution_count": null,
      "metadata": {
        "id": "n-FFJCq10rw_",
        "outputId": "f03f6f64-ea83-4c13-f0c7-1f2623e16d20"
      },
      "outputs": [
        {
          "data": {
            "text/plain": [
              "array(['delivered', 'invoiced', 'shipped', 'processing', 'unavailable',\n",
              "       'canceled', 'created', 'approved'], dtype=object)"
            ]
          },
          "execution_count": 32,
          "metadata": {},
          "output_type": "execute_result"
        }
      ],
      "source": [
        "orders_df.order_status.unique()"
      ]
    },
    {
      "cell_type": "code",
      "execution_count": null,
      "metadata": {
        "id": "GmIJjhmh0rw_",
        "outputId": "f7b1a746-fd6d-4bc7-be6b-997ac48f5479"
      },
      "outputs": [
        {
          "name": "stdout",
          "output_type": "stream",
          "text": [
            "===delivered===\n",
            "order_id                         0\n",
            "customer_id                      0\n",
            "order_status                     0\n",
            "order_purchase_timestamp         0\n",
            "order_approved_at                0\n",
            "order_delivered_carrier_date     0\n",
            "order_delivered_customer_date    0\n",
            "order_estimated_delivery_date    0\n",
            "dtype: int64\n",
            "===invoiced===\n",
            "order_id                           0\n",
            "customer_id                        0\n",
            "order_status                       0\n",
            "order_purchase_timestamp           0\n",
            "order_approved_at                  0\n",
            "order_delivered_carrier_date     314\n",
            "order_delivered_customer_date    314\n",
            "order_estimated_delivery_date      0\n",
            "dtype: int64\n",
            "===shipped===\n",
            "order_id                            0\n",
            "customer_id                         0\n",
            "order_status                        0\n",
            "order_purchase_timestamp            0\n",
            "order_approved_at                   0\n",
            "order_delivered_carrier_date        0\n",
            "order_delivered_customer_date    1107\n",
            "order_estimated_delivery_date       0\n",
            "dtype: int64\n",
            "===processing===\n",
            "order_id                           0\n",
            "customer_id                        0\n",
            "order_status                       0\n",
            "order_purchase_timestamp           0\n",
            "order_approved_at                  0\n",
            "order_delivered_carrier_date     301\n",
            "order_delivered_customer_date    301\n",
            "order_estimated_delivery_date      0\n",
            "dtype: int64\n",
            "===unavailable===\n",
            "order_id                           0\n",
            "customer_id                        0\n",
            "order_status                       0\n",
            "order_purchase_timestamp           0\n",
            "order_approved_at                  0\n",
            "order_delivered_carrier_date     609\n",
            "order_delivered_customer_date    609\n",
            "order_estimated_delivery_date      0\n",
            "dtype: int64\n",
            "===canceled===\n",
            "order_id                           0\n",
            "customer_id                        0\n",
            "order_status                       0\n",
            "order_purchase_timestamp           0\n",
            "order_approved_at                141\n",
            "order_delivered_carrier_date     550\n",
            "order_delivered_customer_date    619\n",
            "order_estimated_delivery_date      0\n",
            "dtype: int64\n",
            "===created===\n",
            "order_id                         0\n",
            "customer_id                      0\n",
            "order_status                     0\n",
            "order_purchase_timestamp         0\n",
            "order_approved_at                5\n",
            "order_delivered_carrier_date     5\n",
            "order_delivered_customer_date    5\n",
            "order_estimated_delivery_date    0\n",
            "dtype: int64\n",
            "===approved===\n",
            "order_id                         0\n",
            "customer_id                      0\n",
            "order_status                     0\n",
            "order_purchase_timestamp         0\n",
            "order_approved_at                0\n",
            "order_delivered_carrier_date     2\n",
            "order_delivered_customer_date    2\n",
            "order_estimated_delivery_date    0\n",
            "dtype: int64\n"
          ]
        }
      ],
      "source": [
        "for order_stat in orders_df['order_status'].unique():\n",
        "    print(f\"==={order_stat}===\")\n",
        "    orders = orders_df[orders_df['order_status'] == order_stat]\n",
        "\n",
        "    print(f\"{orders.isna().sum()}\")"
      ]
    },
    {
      "cell_type": "markdown",
      "metadata": {
        "id": "I0M2SHc90rw_"
      },
      "source": [
        "Product missing data"
      ]
    },
    {
      "cell_type": "code",
      "execution_count": null,
      "metadata": {
        "id": "LdJseZGe0rw_",
        "outputId": "c4eb0605-0677-4fa1-b631-a07909048463"
      },
      "outputs": [
        {
          "data": {
            "text/plain": [
              "cama_mesa_banho                  3029\n",
              "esporte_lazer                    2867\n",
              "moveis_decoracao                 2657\n",
              "beleza_saude                     2444\n",
              "utilidades_domesticas            2335\n",
              "                                 ... \n",
              "fashion_roupa_infanto_juvenil       5\n",
              "casa_conforto_2                     5\n",
              "pc_gamer                            3\n",
              "seguros_e_servicos                  2\n",
              "cds_dvds_musicais                   1\n",
              "Name: product_category_name, Length: 73, dtype: int64"
            ]
          },
          "execution_count": 34,
          "metadata": {},
          "output_type": "execute_result"
        }
      ],
      "source": [
        "products_df[\"product_category_name\"].value_counts()"
      ]
    },
    {
      "cell_type": "code",
      "execution_count": null,
      "metadata": {
        "id": "e-dBVuxa0rw_",
        "outputId": "1988ce11-3654-4509-e9f5-fddb9c0471a2"
      },
      "outputs": [
        {
          "data": {
            "text/plain": [
              "product_id                      0\n",
              "product_category_name         610\n",
              "product_name_lenght           610\n",
              "product_description_lenght    610\n",
              "product_photos_qty            610\n",
              "product_weight_g                2\n",
              "product_length_cm               2\n",
              "product_height_cm               2\n",
              "product_width_cm                2\n",
              "dtype: int64"
            ]
          },
          "execution_count": 35,
          "metadata": {},
          "output_type": "execute_result"
        }
      ],
      "source": [
        "products_df.isna().sum()"
      ]
    },
    {
      "cell_type": "code",
      "execution_count": null,
      "metadata": {
        "id": "LpT05Y5B0rxA"
      },
      "outputs": [],
      "source": [
        "products_df[\"product_weight_g\"].fillna(products_df[\"product_weight_g\"].median(), inplace=True)\n",
        "products_df[\"product_length_cm\"].fillna(products_df[\"product_length_cm\"].median(), inplace=True)\n",
        "products_df[\"product_height_cm\"].fillna(products_df[\"product_height_cm\"].median(), inplace=True)\n",
        "products_df[\"product_width_cm\"].fillna(products_df[\"product_width_cm\"].median(), inplace=True)\n"
      ]
    },
    {
      "cell_type": "code",
      "execution_count": null,
      "metadata": {
        "id": "S_o7swpq0rxA",
        "outputId": "413b7f8d-a286-4358-d139-4c79df983985"
      },
      "outputs": [
        {
          "name": "stdout",
          "output_type": "stream",
          "text": [
            "<class 'pandas.core.frame.DataFrame'>\n",
            "Int64Index: 32951 entries, 0 to 32950\n",
            "Data columns (total 9 columns):\n",
            " #   Column                      Non-Null Count  Dtype  \n",
            "---  ------                      --------------  -----  \n",
            " 0   product_id                  32951 non-null  object \n",
            " 1   product_category_name       32341 non-null  object \n",
            " 2   product_name_lenght         32341 non-null  float64\n",
            " 3   product_description_lenght  32341 non-null  float64\n",
            " 4   product_photos_qty          32341 non-null  float64\n",
            " 5   product_weight_g            32951 non-null  float64\n",
            " 6   product_length_cm           32951 non-null  float64\n",
            " 7   product_height_cm           32951 non-null  float64\n",
            " 8   product_width_cm            32951 non-null  float64\n",
            "dtypes: float64(7), object(2)\n",
            "memory usage: 2.5+ MB\n"
          ]
        }
      ],
      "source": [
        "products_df.info()"
      ]
    },
    {
      "cell_type": "code",
      "execution_count": null,
      "metadata": {
        "id": "jH2xG1o30rxA"
      },
      "outputs": [],
      "source": [
        "products_df[\"product_category_name\"].fillna(\"unknown\", inplace=True)"
      ]
    },
    {
      "cell_type": "code",
      "execution_count": null,
      "metadata": {
        "id": "6DxK5PFk0rxA"
      },
      "outputs": [],
      "source": [
        "products_df[\"product_name_lenght\"].fillna(products_df[\"product_name_lenght\"].mean(), inplace=True)"
      ]
    },
    {
      "cell_type": "code",
      "execution_count": null,
      "metadata": {
        "id": "fKeqwlEu0rxA"
      },
      "outputs": [],
      "source": [
        "products_df[\"product_description_lenght\"].fillna(products_df[\"product_description_lenght\"].mean(), inplace=True)"
      ]
    },
    {
      "cell_type": "code",
      "execution_count": null,
      "metadata": {
        "id": "TL29vjkn0rxA"
      },
      "outputs": [],
      "source": [
        "products_df[\"product_photos_qty\"].fillna(products_df[\"product_photos_qty\"].mean(), inplace=True)"
      ]
    },
    {
      "cell_type": "code",
      "execution_count": null,
      "metadata": {
        "id": "IB9Tvye60rxA",
        "outputId": "bab2c239-3938-49f2-afba-83fe23f0792a"
      },
      "outputs": [
        {
          "data": {
            "text/plain": [
              "product_id                    0\n",
              "product_category_name         0\n",
              "product_name_lenght           0\n",
              "product_description_lenght    0\n",
              "product_photos_qty            0\n",
              "product_weight_g              0\n",
              "product_length_cm             0\n",
              "product_height_cm             0\n",
              "product_width_cm              0\n",
              "dtype: int64"
            ]
          },
          "execution_count": 42,
          "metadata": {},
          "output_type": "execute_result"
        }
      ],
      "source": [
        "products_df.isna().sum()"
      ]
    },
    {
      "cell_type": "markdown",
      "metadata": {
        "id": "TknD8C-00rxA"
      },
      "source": [
        "Insight:\n",
        "- Missing data in orders_df was quite complicated but, I concluded that all orders with delivered status must not contain null data but in reverse of the other order statuses, for example shipped, processing, cancled orders does not need order_delivered_customer_date.\n",
        "- Product with with missing data mark as unknown data though the original data is in portugis languange\n",
        "- product_name_lenght, product_description_lenght and product_photos_qty filled with mean data.\n"
      ]
    },
    {
      "cell_type": "markdown",
      "metadata": {
        "id": "D5oelu3r0rxA"
      },
      "source": [
        "#Exploratory Data Analysis"
      ]
    },
    {
      "cell_type": "markdown",
      "metadata": {
        "id": "gDGfJRVn0rxA"
      },
      "source": [
        "##Order and Region Revenue"
      ]
    },
    {
      "cell_type": "markdown",
      "metadata": {
        "id": "5eGNjL4_0rxB"
      },
      "source": [
        "analysing the samples before merging the data"
      ]
    },
    {
      "cell_type": "code",
      "execution_count": null,
      "metadata": {
        "id": "3TkSAsmK0rxB",
        "outputId": "95b78d2d-cb7c-4d77-e05b-9e148dc30e0d"
      },
      "outputs": [
        {
          "data": {
            "text/html": [
              "<div>\n",
              "<style scoped>\n",
              "    .dataframe tbody tr th:only-of-type {\n",
              "        vertical-align: middle;\n",
              "    }\n",
              "\n",
              "    .dataframe tbody tr th {\n",
              "        vertical-align: top;\n",
              "    }\n",
              "\n",
              "    .dataframe thead th {\n",
              "        text-align: right;\n",
              "    }\n",
              "</style>\n",
              "<table border=\"1\" class=\"dataframe\">\n",
              "  <thead>\n",
              "    <tr style=\"text-align: right;\">\n",
              "      <th></th>\n",
              "      <th>order_id</th>\n",
              "      <th>customer_id</th>\n",
              "      <th>order_status</th>\n",
              "      <th>order_purchase_timestamp</th>\n",
              "      <th>order_approved_at</th>\n",
              "      <th>order_delivered_carrier_date</th>\n",
              "      <th>order_delivered_customer_date</th>\n",
              "      <th>order_estimated_delivery_date</th>\n",
              "    </tr>\n",
              "  </thead>\n",
              "  <tbody>\n",
              "    <tr>\n",
              "      <th>5272</th>\n",
              "      <td>357d14cbf3b59ba6e6ddb0b402b3d171</td>\n",
              "      <td>9c3b462284d39b618ac5e63df6badf6d</td>\n",
              "      <td>delivered</td>\n",
              "      <td>2018-08-15 22:03:02</td>\n",
              "      <td>2018-08-15 22:45:07</td>\n",
              "      <td>2018-08-16 14:10:00</td>\n",
              "      <td>2018-08-24 21:39:50</td>\n",
              "      <td>2018-08-27</td>\n",
              "    </tr>\n",
              "    <tr>\n",
              "      <th>19591</th>\n",
              "      <td>8f2e84cb21fcbe7e95d12e4f0dc80487</td>\n",
              "      <td>a2fa3925309e440a429a5628eff166b2</td>\n",
              "      <td>delivered</td>\n",
              "      <td>2017-09-08 16:00:35</td>\n",
              "      <td>2017-09-08 16:10:18</td>\n",
              "      <td>2017-09-11 18:17:47</td>\n",
              "      <td>2017-09-19 21:32:07</td>\n",
              "      <td>2017-09-28</td>\n",
              "    </tr>\n",
              "    <tr>\n",
              "      <th>24855</th>\n",
              "      <td>880d0b678864b60cb1a087a3a0a896f0</td>\n",
              "      <td>96aaf5651780af178def64669ec0d951</td>\n",
              "      <td>delivered</td>\n",
              "      <td>2018-07-13 17:46:13</td>\n",
              "      <td>2018-07-14 02:55:18</td>\n",
              "      <td>2018-07-16 14:41:00</td>\n",
              "      <td>2018-07-24 15:48:47</td>\n",
              "      <td>2018-08-02</td>\n",
              "    </tr>\n",
              "  </tbody>\n",
              "</table>\n",
              "</div>"
            ],
            "text/plain": [
              "                               order_id                       customer_id  \\\n",
              "5272   357d14cbf3b59ba6e6ddb0b402b3d171  9c3b462284d39b618ac5e63df6badf6d   \n",
              "19591  8f2e84cb21fcbe7e95d12e4f0dc80487  a2fa3925309e440a429a5628eff166b2   \n",
              "24855  880d0b678864b60cb1a087a3a0a896f0  96aaf5651780af178def64669ec0d951   \n",
              "\n",
              "      order_status order_purchase_timestamp   order_approved_at  \\\n",
              "5272     delivered      2018-08-15 22:03:02 2018-08-15 22:45:07   \n",
              "19591    delivered      2017-09-08 16:00:35 2017-09-08 16:10:18   \n",
              "24855    delivered      2018-07-13 17:46:13 2018-07-14 02:55:18   \n",
              "\n",
              "      order_delivered_carrier_date order_delivered_customer_date  \\\n",
              "5272           2018-08-16 14:10:00           2018-08-24 21:39:50   \n",
              "19591          2017-09-11 18:17:47           2017-09-19 21:32:07   \n",
              "24855          2018-07-16 14:41:00           2018-07-24 15:48:47   \n",
              "\n",
              "      order_estimated_delivery_date  \n",
              "5272                     2018-08-27  \n",
              "19591                    2017-09-28  \n",
              "24855                    2018-08-02  "
            ]
          },
          "execution_count": 43,
          "metadata": {},
          "output_type": "execute_result"
        }
      ],
      "source": [
        "orders_df.sample(3)"
      ]
    },
    {
      "cell_type": "code",
      "execution_count": null,
      "metadata": {
        "id": "509S2CaP0rxB",
        "outputId": "4f7e2d0d-8629-4b55-9a20-46e23bb1c7a8"
      },
      "outputs": [
        {
          "data": {
            "text/html": [
              "<div>\n",
              "<style scoped>\n",
              "    .dataframe tbody tr th:only-of-type {\n",
              "        vertical-align: middle;\n",
              "    }\n",
              "\n",
              "    .dataframe tbody tr th {\n",
              "        vertical-align: top;\n",
              "    }\n",
              "\n",
              "    .dataframe thead th {\n",
              "        text-align: right;\n",
              "    }\n",
              "</style>\n",
              "<table border=\"1\" class=\"dataframe\">\n",
              "  <thead>\n",
              "    <tr style=\"text-align: right;\">\n",
              "      <th></th>\n",
              "      <th>order_id</th>\n",
              "      <th>payment_sequential</th>\n",
              "      <th>payment_type</th>\n",
              "      <th>payment_installments</th>\n",
              "      <th>payment_value</th>\n",
              "    </tr>\n",
              "  </thead>\n",
              "  <tbody>\n",
              "    <tr>\n",
              "      <th>80646</th>\n",
              "      <td>43a0277da1f854225ecf40b7b2411991</td>\n",
              "      <td>1</td>\n",
              "      <td>credit_card</td>\n",
              "      <td>2</td>\n",
              "      <td>205.21</td>\n",
              "    </tr>\n",
              "    <tr>\n",
              "      <th>48045</th>\n",
              "      <td>51f24b9ca5365e89f2dd96de60ee083f</td>\n",
              "      <td>1</td>\n",
              "      <td>boleto</td>\n",
              "      <td>1</td>\n",
              "      <td>439.77</td>\n",
              "    </tr>\n",
              "    <tr>\n",
              "      <th>21971</th>\n",
              "      <td>649aa2900b06d80727880b4e94da7919</td>\n",
              "      <td>1</td>\n",
              "      <td>credit_card</td>\n",
              "      <td>3</td>\n",
              "      <td>534.74</td>\n",
              "    </tr>\n",
              "  </tbody>\n",
              "</table>\n",
              "</div>"
            ],
            "text/plain": [
              "                               order_id  payment_sequential payment_type  \\\n",
              "80646  43a0277da1f854225ecf40b7b2411991                   1  credit_card   \n",
              "48045  51f24b9ca5365e89f2dd96de60ee083f                   1       boleto   \n",
              "21971  649aa2900b06d80727880b4e94da7919                   1  credit_card   \n",
              "\n",
              "       payment_installments  payment_value  \n",
              "80646                     2         205.21  \n",
              "48045                     1         439.77  \n",
              "21971                     3         534.74  "
            ]
          },
          "execution_count": 44,
          "metadata": {},
          "output_type": "execute_result"
        }
      ],
      "source": [
        "order_payments_df.sample(3)"
      ]
    },
    {
      "cell_type": "code",
      "execution_count": null,
      "metadata": {
        "id": "nQj4PKpt0rxB",
        "outputId": "b53f3b50-033b-497b-ff84-54a08d7de734"
      },
      "outputs": [
        {
          "data": {
            "text/html": [
              "<div>\n",
              "<style scoped>\n",
              "    .dataframe tbody tr th:only-of-type {\n",
              "        vertical-align: middle;\n",
              "    }\n",
              "\n",
              "    .dataframe tbody tr th {\n",
              "        vertical-align: top;\n",
              "    }\n",
              "\n",
              "    .dataframe thead th {\n",
              "        text-align: right;\n",
              "    }\n",
              "</style>\n",
              "<table border=\"1\" class=\"dataframe\">\n",
              "  <thead>\n",
              "    <tr style=\"text-align: right;\">\n",
              "      <th></th>\n",
              "      <th>customer_id</th>\n",
              "      <th>customer_unique_id</th>\n",
              "      <th>customer_zip_code_prefix</th>\n",
              "      <th>customer_city</th>\n",
              "      <th>customer_state</th>\n",
              "    </tr>\n",
              "  </thead>\n",
              "  <tbody>\n",
              "    <tr>\n",
              "      <th>9637</th>\n",
              "      <td>ddce998199bfc22de1eec95cfbba9ca1</td>\n",
              "      <td>99a22fb3767da9a4288e464dab60801e</td>\n",
              "      <td>30620</td>\n",
              "      <td>belo horizonte</td>\n",
              "      <td>MG</td>\n",
              "    </tr>\n",
              "    <tr>\n",
              "      <th>88023</th>\n",
              "      <td>0a4cfbeec9f7324a7b93e40928916004</td>\n",
              "      <td>1e2984ef05827ff6f8aa167b5c406868</td>\n",
              "      <td>89700</td>\n",
              "      <td>concordia</td>\n",
              "      <td>SC</td>\n",
              "    </tr>\n",
              "    <tr>\n",
              "      <th>97141</th>\n",
              "      <td>1ac1963cfcf8bda4b3b64300c5b11b16</td>\n",
              "      <td>159ba7a17c9179c96cb8a7ae43235ca9</td>\n",
              "      <td>13218</td>\n",
              "      <td>jundiai</td>\n",
              "      <td>SP</td>\n",
              "    </tr>\n",
              "  </tbody>\n",
              "</table>\n",
              "</div>"
            ],
            "text/plain": [
              "                            customer_id                customer_unique_id  \\\n",
              "9637   ddce998199bfc22de1eec95cfbba9ca1  99a22fb3767da9a4288e464dab60801e   \n",
              "88023  0a4cfbeec9f7324a7b93e40928916004  1e2984ef05827ff6f8aa167b5c406868   \n",
              "97141  1ac1963cfcf8bda4b3b64300c5b11b16  159ba7a17c9179c96cb8a7ae43235ca9   \n",
              "\n",
              "       customer_zip_code_prefix   customer_city customer_state  \n",
              "9637                      30620  belo horizonte             MG  \n",
              "88023                     89700       concordia             SC  \n",
              "97141                     13218         jundiai             SP  "
            ]
          },
          "execution_count": 45,
          "metadata": {},
          "output_type": "execute_result"
        }
      ],
      "source": [
        "customers_df.sample(3)"
      ]
    },
    {
      "cell_type": "markdown",
      "metadata": {
        "id": "JE-ISbxV0rxB"
      },
      "source": [
        "merging customer data with order data"
      ]
    },
    {
      "cell_type": "code",
      "execution_count": null,
      "metadata": {
        "id": "kp4rWlkG0rxB",
        "outputId": "6fc0a5e3-1ff2-434b-dc50-fa3d4f4d35ef"
      },
      "outputs": [
        {
          "data": {
            "text/html": [
              "<div>\n",
              "<style scoped>\n",
              "    .dataframe tbody tr th:only-of-type {\n",
              "        vertical-align: middle;\n",
              "    }\n",
              "\n",
              "    .dataframe tbody tr th {\n",
              "        vertical-align: top;\n",
              "    }\n",
              "\n",
              "    .dataframe thead th {\n",
              "        text-align: right;\n",
              "    }\n",
              "</style>\n",
              "<table border=\"1\" class=\"dataframe\">\n",
              "  <thead>\n",
              "    <tr style=\"text-align: right;\">\n",
              "      <th></th>\n",
              "      <th>order_id</th>\n",
              "      <th>customer_id</th>\n",
              "      <th>order_status</th>\n",
              "      <th>order_purchase_timestamp</th>\n",
              "      <th>order_approved_at</th>\n",
              "      <th>order_delivered_carrier_date</th>\n",
              "      <th>order_delivered_customer_date</th>\n",
              "      <th>order_estimated_delivery_date</th>\n",
              "      <th>customer_city</th>\n",
              "      <th>customer_state</th>\n",
              "    </tr>\n",
              "  </thead>\n",
              "  <tbody>\n",
              "    <tr>\n",
              "      <th>89074</th>\n",
              "      <td>2581504c87d229321f70e6850d332196</td>\n",
              "      <td>18d5d5895467ab53587d1ec961de0ece</td>\n",
              "      <td>delivered</td>\n",
              "      <td>2017-09-16 12:25:06</td>\n",
              "      <td>2017-09-19 03:55:25</td>\n",
              "      <td>2017-09-19 21:03:14</td>\n",
              "      <td>2017-09-28 21:13:17</td>\n",
              "      <td>2017-10-05</td>\n",
              "      <td>aparecida de goiania</td>\n",
              "      <td>GO</td>\n",
              "    </tr>\n",
              "    <tr>\n",
              "      <th>69789</th>\n",
              "      <td>b24235bd2ebf1a14887ec351288351d7</td>\n",
              "      <td>2bf704d49c9b17be928e46bb9914f45b</td>\n",
              "      <td>shipped</td>\n",
              "      <td>2018-08-08 22:35:27</td>\n",
              "      <td>2018-08-08 22:45:13</td>\n",
              "      <td>2018-08-10 15:49:00</td>\n",
              "      <td>NaT</td>\n",
              "      <td>2018-08-28</td>\n",
              "      <td>cataguases</td>\n",
              "      <td>MG</td>\n",
              "    </tr>\n",
              "    <tr>\n",
              "      <th>97067</th>\n",
              "      <td>3354a9e699cdd99dae33906e55a8ca17</td>\n",
              "      <td>034ecc550de79becac426a8ed79722f9</td>\n",
              "      <td>delivered</td>\n",
              "      <td>2018-01-15 10:18:09</td>\n",
              "      <td>2018-01-15 10:30:26</td>\n",
              "      <td>2018-01-17 19:29:07</td>\n",
              "      <td>2018-02-15 15:32:30</td>\n",
              "      <td>2018-02-09</td>\n",
              "      <td>salvador</td>\n",
              "      <td>BA</td>\n",
              "    </tr>\n",
              "  </tbody>\n",
              "</table>\n",
              "</div>"
            ],
            "text/plain": [
              "                               order_id                       customer_id  \\\n",
              "89074  2581504c87d229321f70e6850d332196  18d5d5895467ab53587d1ec961de0ece   \n",
              "69789  b24235bd2ebf1a14887ec351288351d7  2bf704d49c9b17be928e46bb9914f45b   \n",
              "97067  3354a9e699cdd99dae33906e55a8ca17  034ecc550de79becac426a8ed79722f9   \n",
              "\n",
              "      order_status order_purchase_timestamp   order_approved_at  \\\n",
              "89074    delivered      2017-09-16 12:25:06 2017-09-19 03:55:25   \n",
              "69789      shipped      2018-08-08 22:35:27 2018-08-08 22:45:13   \n",
              "97067    delivered      2018-01-15 10:18:09 2018-01-15 10:30:26   \n",
              "\n",
              "      order_delivered_carrier_date order_delivered_customer_date  \\\n",
              "89074          2017-09-19 21:03:14           2017-09-28 21:13:17   \n",
              "69789          2018-08-10 15:49:00                           NaT   \n",
              "97067          2018-01-17 19:29:07           2018-02-15 15:32:30   \n",
              "\n",
              "      order_estimated_delivery_date         customer_city customer_state  \n",
              "89074                    2017-10-05  aparecida de goiania             GO  \n",
              "69789                    2018-08-28            cataguases             MG  \n",
              "97067                    2018-02-09              salvador             BA  "
            ]
          },
          "execution_count": 46,
          "metadata": {},
          "output_type": "execute_result"
        }
      ],
      "source": [
        "customer_orders =orders_df.merge(customers_df[['customer_id', 'customer_city', 'customer_state']], on='customer_id', how='inner')\n",
        "customer_orders.sample(3)"
      ]
    },
    {
      "cell_type": "markdown",
      "metadata": {
        "id": "R5ADBdR50rxB"
      },
      "source": [
        "merging customer orders with order's payment"
      ]
    },
    {
      "cell_type": "code",
      "execution_count": null,
      "metadata": {
        "id": "eWq60t880rxB",
        "outputId": "0b912773-7412-4591-c4b5-5dfa96a22cf6"
      },
      "outputs": [
        {
          "data": {
            "text/html": [
              "<div>\n",
              "<style scoped>\n",
              "    .dataframe tbody tr th:only-of-type {\n",
              "        vertical-align: middle;\n",
              "    }\n",
              "\n",
              "    .dataframe tbody tr th {\n",
              "        vertical-align: top;\n",
              "    }\n",
              "\n",
              "    .dataframe thead th {\n",
              "        text-align: right;\n",
              "    }\n",
              "</style>\n",
              "<table border=\"1\" class=\"dataframe\">\n",
              "  <thead>\n",
              "    <tr style=\"text-align: right;\">\n",
              "      <th></th>\n",
              "      <th>order_id</th>\n",
              "      <th>customer_id</th>\n",
              "      <th>order_status</th>\n",
              "      <th>order_purchase_timestamp</th>\n",
              "      <th>order_approved_at</th>\n",
              "      <th>order_delivered_carrier_date</th>\n",
              "      <th>order_delivered_customer_date</th>\n",
              "      <th>order_estimated_delivery_date</th>\n",
              "      <th>customer_city</th>\n",
              "      <th>customer_state</th>\n",
              "      <th>payment_value</th>\n",
              "    </tr>\n",
              "  </thead>\n",
              "  <tbody>\n",
              "    <tr>\n",
              "      <th>16872</th>\n",
              "      <td>5d3600123565a48b65ad1ae42b48ae9e</td>\n",
              "      <td>a7086654d09a3fadfc0ed962acba11d6</td>\n",
              "      <td>delivered</td>\n",
              "      <td>2018-06-03 18:16:27</td>\n",
              "      <td>2018-06-03 18:31:18</td>\n",
              "      <td>2018-06-04 14:34:00</td>\n",
              "      <td>2018-06-06 19:22:33</td>\n",
              "      <td>2018-06-28</td>\n",
              "      <td>sao paulo</td>\n",
              "      <td>SP</td>\n",
              "      <td>36.28</td>\n",
              "    </tr>\n",
              "    <tr>\n",
              "      <th>32502</th>\n",
              "      <td>4f53648717b48854fb9db283e2cf5d27</td>\n",
              "      <td>6f511bdde13d8de37379becebabb7fd2</td>\n",
              "      <td>delivered</td>\n",
              "      <td>2017-05-13 20:17:09</td>\n",
              "      <td>2017-05-13 20:25:11</td>\n",
              "      <td>2017-05-17 16:32:38</td>\n",
              "      <td>2017-05-19 09:27:55</td>\n",
              "      <td>2017-05-31</td>\n",
              "      <td>tupa</td>\n",
              "      <td>SP</td>\n",
              "      <td>8.90</td>\n",
              "    </tr>\n",
              "    <tr>\n",
              "      <th>56664</th>\n",
              "      <td>5bb7a11eb58ffba1a56c37d59dc1f1ec</td>\n",
              "      <td>21db802cd8191c5514054c036edd3ea2</td>\n",
              "      <td>delivered</td>\n",
              "      <td>2017-05-28 17:08:43</td>\n",
              "      <td>2017-05-30 04:50:23</td>\n",
              "      <td>2017-05-30 14:08:26</td>\n",
              "      <td>2017-06-08 14:47:39</td>\n",
              "      <td>2017-06-23</td>\n",
              "      <td>mandaguari</td>\n",
              "      <td>PR</td>\n",
              "      <td>191.67</td>\n",
              "    </tr>\n",
              "  </tbody>\n",
              "</table>\n",
              "</div>"
            ],
            "text/plain": [
              "                               order_id                       customer_id  \\\n",
              "16872  5d3600123565a48b65ad1ae42b48ae9e  a7086654d09a3fadfc0ed962acba11d6   \n",
              "32502  4f53648717b48854fb9db283e2cf5d27  6f511bdde13d8de37379becebabb7fd2   \n",
              "56664  5bb7a11eb58ffba1a56c37d59dc1f1ec  21db802cd8191c5514054c036edd3ea2   \n",
              "\n",
              "      order_status order_purchase_timestamp   order_approved_at  \\\n",
              "16872    delivered      2018-06-03 18:16:27 2018-06-03 18:31:18   \n",
              "32502    delivered      2017-05-13 20:17:09 2017-05-13 20:25:11   \n",
              "56664    delivered      2017-05-28 17:08:43 2017-05-30 04:50:23   \n",
              "\n",
              "      order_delivered_carrier_date order_delivered_customer_date  \\\n",
              "16872          2018-06-04 14:34:00           2018-06-06 19:22:33   \n",
              "32502          2017-05-17 16:32:38           2017-05-19 09:27:55   \n",
              "56664          2017-05-30 14:08:26           2017-06-08 14:47:39   \n",
              "\n",
              "      order_estimated_delivery_date customer_city customer_state  \\\n",
              "16872                    2018-06-28     sao paulo             SP   \n",
              "32502                    2017-05-31          tupa             SP   \n",
              "56664                    2017-06-23    mandaguari             PR   \n",
              "\n",
              "       payment_value  \n",
              "16872          36.28  \n",
              "32502           8.90  \n",
              "56664         191.67  "
            ]
          },
          "execution_count": 47,
          "metadata": {},
          "output_type": "execute_result"
        }
      ],
      "source": [
        "payment_value_order_region = customer_orders.merge(order_payments_df[['order_id', 'payment_value']], on='order_id', how='inner')\n",
        "payment_value_order_region.sample(3)"
      ]
    },
    {
      "cell_type": "markdown",
      "metadata": {
        "id": "bx97h1BP0rxB"
      },
      "source": [
        "grouping and sorting customer state and payment"
      ]
    },
    {
      "cell_type": "code",
      "execution_count": null,
      "metadata": {
        "id": "xBr2fmP10rxB"
      },
      "outputs": [],
      "source": [
        "state_revenue = payment_value_order_region.groupby(by='customer_state')['payment_value'].sum().reset_index()\n",
        "state_revenue = state_revenue.sort_values(by='payment_value', ascending=False)"
      ]
    },
    {
      "cell_type": "markdown",
      "metadata": {
        "id": "iG_sCHbQ0rxB"
      },
      "source": [
        "##Region rank based on revenue or payment value"
      ]
    },
    {
      "cell_type": "code",
      "execution_count": null,
      "metadata": {
        "id": "eJEMtfwq0rxC",
        "outputId": "3fb19ed8-ca03-4c2a-d16e-0547f338632c"
      },
      "outputs": [
        {
          "data": {
            "text/html": [
              "<div>\n",
              "<style scoped>\n",
              "    .dataframe tbody tr th:only-of-type {\n",
              "        vertical-align: middle;\n",
              "    }\n",
              "\n",
              "    .dataframe tbody tr th {\n",
              "        vertical-align: top;\n",
              "    }\n",
              "\n",
              "    .dataframe thead th {\n",
              "        text-align: right;\n",
              "    }\n",
              "</style>\n",
              "<table border=\"1\" class=\"dataframe\">\n",
              "  <thead>\n",
              "    <tr style=\"text-align: right;\">\n",
              "      <th></th>\n",
              "      <th>customer_state</th>\n",
              "      <th>payment_value</th>\n",
              "    </tr>\n",
              "  </thead>\n",
              "  <tbody>\n",
              "    <tr>\n",
              "      <th>25</th>\n",
              "      <td>SP</td>\n",
              "      <td>5998226.96</td>\n",
              "    </tr>\n",
              "    <tr>\n",
              "      <th>18</th>\n",
              "      <td>RJ</td>\n",
              "      <td>2144379.69</td>\n",
              "    </tr>\n",
              "    <tr>\n",
              "      <th>10</th>\n",
              "      <td>MG</td>\n",
              "      <td>1872257.26</td>\n",
              "    </tr>\n",
              "    <tr>\n",
              "      <th>22</th>\n",
              "      <td>RS</td>\n",
              "      <td>890898.54</td>\n",
              "    </tr>\n",
              "    <tr>\n",
              "      <th>17</th>\n",
              "      <td>PR</td>\n",
              "      <td>811156.38</td>\n",
              "    </tr>\n",
              "    <tr>\n",
              "      <th>23</th>\n",
              "      <td>SC</td>\n",
              "      <td>623086.43</td>\n",
              "    </tr>\n",
              "    <tr>\n",
              "      <th>4</th>\n",
              "      <td>BA</td>\n",
              "      <td>616645.82</td>\n",
              "    </tr>\n",
              "    <tr>\n",
              "      <th>6</th>\n",
              "      <td>DF</td>\n",
              "      <td>355141.08</td>\n",
              "    </tr>\n",
              "    <tr>\n",
              "      <th>8</th>\n",
              "      <td>GO</td>\n",
              "      <td>350092.31</td>\n",
              "    </tr>\n",
              "    <tr>\n",
              "      <th>7</th>\n",
              "      <td>ES</td>\n",
              "      <td>325967.55</td>\n",
              "    </tr>\n",
              "    <tr>\n",
              "      <th>15</th>\n",
              "      <td>PE</td>\n",
              "      <td>324850.44</td>\n",
              "    </tr>\n",
              "    <tr>\n",
              "      <th>5</th>\n",
              "      <td>CE</td>\n",
              "      <td>279464.03</td>\n",
              "    </tr>\n",
              "    <tr>\n",
              "      <th>13</th>\n",
              "      <td>PA</td>\n",
              "      <td>218295.85</td>\n",
              "    </tr>\n",
              "    <tr>\n",
              "      <th>12</th>\n",
              "      <td>MT</td>\n",
              "      <td>187029.29</td>\n",
              "    </tr>\n",
              "    <tr>\n",
              "      <th>9</th>\n",
              "      <td>MA</td>\n",
              "      <td>152523.02</td>\n",
              "    </tr>\n",
              "    <tr>\n",
              "      <th>14</th>\n",
              "      <td>PB</td>\n",
              "      <td>141545.72</td>\n",
              "    </tr>\n",
              "    <tr>\n",
              "      <th>11</th>\n",
              "      <td>MS</td>\n",
              "      <td>137534.84</td>\n",
              "    </tr>\n",
              "    <tr>\n",
              "      <th>16</th>\n",
              "      <td>PI</td>\n",
              "      <td>108523.97</td>\n",
              "    </tr>\n",
              "    <tr>\n",
              "      <th>19</th>\n",
              "      <td>RN</td>\n",
              "      <td>102718.13</td>\n",
              "    </tr>\n",
              "    <tr>\n",
              "      <th>1</th>\n",
              "      <td>AL</td>\n",
              "      <td>96962.06</td>\n",
              "    </tr>\n",
              "    <tr>\n",
              "      <th>24</th>\n",
              "      <td>SE</td>\n",
              "      <td>75246.25</td>\n",
              "    </tr>\n",
              "    <tr>\n",
              "      <th>26</th>\n",
              "      <td>TO</td>\n",
              "      <td>61485.33</td>\n",
              "    </tr>\n",
              "    <tr>\n",
              "      <th>20</th>\n",
              "      <td>RO</td>\n",
              "      <td>60866.20</td>\n",
              "    </tr>\n",
              "    <tr>\n",
              "      <th>2</th>\n",
              "      <td>AM</td>\n",
              "      <td>27966.93</td>\n",
              "    </tr>\n",
              "    <tr>\n",
              "      <th>0</th>\n",
              "      <td>AC</td>\n",
              "      <td>19680.62</td>\n",
              "    </tr>\n",
              "    <tr>\n",
              "      <th>3</th>\n",
              "      <td>AP</td>\n",
              "      <td>16262.80</td>\n",
              "    </tr>\n",
              "    <tr>\n",
              "      <th>21</th>\n",
              "      <td>RR</td>\n",
              "      <td>10064.62</td>\n",
              "    </tr>\n",
              "  </tbody>\n",
              "</table>\n",
              "</div>"
            ],
            "text/plain": [
              "   customer_state  payment_value\n",
              "25             SP     5998226.96\n",
              "18             RJ     2144379.69\n",
              "10             MG     1872257.26\n",
              "22             RS      890898.54\n",
              "17             PR      811156.38\n",
              "23             SC      623086.43\n",
              "4              BA      616645.82\n",
              "6              DF      355141.08\n",
              "8              GO      350092.31\n",
              "7              ES      325967.55\n",
              "15             PE      324850.44\n",
              "5              CE      279464.03\n",
              "13             PA      218295.85\n",
              "12             MT      187029.29\n",
              "9              MA      152523.02\n",
              "14             PB      141545.72\n",
              "11             MS      137534.84\n",
              "16             PI      108523.97\n",
              "19             RN      102718.13\n",
              "1              AL       96962.06\n",
              "24             SE       75246.25\n",
              "26             TO       61485.33\n",
              "20             RO       60866.20\n",
              "2              AM       27966.93\n",
              "0              AC       19680.62\n",
              "3              AP       16262.80\n",
              "21             RR       10064.62"
            ]
          },
          "execution_count": 49,
          "metadata": {},
          "output_type": "execute_result"
        }
      ],
      "source": [
        "state_revenue"
      ]
    },
    {
      "cell_type": "markdown",
      "metadata": {
        "id": "CYGPjL-u0rxC"
      },
      "source": [
        "##Revenue and Purchase Trend"
      ]
    },
    {
      "cell_type": "markdown",
      "metadata": {
        "id": "CD9vr3OG0rxC"
      },
      "source": [
        "Revenue in Daily interval"
      ]
    },
    {
      "cell_type": "code",
      "execution_count": null,
      "metadata": {
        "id": "9Qtbb7ra0rxC",
        "outputId": "550a2c9b-331a-4a39-f94e-2216bf5cdaa5"
      },
      "outputs": [
        {
          "data": {
            "text/html": [
              "<div>\n",
              "<style scoped>\n",
              "    .dataframe tbody tr th:only-of-type {\n",
              "        vertical-align: middle;\n",
              "    }\n",
              "\n",
              "    .dataframe tbody tr th {\n",
              "        vertical-align: top;\n",
              "    }\n",
              "\n",
              "    .dataframe thead th {\n",
              "        text-align: right;\n",
              "    }\n",
              "</style>\n",
              "<table border=\"1\" class=\"dataframe\">\n",
              "  <thead>\n",
              "    <tr style=\"text-align: right;\">\n",
              "      <th></th>\n",
              "      <th>order_date</th>\n",
              "      <th>payment_value</th>\n",
              "    </tr>\n",
              "  </thead>\n",
              "  <tbody>\n",
              "    <tr>\n",
              "      <th>0</th>\n",
              "      <td>2016-09-04</td>\n",
              "      <td>136.23</td>\n",
              "    </tr>\n",
              "    <tr>\n",
              "      <th>1</th>\n",
              "      <td>2016-09-05</td>\n",
              "      <td>75.06</td>\n",
              "    </tr>\n",
              "    <tr>\n",
              "      <th>2</th>\n",
              "      <td>2016-09-13</td>\n",
              "      <td>40.95</td>\n",
              "    </tr>\n",
              "    <tr>\n",
              "      <th>3</th>\n",
              "      <td>2016-10-02</td>\n",
              "      <td>109.34</td>\n",
              "    </tr>\n",
              "    <tr>\n",
              "      <th>4</th>\n",
              "      <td>2016-10-03</td>\n",
              "      <td>595.14</td>\n",
              "    </tr>\n",
              "    <tr>\n",
              "      <th>...</th>\n",
              "      <td>...</td>\n",
              "      <td>...</td>\n",
              "    </tr>\n",
              "    <tr>\n",
              "      <th>628</th>\n",
              "      <td>2018-09-29</td>\n",
              "      <td>137.03</td>\n",
              "    </tr>\n",
              "    <tr>\n",
              "      <th>629</th>\n",
              "      <td>2018-10-01</td>\n",
              "      <td>80.38</td>\n",
              "    </tr>\n",
              "    <tr>\n",
              "      <th>630</th>\n",
              "      <td>2018-10-03</td>\n",
              "      <td>197.55</td>\n",
              "    </tr>\n",
              "    <tr>\n",
              "      <th>631</th>\n",
              "      <td>2018-10-16</td>\n",
              "      <td>222.03</td>\n",
              "    </tr>\n",
              "    <tr>\n",
              "      <th>632</th>\n",
              "      <td>2018-10-17</td>\n",
              "      <td>89.71</td>\n",
              "    </tr>\n",
              "  </tbody>\n",
              "</table>\n",
              "<p>633 rows × 2 columns</p>\n",
              "</div>"
            ],
            "text/plain": [
              "     order_date  payment_value\n",
              "0    2016-09-04         136.23\n",
              "1    2016-09-05          75.06\n",
              "2    2016-09-13          40.95\n",
              "3    2016-10-02         109.34\n",
              "4    2016-10-03         595.14\n",
              "..          ...            ...\n",
              "628  2018-09-29         137.03\n",
              "629  2018-10-01          80.38\n",
              "630  2018-10-03         197.55\n",
              "631  2018-10-16         222.03\n",
              "632  2018-10-17          89.71\n",
              "\n",
              "[633 rows x 2 columns]"
            ]
          },
          "execution_count": 50,
          "metadata": {},
          "output_type": "execute_result"
        }
      ],
      "source": [
        "payment_value_order_region['order_date'] = payment_value_order_region['order_purchase_timestamp'].dt.date\n",
        "\n",
        "revenue_trend =payment_value_order_region.groupby(by=['order_date'])['payment_value'].sum().reset_index()\n",
        "revenue_trend = revenue_trend.sort_values(by='order_date', ascending=True)\n",
        "revenue_trend\n"
      ]
    },
    {
      "cell_type": "markdown",
      "metadata": {
        "id": "mCp5eRHi0rxC"
      },
      "source": [
        "Peak Day Revenue"
      ]
    },
    {
      "cell_type": "code",
      "execution_count": null,
      "metadata": {
        "id": "brQ-Y3Zo0rxC",
        "outputId": "e63d69ea-e927-4470-e6ac-cb72203a9d7e"
      },
      "outputs": [
        {
          "data": {
            "text/plain": [
              "datetime.date(2017, 11, 24)"
            ]
          },
          "execution_count": 51,
          "metadata": {},
          "output_type": "execute_result"
        }
      ],
      "source": [
        "peak_revenue = revenue_trend['payment_value'].max()\n",
        "peak_date = revenue_trend.loc[revenue_trend['payment_value']== peak_revenue, 'order_date'].values[0]\n",
        "\n",
        "peak_date"
      ]
    },
    {
      "cell_type": "markdown",
      "metadata": {
        "id": "IAAo3xGF0rxC"
      },
      "source": [
        "Revenue trend in quartal"
      ]
    },
    {
      "cell_type": "code",
      "execution_count": null,
      "metadata": {
        "id": "05UUbYZq0rxC",
        "outputId": "84382fd9-57f1-4725-a8d5-aefa31fdf080"
      },
      "outputs": [
        {
          "data": {
            "text/html": [
              "<div>\n",
              "<style scoped>\n",
              "    .dataframe tbody tr th:only-of-type {\n",
              "        vertical-align: middle;\n",
              "    }\n",
              "\n",
              "    .dataframe tbody tr th {\n",
              "        vertical-align: top;\n",
              "    }\n",
              "\n",
              "    .dataframe thead th {\n",
              "        text-align: right;\n",
              "    }\n",
              "</style>\n",
              "<table border=\"1\" class=\"dataframe\">\n",
              "  <thead>\n",
              "    <tr style=\"text-align: right;\">\n",
              "      <th></th>\n",
              "      <th>payment_value</th>\n",
              "    </tr>\n",
              "    <tr>\n",
              "      <th>order_date</th>\n",
              "      <th></th>\n",
              "    </tr>\n",
              "  </thead>\n",
              "  <tbody>\n",
              "    <tr>\n",
              "      <th>2016-09-30</th>\n",
              "      <td>252.24</td>\n",
              "    </tr>\n",
              "    <tr>\n",
              "      <th>2016-12-31</th>\n",
              "      <td>59110.10</td>\n",
              "    </tr>\n",
              "    <tr>\n",
              "      <th>2017-03-31</th>\n",
              "      <td>880259.65</td>\n",
              "    </tr>\n",
              "    <tr>\n",
              "      <th>2017-06-30</th>\n",
              "      <td>1521983.23</td>\n",
              "    </tr>\n",
              "    <tr>\n",
              "      <th>2017-09-30</th>\n",
              "      <td>1994541.69</td>\n",
              "    </tr>\n",
              "    <tr>\n",
              "      <th>2017-12-31</th>\n",
              "      <td>2852962.16</td>\n",
              "    </tr>\n",
              "    <tr>\n",
              "      <th>2018-03-31</th>\n",
              "      <td>3267119.64</td>\n",
              "    </tr>\n",
              "    <tr>\n",
              "      <th>2018-06-30</th>\n",
              "      <td>3338648.13</td>\n",
              "    </tr>\n",
              "    <tr>\n",
              "      <th>2018-09-30</th>\n",
              "      <td>2093405.61</td>\n",
              "    </tr>\n",
              "    <tr>\n",
              "      <th>2018-12-31</th>\n",
              "      <td>589.67</td>\n",
              "    </tr>\n",
              "  </tbody>\n",
              "</table>\n",
              "</div>"
            ],
            "text/plain": [
              "            payment_value\n",
              "order_date               \n",
              "2016-09-30         252.24\n",
              "2016-12-31       59110.10\n",
              "2017-03-31      880259.65\n",
              "2017-06-30     1521983.23\n",
              "2017-09-30     1994541.69\n",
              "2017-12-31     2852962.16\n",
              "2018-03-31     3267119.64\n",
              "2018-06-30     3338648.13\n",
              "2018-09-30     2093405.61\n",
              "2018-12-31         589.67"
            ]
          },
          "execution_count": 52,
          "metadata": {},
          "output_type": "execute_result"
        }
      ],
      "source": [
        "revenue_trend['order_date'] = pd.to_datetime(revenue_trend['order_date'])\n",
        "\n",
        "\n",
        "revenue_quartal = revenue_trend.resample('Q', on='order_date').sum()\n",
        "revenue_quartal"
      ]
    },
    {
      "cell_type": "markdown",
      "metadata": {
        "id": "lAyX7Inh0rxC"
      },
      "source": [
        "Purchase trend in 24 Hours interval"
      ]
    },
    {
      "cell_type": "code",
      "execution_count": null,
      "metadata": {
        "id": "yRtinl2e0rxC",
        "outputId": "be3db7c5-72cb-4c15-9a5c-5a197f1bfe85"
      },
      "outputs": [
        {
          "data": {
            "text/html": [
              "<div>\n",
              "<style scoped>\n",
              "    .dataframe tbody tr th:only-of-type {\n",
              "        vertical-align: middle;\n",
              "    }\n",
              "\n",
              "    .dataframe tbody tr th {\n",
              "        vertical-align: top;\n",
              "    }\n",
              "\n",
              "    .dataframe thead th {\n",
              "        text-align: right;\n",
              "    }\n",
              "</style>\n",
              "<table border=\"1\" class=\"dataframe\">\n",
              "  <thead>\n",
              "    <tr style=\"text-align: right;\">\n",
              "      <th></th>\n",
              "      <th>order_hour</th>\n",
              "      <th>order_count_in_hour</th>\n",
              "    </tr>\n",
              "  </thead>\n",
              "  <tbody>\n",
              "    <tr>\n",
              "      <th>0</th>\n",
              "      <td>0</td>\n",
              "      <td>2537</td>\n",
              "    </tr>\n",
              "    <tr>\n",
              "      <th>1</th>\n",
              "      <td>1</td>\n",
              "      <td>1232</td>\n",
              "    </tr>\n",
              "    <tr>\n",
              "      <th>2</th>\n",
              "      <td>2</td>\n",
              "      <td>532</td>\n",
              "    </tr>\n",
              "    <tr>\n",
              "      <th>3</th>\n",
              "      <td>3</td>\n",
              "      <td>281</td>\n",
              "    </tr>\n",
              "    <tr>\n",
              "      <th>4</th>\n",
              "      <td>4</td>\n",
              "      <td>215</td>\n",
              "    </tr>\n",
              "    <tr>\n",
              "      <th>5</th>\n",
              "      <td>5</td>\n",
              "      <td>195</td>\n",
              "    </tr>\n",
              "    <tr>\n",
              "      <th>6</th>\n",
              "      <td>6</td>\n",
              "      <td>514</td>\n",
              "    </tr>\n",
              "    <tr>\n",
              "      <th>7</th>\n",
              "      <td>7</td>\n",
              "      <td>1269</td>\n",
              "    </tr>\n",
              "    <tr>\n",
              "      <th>8</th>\n",
              "      <td>8</td>\n",
              "      <td>3081</td>\n",
              "    </tr>\n",
              "    <tr>\n",
              "      <th>9</th>\n",
              "      <td>9</td>\n",
              "      <td>4954</td>\n",
              "    </tr>\n",
              "    <tr>\n",
              "      <th>10</th>\n",
              "      <td>10</td>\n",
              "      <td>6439</td>\n",
              "    </tr>\n",
              "    <tr>\n",
              "      <th>11</th>\n",
              "      <td>11</td>\n",
              "      <td>6875</td>\n",
              "    </tr>\n",
              "    <tr>\n",
              "      <th>12</th>\n",
              "      <td>12</td>\n",
              "      <td>6332</td>\n",
              "    </tr>\n",
              "    <tr>\n",
              "      <th>13</th>\n",
              "      <td>13</td>\n",
              "      <td>6768</td>\n",
              "    </tr>\n",
              "    <tr>\n",
              "      <th>14</th>\n",
              "      <td>14</td>\n",
              "      <td>6848</td>\n",
              "    </tr>\n",
              "    <tr>\n",
              "      <th>15</th>\n",
              "      <td>15</td>\n",
              "      <td>6684</td>\n",
              "    </tr>\n",
              "    <tr>\n",
              "      <th>16</th>\n",
              "      <td>16</td>\n",
              "      <td>6971</td>\n",
              "    </tr>\n",
              "    <tr>\n",
              "      <th>17</th>\n",
              "      <td>17</td>\n",
              "      <td>6371</td>\n",
              "    </tr>\n",
              "    <tr>\n",
              "      <th>18</th>\n",
              "      <td>18</td>\n",
              "      <td>6049</td>\n",
              "    </tr>\n",
              "    <tr>\n",
              "      <th>19</th>\n",
              "      <td>19</td>\n",
              "      <td>6229</td>\n",
              "    </tr>\n",
              "    <tr>\n",
              "      <th>20</th>\n",
              "      <td>20</td>\n",
              "      <td>6503</td>\n",
              "    </tr>\n",
              "    <tr>\n",
              "      <th>21</th>\n",
              "      <td>21</td>\n",
              "      <td>6526</td>\n",
              "    </tr>\n",
              "    <tr>\n",
              "      <th>22</th>\n",
              "      <td>22</td>\n",
              "      <td>6146</td>\n",
              "    </tr>\n",
              "    <tr>\n",
              "      <th>23</th>\n",
              "      <td>23</td>\n",
              "      <td>4335</td>\n",
              "    </tr>\n",
              "  </tbody>\n",
              "</table>\n",
              "</div>"
            ],
            "text/plain": [
              "    order_hour  order_count_in_hour\n",
              "0            0                 2537\n",
              "1            1                 1232\n",
              "2            2                  532\n",
              "3            3                  281\n",
              "4            4                  215\n",
              "5            5                  195\n",
              "6            6                  514\n",
              "7            7                 1269\n",
              "8            8                 3081\n",
              "9            9                 4954\n",
              "10          10                 6439\n",
              "11          11                 6875\n",
              "12          12                 6332\n",
              "13          13                 6768\n",
              "14          14                 6848\n",
              "15          15                 6684\n",
              "16          16                 6971\n",
              "17          17                 6371\n",
              "18          18                 6049\n",
              "19          19                 6229\n",
              "20          20                 6503\n",
              "21          21                 6526\n",
              "22          22                 6146\n",
              "23          23                 4335"
            ]
          },
          "execution_count": 53,
          "metadata": {},
          "output_type": "execute_result"
        }
      ],
      "source": [
        "payment_value_order_region['order_hour'] = payment_value_order_region['order_purchase_timestamp'].dt.hour\n",
        "purchase_hour_trend = payment_value_order_region.groupby(by='order_hour').size().reset_index(name='order_count_in_hour')\n",
        "purchase_hour_trend\n"
      ]
    },
    {
      "cell_type": "markdown",
      "metadata": {
        "id": "ryg632U90rxC"
      },
      "source": [
        "Peak puchase time"
      ]
    },
    {
      "cell_type": "code",
      "execution_count": null,
      "metadata": {
        "id": "4Cy-Mh-M0rxD",
        "outputId": "c5a1ec7a-170e-4b2e-9c3a-6e67c7d773e1"
      },
      "outputs": [
        {
          "data": {
            "text/html": [
              "<div>\n",
              "<style scoped>\n",
              "    .dataframe tbody tr th:only-of-type {\n",
              "        vertical-align: middle;\n",
              "    }\n",
              "\n",
              "    .dataframe tbody tr th {\n",
              "        vertical-align: top;\n",
              "    }\n",
              "\n",
              "    .dataframe thead th {\n",
              "        text-align: right;\n",
              "    }\n",
              "</style>\n",
              "<table border=\"1\" class=\"dataframe\">\n",
              "  <thead>\n",
              "    <tr style=\"text-align: right;\">\n",
              "      <th></th>\n",
              "      <th>order_hour</th>\n",
              "      <th>order_count_in_hour</th>\n",
              "    </tr>\n",
              "  </thead>\n",
              "  <tbody>\n",
              "    <tr>\n",
              "      <th>16</th>\n",
              "      <td>16</td>\n",
              "      <td>6971</td>\n",
              "    </tr>\n",
              "  </tbody>\n",
              "</table>\n",
              "</div>"
            ],
            "text/plain": [
              "    order_hour  order_count_in_hour\n",
              "16          16                 6971"
            ]
          },
          "execution_count": 54,
          "metadata": {},
          "output_type": "execute_result"
        }
      ],
      "source": [
        "order_count_in_hour_max = purchase_hour_trend['order_count_in_hour'].max()\n",
        "peak_time = purchase_hour_trend.loc[purchase_hour_trend['order_count_in_hour'] == order_count_in_hour_max, ['order_hour', 'order_count_in_hour']]\n",
        "peak_time"
      ]
    },
    {
      "cell_type": "markdown",
      "metadata": {
        "id": "CW1rMpas0rxD"
      },
      "source": [
        "##Ordered Product"
      ]
    },
    {
      "cell_type": "code",
      "execution_count": null,
      "metadata": {
        "id": "VReamJRk0rxD"
      },
      "outputs": [],
      "source": [
        "product_order_item_df =order_items_df.merge(products_df[['product_id', 'product_category_name']], on=\"product_id\", how=\"inner\")"
      ]
    },
    {
      "cell_type": "code",
      "execution_count": null,
      "metadata": {
        "id": "h0zAY6xg0rxD",
        "outputId": "ff2ef30c-bc97-4d18-a263-bbed4dfdd349"
      },
      "outputs": [
        {
          "data": {
            "text/html": [
              "<div>\n",
              "<style scoped>\n",
              "    .dataframe tbody tr th:only-of-type {\n",
              "        vertical-align: middle;\n",
              "    }\n",
              "\n",
              "    .dataframe tbody tr th {\n",
              "        vertical-align: top;\n",
              "    }\n",
              "\n",
              "    .dataframe thead th {\n",
              "        text-align: right;\n",
              "    }\n",
              "</style>\n",
              "<table border=\"1\" class=\"dataframe\">\n",
              "  <thead>\n",
              "    <tr style=\"text-align: right;\">\n",
              "      <th></th>\n",
              "      <th>order_id</th>\n",
              "      <th>order_item_id</th>\n",
              "      <th>product_id</th>\n",
              "      <th>seller_id</th>\n",
              "      <th>shipping_limit_date</th>\n",
              "      <th>price</th>\n",
              "      <th>freight_value</th>\n",
              "      <th>product_category_name</th>\n",
              "      <th>customer_id</th>\n",
              "      <th>order_status</th>\n",
              "      <th>order_purchase_timestamp</th>\n",
              "      <th>order_approved_at</th>\n",
              "      <th>order_delivered_carrier_date</th>\n",
              "      <th>order_delivered_customer_date</th>\n",
              "      <th>order_estimated_delivery_date</th>\n",
              "    </tr>\n",
              "  </thead>\n",
              "  <tbody>\n",
              "    <tr>\n",
              "      <th>4877</th>\n",
              "      <td>fcb5c3253dca0627badc4dc2d5a9c988</td>\n",
              "      <td>1</td>\n",
              "      <td>7e97894cc00196a56d6ec315c68b2353</td>\n",
              "      <td>7008613ea464bad5cb9b83456e1e6a8f</td>\n",
              "      <td>2017-02-11 18:06:18</td>\n",
              "      <td>109.00</td>\n",
              "      <td>14.93</td>\n",
              "      <td>esporte_lazer</td>\n",
              "      <td>a930629079c8fab9993fd5eedf12de02</td>\n",
              "      <td>delivered</td>\n",
              "      <td>2017-02-07 18:06:18</td>\n",
              "      <td>2017-02-07 18:15:16</td>\n",
              "      <td>2017-02-08 09:38:54</td>\n",
              "      <td>2017-02-16 13:15:02</td>\n",
              "      <td>2017-03-08</td>\n",
              "    </tr>\n",
              "    <tr>\n",
              "      <th>86873</th>\n",
              "      <td>e11d12748e702fcf969bd107eb604d87</td>\n",
              "      <td>1</td>\n",
              "      <td>79a564cca1924553af76d396bf7c0662</td>\n",
              "      <td>9d5a9018aee56acb367ba9c3f05d1d6a</td>\n",
              "      <td>2017-07-03 15:24:01</td>\n",
              "      <td>174.33</td>\n",
              "      <td>22.02</td>\n",
              "      <td>malas_acessorios</td>\n",
              "      <td>995a364de8b90858127c4c131f8aa442</td>\n",
              "      <td>delivered</td>\n",
              "      <td>2017-06-27 15:12:17</td>\n",
              "      <td>2017-06-27 15:24:01</td>\n",
              "      <td>2017-06-28 10:41:40</td>\n",
              "      <td>2017-07-13 16:03:30</td>\n",
              "      <td>2017-07-27</td>\n",
              "    </tr>\n",
              "    <tr>\n",
              "      <th>110657</th>\n",
              "      <td>e82d1b300fd1df88a56bf9e4f4b77655</td>\n",
              "      <td>1</td>\n",
              "      <td>5a968ab149dac747332323c42b49e30a</td>\n",
              "      <td>7901646fdd36a55f564ffaf2dbccaaf7</td>\n",
              "      <td>2018-03-06 13:31:29</td>\n",
              "      <td>58.00</td>\n",
              "      <td>17.66</td>\n",
              "      <td>ferramentas_jardim</td>\n",
              "      <td>6dfc5d1e608f060d8b5d27b2d2bf0ee1</td>\n",
              "      <td>delivered</td>\n",
              "      <td>2018-02-28 13:15:44</td>\n",
              "      <td>2018-02-28 13:35:29</td>\n",
              "      <td>2018-03-01 22:53:19</td>\n",
              "      <td>2018-03-08 19:32:30</td>\n",
              "      <td>2018-03-21</td>\n",
              "    </tr>\n",
              "  </tbody>\n",
              "</table>\n",
              "</div>"
            ],
            "text/plain": [
              "                                order_id  order_item_id  \\\n",
              "4877    fcb5c3253dca0627badc4dc2d5a9c988              1   \n",
              "86873   e11d12748e702fcf969bd107eb604d87              1   \n",
              "110657  e82d1b300fd1df88a56bf9e4f4b77655              1   \n",
              "\n",
              "                              product_id                         seller_id  \\\n",
              "4877    7e97894cc00196a56d6ec315c68b2353  7008613ea464bad5cb9b83456e1e6a8f   \n",
              "86873   79a564cca1924553af76d396bf7c0662  9d5a9018aee56acb367ba9c3f05d1d6a   \n",
              "110657  5a968ab149dac747332323c42b49e30a  7901646fdd36a55f564ffaf2dbccaaf7   \n",
              "\n",
              "        shipping_limit_date   price  freight_value product_category_name  \\\n",
              "4877    2017-02-11 18:06:18  109.00          14.93         esporte_lazer   \n",
              "86873   2017-07-03 15:24:01  174.33          22.02      malas_acessorios   \n",
              "110657  2018-03-06 13:31:29   58.00          17.66    ferramentas_jardim   \n",
              "\n",
              "                             customer_id order_status  \\\n",
              "4877    a930629079c8fab9993fd5eedf12de02    delivered   \n",
              "86873   995a364de8b90858127c4c131f8aa442    delivered   \n",
              "110657  6dfc5d1e608f060d8b5d27b2d2bf0ee1    delivered   \n",
              "\n",
              "       order_purchase_timestamp   order_approved_at  \\\n",
              "4877        2017-02-07 18:06:18 2017-02-07 18:15:16   \n",
              "86873       2017-06-27 15:12:17 2017-06-27 15:24:01   \n",
              "110657      2018-02-28 13:15:44 2018-02-28 13:35:29   \n",
              "\n",
              "       order_delivered_carrier_date order_delivered_customer_date  \\\n",
              "4877            2017-02-08 09:38:54           2017-02-16 13:15:02   \n",
              "86873           2017-06-28 10:41:40           2017-07-13 16:03:30   \n",
              "110657          2018-03-01 22:53:19           2018-03-08 19:32:30   \n",
              "\n",
              "       order_estimated_delivery_date  \n",
              "4877                      2017-03-08  \n",
              "86873                     2017-07-27  \n",
              "110657                    2018-03-21  "
            ]
          },
          "execution_count": 56,
          "metadata": {},
          "output_type": "execute_result"
        }
      ],
      "source": [
        "ordered_product = product_order_item_df.merge(orders_df, on='order_id', how='inner')\n",
        "ordered_product.sample(3)"
      ]
    },
    {
      "cell_type": "code",
      "execution_count": null,
      "metadata": {
        "id": "84h6lXVZ0rxD",
        "outputId": "45a3083c-acc3-40c8-ddf3-8423705dcd3e"
      },
      "outputs": [
        {
          "data": {
            "text/html": [
              "<div>\n",
              "<style scoped>\n",
              "    .dataframe tbody tr th:only-of-type {\n",
              "        vertical-align: middle;\n",
              "    }\n",
              "\n",
              "    .dataframe tbody tr th {\n",
              "        vertical-align: top;\n",
              "    }\n",
              "\n",
              "    .dataframe thead th {\n",
              "        text-align: right;\n",
              "    }\n",
              "</style>\n",
              "<table border=\"1\" class=\"dataframe\">\n",
              "  <thead>\n",
              "    <tr style=\"text-align: right;\">\n",
              "      <th></th>\n",
              "      <th>product_category_name</th>\n",
              "      <th>product_category_name_english</th>\n",
              "    </tr>\n",
              "  </thead>\n",
              "  <tbody>\n",
              "    <tr>\n",
              "      <th>0</th>\n",
              "      <td>beleza_saude</td>\n",
              "      <td>health_beauty</td>\n",
              "    </tr>\n",
              "  </tbody>\n",
              "</table>\n",
              "</div>"
            ],
            "text/plain": [
              "  product_category_name product_category_name_english\n",
              "0          beleza_saude                 health_beauty"
            ]
          },
          "execution_count": 79,
          "metadata": {},
          "output_type": "execute_result"
        }
      ],
      "source": [
        "products_translation_df.head(1)"
      ]
    },
    {
      "cell_type": "code",
      "execution_count": null,
      "metadata": {
        "id": "UX0vf4-f0rxD",
        "outputId": "5b8c247f-8aed-4c59-973f-881e781bbda8"
      },
      "outputs": [
        {
          "data": {
            "text/html": [
              "<div>\n",
              "<style scoped>\n",
              "    .dataframe tbody tr th:only-of-type {\n",
              "        vertical-align: middle;\n",
              "    }\n",
              "\n",
              "    .dataframe tbody tr th {\n",
              "        vertical-align: top;\n",
              "    }\n",
              "\n",
              "    .dataframe thead th {\n",
              "        text-align: right;\n",
              "    }\n",
              "</style>\n",
              "<table border=\"1\" class=\"dataframe\">\n",
              "  <thead>\n",
              "    <tr style=\"text-align: right;\">\n",
              "      <th></th>\n",
              "      <th>product_category_name</th>\n",
              "      <th>total_purchase</th>\n",
              "      <th>product_category_name_english</th>\n",
              "    </tr>\n",
              "  </thead>\n",
              "  <tbody>\n",
              "    <tr>\n",
              "      <th>0</th>\n",
              "      <td>cama_mesa_banho</td>\n",
              "      <td>11115</td>\n",
              "      <td>bed_bath_table</td>\n",
              "    </tr>\n",
              "    <tr>\n",
              "      <th>1</th>\n",
              "      <td>beleza_saude</td>\n",
              "      <td>9670</td>\n",
              "      <td>health_beauty</td>\n",
              "    </tr>\n",
              "    <tr>\n",
              "      <th>2</th>\n",
              "      <td>esporte_lazer</td>\n",
              "      <td>8641</td>\n",
              "      <td>sports_leisure</td>\n",
              "    </tr>\n",
              "    <tr>\n",
              "      <th>3</th>\n",
              "      <td>moveis_decoracao</td>\n",
              "      <td>8334</td>\n",
              "      <td>furniture_decor</td>\n",
              "    </tr>\n",
              "    <tr>\n",
              "      <th>4</th>\n",
              "      <td>informatica_acessorios</td>\n",
              "      <td>7827</td>\n",
              "      <td>computers_accessories</td>\n",
              "    </tr>\n",
              "    <tr>\n",
              "      <th>5</th>\n",
              "      <td>utilidades_domesticas</td>\n",
              "      <td>6964</td>\n",
              "      <td>housewares</td>\n",
              "    </tr>\n",
              "    <tr>\n",
              "      <th>6</th>\n",
              "      <td>relogios_presentes</td>\n",
              "      <td>5991</td>\n",
              "      <td>watches_gifts</td>\n",
              "    </tr>\n",
              "    <tr>\n",
              "      <th>7</th>\n",
              "      <td>telefonia</td>\n",
              "      <td>4545</td>\n",
              "      <td>telephony</td>\n",
              "    </tr>\n",
              "    <tr>\n",
              "      <th>8</th>\n",
              "      <td>ferramentas_jardim</td>\n",
              "      <td>4347</td>\n",
              "      <td>garden_tools</td>\n",
              "    </tr>\n",
              "    <tr>\n",
              "      <th>9</th>\n",
              "      <td>automotivo</td>\n",
              "      <td>4235</td>\n",
              "      <td>auto</td>\n",
              "    </tr>\n",
              "  </tbody>\n",
              "</table>\n",
              "</div>"
            ],
            "text/plain": [
              "    product_category_name  total_purchase product_category_name_english\n",
              "0         cama_mesa_banho           11115                bed_bath_table\n",
              "1            beleza_saude            9670                 health_beauty\n",
              "2           esporte_lazer            8641                sports_leisure\n",
              "3        moveis_decoracao            8334               furniture_decor\n",
              "4  informatica_acessorios            7827         computers_accessories\n",
              "5   utilidades_domesticas            6964                    housewares\n",
              "6      relogios_presentes            5991                 watches_gifts\n",
              "7               telefonia            4545                     telephony\n",
              "8      ferramentas_jardim            4347                  garden_tools\n",
              "9              automotivo            4235                          auto"
            ]
          },
          "execution_count": 83,
          "metadata": {},
          "output_type": "execute_result"
        }
      ],
      "source": [
        "most_purchased_product = ordered_product.groupby(by='product_category_name')['order_id'].count().reset_index().sort_values(by='order_id', ascending=False)\n",
        "most_purchased_product.columns = ['product_category_name', 'total_purchase']\n",
        "most_purchased_product = most_purchased_product.merge(products_translation_df[['product_category_name', 'product_category_name_english']],\n",
        "                                                      on='product_category_name',\n",
        "                                                      how='inner')\n",
        "most_purchased_product.head(10)\n"
      ]
    },
    {
      "cell_type": "markdown",
      "metadata": {
        "id": "fMpw4m2C0rxD"
      },
      "source": [
        "##Seller Rank"
      ]
    },
    {
      "cell_type": "code",
      "execution_count": null,
      "metadata": {
        "id": "9dKXYZOU0rxD",
        "outputId": "637259ca-2f00-48d8-aab8-509a0a45f84c"
      },
      "outputs": [
        {
          "data": {
            "text/html": [
              "<div>\n",
              "<style scoped>\n",
              "    .dataframe tbody tr th:only-of-type {\n",
              "        vertical-align: middle;\n",
              "    }\n",
              "\n",
              "    .dataframe tbody tr th {\n",
              "        vertical-align: top;\n",
              "    }\n",
              "\n",
              "    .dataframe thead th {\n",
              "        text-align: right;\n",
              "    }\n",
              "</style>\n",
              "<table border=\"1\" class=\"dataframe\">\n",
              "  <thead>\n",
              "    <tr style=\"text-align: right;\">\n",
              "      <th></th>\n",
              "      <th>order_id</th>\n",
              "      <th>order_item_id</th>\n",
              "      <th>product_id</th>\n",
              "      <th>seller_id</th>\n",
              "      <th>shipping_limit_date</th>\n",
              "      <th>price</th>\n",
              "      <th>freight_value</th>\n",
              "    </tr>\n",
              "  </thead>\n",
              "  <tbody>\n",
              "    <tr>\n",
              "      <th>84056</th>\n",
              "      <td>bef2faf755e64de2b34c1439e05626e0</td>\n",
              "      <td>1</td>\n",
              "      <td>d1b571cd58267d8cac8b2afd6e288bbc</td>\n",
              "      <td>3d39fbf22a665714baf62fae36029e23</td>\n",
              "      <td>2017-02-19 13:09:34</td>\n",
              "      <td>299.90</td>\n",
              "      <td>24.39</td>\n",
              "    </tr>\n",
              "    <tr>\n",
              "      <th>103681</th>\n",
              "      <td>eb77e9c6dc499d31e05de046f8467052</td>\n",
              "      <td>1</td>\n",
              "      <td>b20858dd0cc1115e2fedb0f48867495d</td>\n",
              "      <td>827f8f69dfa529c561901c4f2e0f332f</td>\n",
              "      <td>2017-06-16 17:05:17</td>\n",
              "      <td>29.90</td>\n",
              "      <td>15.79</td>\n",
              "    </tr>\n",
              "    <tr>\n",
              "      <th>30001</th>\n",
              "      <td>4428ed14e5a837c99231835f3fde0b9d</td>\n",
              "      <td>1</td>\n",
              "      <td>8d1cfc0463b545928bfb4e589e017bd4</td>\n",
              "      <td>aae3bfea055532c57fb453ed3ec80b30</td>\n",
              "      <td>2017-08-10 07:30:10</td>\n",
              "      <td>62.80</td>\n",
              "      <td>17.72</td>\n",
              "    </tr>\n",
              "    <tr>\n",
              "      <th>43032</th>\n",
              "      <td>61f4d740ca1d5469d7aeb49f65719f3f</td>\n",
              "      <td>1</td>\n",
              "      <td>18f6ea7e8cff29f8053baac6762449f9</td>\n",
              "      <td>f80edd2c5aaa505cc4b0a3b219abf4b8</td>\n",
              "      <td>2018-08-07 19:15:17</td>\n",
              "      <td>56.90</td>\n",
              "      <td>11.42</td>\n",
              "    </tr>\n",
              "    <tr>\n",
              "      <th>101183</th>\n",
              "      <td>e57ab4127be9907d3078d0227c45e63e</td>\n",
              "      <td>1</td>\n",
              "      <td>3cb39171fd36c50097f2dedbbe0dfe6e</td>\n",
              "      <td>16090f2ca825584b5a147ab24aa30c86</td>\n",
              "      <td>2018-05-03 18:30:29</td>\n",
              "      <td>28.49</td>\n",
              "      <td>18.23</td>\n",
              "    </tr>\n",
              "    <tr>\n",
              "      <th>91523</th>\n",
              "      <td>cfa740305abcdd1e81de66935e86df2d</td>\n",
              "      <td>1</td>\n",
              "      <td>195d8e91830247a20eee5eb4c4236294</td>\n",
              "      <td>a5cba26a62b8b4d0145b68b841e62e7f</td>\n",
              "      <td>2018-03-09 20:32:01</td>\n",
              "      <td>279.00</td>\n",
              "      <td>15.07</td>\n",
              "    </tr>\n",
              "    <tr>\n",
              "      <th>2927</th>\n",
              "      <td>0693ed674763a4fc34e2c763c7fd25c2</td>\n",
              "      <td>2</td>\n",
              "      <td>a0f3c43b288de04ccb40d26cf26c639d</td>\n",
              "      <td>82e0a475a88cc9595229d8029273f045</td>\n",
              "      <td>2017-07-11 02:55:30</td>\n",
              "      <td>99.80</td>\n",
              "      <td>10.06</td>\n",
              "    </tr>\n",
              "    <tr>\n",
              "      <th>54362</th>\n",
              "      <td>7b8cdadf6b13903fc09049ba85f5ecb3</td>\n",
              "      <td>1</td>\n",
              "      <td>55f166570845e0a7b4456edac9c420b7</td>\n",
              "      <td>2646baaf662d4d92ac48f047e35db92d</td>\n",
              "      <td>2018-06-07 11:10:56</td>\n",
              "      <td>60.00</td>\n",
              "      <td>20.57</td>\n",
              "    </tr>\n",
              "    <tr>\n",
              "      <th>28514</th>\n",
              "      <td>40e66087ad7bd8e05f8f52a99bdb50d0</td>\n",
              "      <td>1</td>\n",
              "      <td>4c2394abfbac7ff59ec7a420918562fa</td>\n",
              "      <td>cc419e0650a3c5ba77189a1882b7556a</td>\n",
              "      <td>2017-12-14 22:50:33</td>\n",
              "      <td>84.99</td>\n",
              "      <td>15.35</td>\n",
              "    </tr>\n",
              "    <tr>\n",
              "      <th>43666</th>\n",
              "      <td>633f58f88ccc534bb2b5bde5459217bf</td>\n",
              "      <td>1</td>\n",
              "      <td>1613b819ab5dae53aead2dbb4ebdb378</td>\n",
              "      <td>16090f2ca825584b5a147ab24aa30c86</td>\n",
              "      <td>2018-07-26 23:44:22</td>\n",
              "      <td>29.90</td>\n",
              "      <td>7.47</td>\n",
              "    </tr>\n",
              "  </tbody>\n",
              "</table>\n",
              "</div>"
            ],
            "text/plain": [
              "                                order_id  order_item_id  \\\n",
              "84056   bef2faf755e64de2b34c1439e05626e0              1   \n",
              "103681  eb77e9c6dc499d31e05de046f8467052              1   \n",
              "30001   4428ed14e5a837c99231835f3fde0b9d              1   \n",
              "43032   61f4d740ca1d5469d7aeb49f65719f3f              1   \n",
              "101183  e57ab4127be9907d3078d0227c45e63e              1   \n",
              "91523   cfa740305abcdd1e81de66935e86df2d              1   \n",
              "2927    0693ed674763a4fc34e2c763c7fd25c2              2   \n",
              "54362   7b8cdadf6b13903fc09049ba85f5ecb3              1   \n",
              "28514   40e66087ad7bd8e05f8f52a99bdb50d0              1   \n",
              "43666   633f58f88ccc534bb2b5bde5459217bf              1   \n",
              "\n",
              "                              product_id                         seller_id  \\\n",
              "84056   d1b571cd58267d8cac8b2afd6e288bbc  3d39fbf22a665714baf62fae36029e23   \n",
              "103681  b20858dd0cc1115e2fedb0f48867495d  827f8f69dfa529c561901c4f2e0f332f   \n",
              "30001   8d1cfc0463b545928bfb4e589e017bd4  aae3bfea055532c57fb453ed3ec80b30   \n",
              "43032   18f6ea7e8cff29f8053baac6762449f9  f80edd2c5aaa505cc4b0a3b219abf4b8   \n",
              "101183  3cb39171fd36c50097f2dedbbe0dfe6e  16090f2ca825584b5a147ab24aa30c86   \n",
              "91523   195d8e91830247a20eee5eb4c4236294  a5cba26a62b8b4d0145b68b841e62e7f   \n",
              "2927    a0f3c43b288de04ccb40d26cf26c639d  82e0a475a88cc9595229d8029273f045   \n",
              "54362   55f166570845e0a7b4456edac9c420b7  2646baaf662d4d92ac48f047e35db92d   \n",
              "28514   4c2394abfbac7ff59ec7a420918562fa  cc419e0650a3c5ba77189a1882b7556a   \n",
              "43666   1613b819ab5dae53aead2dbb4ebdb378  16090f2ca825584b5a147ab24aa30c86   \n",
              "\n",
              "        shipping_limit_date   price  freight_value  \n",
              "84056   2017-02-19 13:09:34  299.90          24.39  \n",
              "103681  2017-06-16 17:05:17   29.90          15.79  \n",
              "30001   2017-08-10 07:30:10   62.80          17.72  \n",
              "43032   2018-08-07 19:15:17   56.90          11.42  \n",
              "101183  2018-05-03 18:30:29   28.49          18.23  \n",
              "91523   2018-03-09 20:32:01  279.00          15.07  \n",
              "2927    2017-07-11 02:55:30   99.80          10.06  \n",
              "54362   2018-06-07 11:10:56   60.00          20.57  \n",
              "28514   2017-12-14 22:50:33   84.99          15.35  \n",
              "43666   2018-07-26 23:44:22   29.90           7.47  "
            ]
          },
          "execution_count": 98,
          "metadata": {},
          "output_type": "execute_result"
        }
      ],
      "source": [
        "order_items_df.sample(10)"
      ]
    },
    {
      "cell_type": "code",
      "execution_count": null,
      "metadata": {
        "id": "YjC_n2tA0rxD",
        "outputId": "3c29d17e-03ca-49d7-93f5-290d6beb64eb"
      },
      "outputs": [
        {
          "data": {
            "text/html": [
              "<div>\n",
              "<style scoped>\n",
              "    .dataframe tbody tr th:only-of-type {\n",
              "        vertical-align: middle;\n",
              "    }\n",
              "\n",
              "    .dataframe tbody tr th {\n",
              "        vertical-align: top;\n",
              "    }\n",
              "\n",
              "    .dataframe thead th {\n",
              "        text-align: right;\n",
              "    }\n",
              "</style>\n",
              "<table border=\"1\" class=\"dataframe\">\n",
              "  <thead>\n",
              "    <tr style=\"text-align: right;\">\n",
              "      <th></th>\n",
              "      <th>seller_id</th>\n",
              "      <th>seller_zip_code_prefix</th>\n",
              "      <th>seller_city</th>\n",
              "      <th>seller_state</th>\n",
              "    </tr>\n",
              "  </thead>\n",
              "  <tbody>\n",
              "    <tr>\n",
              "      <th>291</th>\n",
              "      <td>83deb69e889cf80f82be1dc6d5f2d486</td>\n",
              "      <td>88056</td>\n",
              "      <td>florianopolis</td>\n",
              "      <td>SC</td>\n",
              "    </tr>\n",
              "    <tr>\n",
              "      <th>1898</th>\n",
              "      <td>9fc70243fb26800cba56e8f014797004</td>\n",
              "      <td>30270</td>\n",
              "      <td>belo horizonte</td>\n",
              "      <td>MG</td>\n",
              "    </tr>\n",
              "    <tr>\n",
              "      <th>63</th>\n",
              "      <td>55f7a3319d80f7fdf078b8f03e6725fe</td>\n",
              "      <td>6056</td>\n",
              "      <td>osasco</td>\n",
              "      <td>SP</td>\n",
              "    </tr>\n",
              "  </tbody>\n",
              "</table>\n",
              "</div>"
            ],
            "text/plain": [
              "                             seller_id  seller_zip_code_prefix  \\\n",
              "291   83deb69e889cf80f82be1dc6d5f2d486                   88056   \n",
              "1898  9fc70243fb26800cba56e8f014797004                   30270   \n",
              "63    55f7a3319d80f7fdf078b8f03e6725fe                    6056   \n",
              "\n",
              "         seller_city seller_state  \n",
              "291    florianopolis           SC  \n",
              "1898  belo horizonte           MG  \n",
              "63            osasco           SP  "
            ]
          },
          "execution_count": 58,
          "metadata": {},
          "output_type": "execute_result"
        }
      ],
      "source": [
        "sellers_df.sample(3)"
      ]
    },
    {
      "cell_type": "code",
      "execution_count": null,
      "metadata": {
        "id": "Fdv7t11Q0rxD",
        "outputId": "44447673-885c-45b5-f562-b38440edd45b"
      },
      "outputs": [
        {
          "data": {
            "text/html": [
              "<div>\n",
              "<style scoped>\n",
              "    .dataframe tbody tr th:only-of-type {\n",
              "        vertical-align: middle;\n",
              "    }\n",
              "\n",
              "    .dataframe tbody tr th {\n",
              "        vertical-align: top;\n",
              "    }\n",
              "\n",
              "    .dataframe thead th {\n",
              "        text-align: right;\n",
              "    }\n",
              "</style>\n",
              "<table border=\"1\" class=\"dataframe\">\n",
              "  <thead>\n",
              "    <tr style=\"text-align: right;\">\n",
              "      <th></th>\n",
              "      <th>seller_id</th>\n",
              "      <th>seller_zip_code_prefix</th>\n",
              "      <th>seller_city</th>\n",
              "      <th>seller_state</th>\n",
              "      <th>order_id</th>\n",
              "    </tr>\n",
              "  </thead>\n",
              "  <tbody>\n",
              "    <tr>\n",
              "      <th>2343</th>\n",
              "      <td>ef506c96320abeedfb894c34db06f478</td>\n",
              "      <td>3569</td>\n",
              "      <td>sao paulo</td>\n",
              "      <td>SP</td>\n",
              "      <td>d7f99a9d27a65a88e4aba096e5ba4a47</td>\n",
              "    </tr>\n",
              "    <tr>\n",
              "      <th>47426</th>\n",
              "      <td>d2374cbcbb3ca4ab1086534108cc3ab7</td>\n",
              "      <td>14940</td>\n",
              "      <td>ibitinga</td>\n",
              "      <td>SP</td>\n",
              "      <td>fe2893f4e6b71e79a7aec9c777744a16</td>\n",
              "    </tr>\n",
              "    <tr>\n",
              "      <th>40904</th>\n",
              "      <td>cd06602b43d8800bd0afad514919d35c</td>\n",
              "      <td>4119</td>\n",
              "      <td>sao paulo</td>\n",
              "      <td>SP</td>\n",
              "      <td>8d96631a10824fcfc4c8c0a0f73bfc27</td>\n",
              "    </tr>\n",
              "  </tbody>\n",
              "</table>\n",
              "</div>"
            ],
            "text/plain": [
              "                              seller_id  seller_zip_code_prefix seller_city  \\\n",
              "2343   ef506c96320abeedfb894c34db06f478                    3569   sao paulo   \n",
              "47426  d2374cbcbb3ca4ab1086534108cc3ab7                   14940    ibitinga   \n",
              "40904  cd06602b43d8800bd0afad514919d35c                    4119   sao paulo   \n",
              "\n",
              "      seller_state                          order_id  \n",
              "2343            SP  d7f99a9d27a65a88e4aba096e5ba4a47  \n",
              "47426           SP  fe2893f4e6b71e79a7aec9c777744a16  \n",
              "40904           SP  8d96631a10824fcfc4c8c0a0f73bfc27  "
            ]
          },
          "execution_count": 116,
          "metadata": {},
          "output_type": "execute_result"
        }
      ],
      "source": [
        "seller_order = sellers_df.merge(order_items_df[['seller_id', 'order_id']], on='seller_id', how='inner')\n",
        "seller_order.sample(3)"
      ]
    },
    {
      "cell_type": "code",
      "execution_count": null,
      "metadata": {
        "id": "CmLgWKUl0rxE"
      },
      "outputs": [],
      "source": [
        "top_ten_sellers = seller_order.groupby(by=['seller_id', 'seller_city'])['order_id'].count().reset_index().sort_values(by='order_id', ascending=False)\n"
      ]
    },
    {
      "cell_type": "code",
      "execution_count": null,
      "metadata": {
        "id": "CBjBT1ny0rxE",
        "outputId": "66db255f-0d39-4cb7-d63b-7abee408b210"
      },
      "outputs": [
        {
          "data": {
            "text/html": [
              "<div>\n",
              "<style scoped>\n",
              "    .dataframe tbody tr th:only-of-type {\n",
              "        vertical-align: middle;\n",
              "    }\n",
              "\n",
              "    .dataframe tbody tr th {\n",
              "        vertical-align: top;\n",
              "    }\n",
              "\n",
              "    .dataframe thead th {\n",
              "        text-align: right;\n",
              "    }\n",
              "</style>\n",
              "<table border=\"1\" class=\"dataframe\">\n",
              "  <thead>\n",
              "    <tr style=\"text-align: right;\">\n",
              "      <th></th>\n",
              "      <th>seller_id</th>\n",
              "      <th>seller_city</th>\n",
              "      <th>total_sales</th>\n",
              "    </tr>\n",
              "  </thead>\n",
              "  <tbody>\n",
              "    <tr>\n",
              "      <th>1235</th>\n",
              "      <td>6560211a19b47992c3666cc44a7e94c0</td>\n",
              "      <td>sao paulo</td>\n",
              "      <td>2033</td>\n",
              "    </tr>\n",
              "    <tr>\n",
              "      <th>881</th>\n",
              "      <td>4a3ca9315b744ce9f8e9374361493884</td>\n",
              "      <td>ibitinga</td>\n",
              "      <td>1987</td>\n",
              "    </tr>\n",
              "    <tr>\n",
              "      <th>368</th>\n",
              "      <td>1f50f920176fa81dab994f9023523100</td>\n",
              "      <td>sao jose do rio preto</td>\n",
              "      <td>1931</td>\n",
              "    </tr>\n",
              "    <tr>\n",
              "      <th>2481</th>\n",
              "      <td>cc419e0650a3c5ba77189a1882b7556a</td>\n",
              "      <td>santo andre</td>\n",
              "      <td>1775</td>\n",
              "    </tr>\n",
              "    <tr>\n",
              "      <th>2643</th>\n",
              "      <td>da8622b14eb17ae2831f4ac5b9dab84a</td>\n",
              "      <td>piracicaba</td>\n",
              "      <td>1551</td>\n",
              "    </tr>\n",
              "    <tr>\n",
              "      <th>1824</th>\n",
              "      <td>955fee9216a65b617aa5c0531780ce60</td>\n",
              "      <td>sao paulo</td>\n",
              "      <td>1499</td>\n",
              "    </tr>\n",
              "    <tr>\n",
              "      <th>192</th>\n",
              "      <td>1025f0e2d44d7041d6cf58b6550e0bfa</td>\n",
              "      <td>sao paulo</td>\n",
              "      <td>1428</td>\n",
              "    </tr>\n",
              "    <tr>\n",
              "      <th>1535</th>\n",
              "      <td>7c67e1448b00f6e969d365cea6b010ab</td>\n",
              "      <td>itaquaquecetuba</td>\n",
              "      <td>1364</td>\n",
              "    </tr>\n",
              "    <tr>\n",
              "      <th>2836</th>\n",
              "      <td>ea8482cd71df3c1969d7b9473ff13abc</td>\n",
              "      <td>sao paulo</td>\n",
              "      <td>1203</td>\n",
              "    </tr>\n",
              "    <tr>\n",
              "      <th>1505</th>\n",
              "      <td>7a67c85e85bb2ce8582c35f2203ad736</td>\n",
              "      <td>sao paulo</td>\n",
              "      <td>1171</td>\n",
              "    </tr>\n",
              "  </tbody>\n",
              "</table>\n",
              "</div>"
            ],
            "text/plain": [
              "                             seller_id            seller_city  total_sales\n",
              "1235  6560211a19b47992c3666cc44a7e94c0              sao paulo         2033\n",
              "881   4a3ca9315b744ce9f8e9374361493884               ibitinga         1987\n",
              "368   1f50f920176fa81dab994f9023523100  sao jose do rio preto         1931\n",
              "2481  cc419e0650a3c5ba77189a1882b7556a            santo andre         1775\n",
              "2643  da8622b14eb17ae2831f4ac5b9dab84a             piracicaba         1551\n",
              "1824  955fee9216a65b617aa5c0531780ce60              sao paulo         1499\n",
              "192   1025f0e2d44d7041d6cf58b6550e0bfa              sao paulo         1428\n",
              "1535  7c67e1448b00f6e969d365cea6b010ab        itaquaquecetuba         1364\n",
              "2836  ea8482cd71df3c1969d7b9473ff13abc              sao paulo         1203\n",
              "1505  7a67c85e85bb2ce8582c35f2203ad736              sao paulo         1171"
            ]
          },
          "execution_count": 118,
          "metadata": {},
          "output_type": "execute_result"
        }
      ],
      "source": [
        "top_ten_sellers.columns = ['seller_id','seller_city', 'total_sales']\n",
        "top_ten_sellers.head(10)"
      ]
    },
    {
      "cell_type": "code",
      "execution_count": null,
      "metadata": {
        "id": "BIHpYjKZ0rxE",
        "outputId": "d95bdb3a-470e-4181-f26a-5c06930a722b"
      },
      "outputs": [
        {
          "data": {
            "text/plain": [
              "0    sao paulo\n",
              "Name: seller_city, dtype: object"
            ]
          },
          "execution_count": 223,
          "metadata": {},
          "output_type": "execute_result"
        }
      ],
      "source": [
        "top_ten_sellers.seller_city.mode()"
      ]
    },
    {
      "cell_type": "code",
      "execution_count": null,
      "metadata": {
        "id": "tMohGMHv0rxE",
        "outputId": "bab4d379-a55f-4477-a1df-391c3a7132fe"
      },
      "outputs": [
        {
          "data": {
            "text/html": [
              "<div>\n",
              "<style scoped>\n",
              "    .dataframe tbody tr th:only-of-type {\n",
              "        vertical-align: middle;\n",
              "    }\n",
              "\n",
              "    .dataframe tbody tr th {\n",
              "        vertical-align: top;\n",
              "    }\n",
              "\n",
              "    .dataframe thead th {\n",
              "        text-align: right;\n",
              "    }\n",
              "</style>\n",
              "<table border=\"1\" class=\"dataframe\">\n",
              "  <thead>\n",
              "    <tr style=\"text-align: right;\">\n",
              "      <th></th>\n",
              "      <th>seller_id</th>\n",
              "      <th>total_sales</th>\n",
              "      <th>order_id</th>\n",
              "      <th>product_id</th>\n",
              "    </tr>\n",
              "  </thead>\n",
              "  <tbody>\n",
              "    <tr>\n",
              "      <th>0</th>\n",
              "      <td>6560211a19b47992c3666cc44a7e94c0</td>\n",
              "      <td>2033</td>\n",
              "      <td>001021efaa8636c29475e7734483457d</td>\n",
              "      <td>5d7c23067ed3fc8c6e699b9373d5890b</td>\n",
              "    </tr>\n",
              "    <tr>\n",
              "      <th>1</th>\n",
              "      <td>6560211a19b47992c3666cc44a7e94c0</td>\n",
              "      <td>2033</td>\n",
              "      <td>00418a49a685c6bb60633291c3fab17a</td>\n",
              "      <td>5e21d5cab5d33e770d8150a4ee6117db</td>\n",
              "    </tr>\n",
              "    <tr>\n",
              "      <th>2</th>\n",
              "      <td>6560211a19b47992c3666cc44a7e94c0</td>\n",
              "      <td>2033</td>\n",
              "      <td>005a1dded353107dbabf8ffc83a20365</td>\n",
              "      <td>7e6c4a0bf900e259f50ba63331fd2785</td>\n",
              "    </tr>\n",
              "    <tr>\n",
              "      <th>3</th>\n",
              "      <td>6560211a19b47992c3666cc44a7e94c0</td>\n",
              "      <td>2033</td>\n",
              "      <td>006e05e81c068ddc38e48ebe189b922e</td>\n",
              "      <td>02475368dfb38934fe55f574024fe1d7</td>\n",
              "    </tr>\n",
              "    <tr>\n",
              "      <th>4</th>\n",
              "      <td>6560211a19b47992c3666cc44a7e94c0</td>\n",
              "      <td>2033</td>\n",
              "      <td>00750f68bb64537034e93554c64b41b5</td>\n",
              "      <td>526f833e1eb0a32ad9351145a761b9ab</td>\n",
              "    </tr>\n",
              "    <tr>\n",
              "      <th>...</th>\n",
              "      <td>...</td>\n",
              "      <td>...</td>\n",
              "      <td>...</td>\n",
              "      <td>...</td>\n",
              "    </tr>\n",
              "    <tr>\n",
              "      <th>112645</th>\n",
              "      <td>5f57db27027655e6c6a391601daa0258</td>\n",
              "      <td>1</td>\n",
              "      <td>8dde389ebcf87898f96614bf718a3424</td>\n",
              "      <td>09c85a316aae843ab464c8c55d6f8b80</td>\n",
              "    </tr>\n",
              "    <tr>\n",
              "      <th>112646</th>\n",
              "      <td>5e25c632f9db6cfb8bc100421c2737b6</td>\n",
              "      <td>1</td>\n",
              "      <td>780a9cc080b68de71009118d45602439</td>\n",
              "      <td>cff8174d451ee47afde02105d11b1758</td>\n",
              "    </tr>\n",
              "    <tr>\n",
              "      <th>112647</th>\n",
              "      <td>5e106d93b717c2682b9383da480364a1</td>\n",
              "      <td>1</td>\n",
              "      <td>658276ea9713496f567a799baedc188d</td>\n",
              "      <td>13cf6ebf8152ba2ef2a1ee491f7346c1</td>\n",
              "    </tr>\n",
              "    <tr>\n",
              "      <th>112648</th>\n",
              "      <td>d36b07fd3c5088e477a72d1fccfe29d4</td>\n",
              "      <td>1</td>\n",
              "      <td>d3c64cf55752f7821e85e7ea9b9b3f30</td>\n",
              "      <td>44414d55ce2808a7b8f3568a92d1484f</td>\n",
              "    </tr>\n",
              "    <tr>\n",
              "      <th>112649</th>\n",
              "      <td>7d81e74a4755b552267cd5e081563028</td>\n",
              "      <td>1</td>\n",
              "      <td>ed0800d9508fd0139f95a3934a4802aa</td>\n",
              "      <td>86dad5d04b5dff7634aa79ca9d0324a7</td>\n",
              "    </tr>\n",
              "  </tbody>\n",
              "</table>\n",
              "<p>112650 rows × 4 columns</p>\n",
              "</div>"
            ],
            "text/plain": [
              "                               seller_id  total_sales  \\\n",
              "0       6560211a19b47992c3666cc44a7e94c0         2033   \n",
              "1       6560211a19b47992c3666cc44a7e94c0         2033   \n",
              "2       6560211a19b47992c3666cc44a7e94c0         2033   \n",
              "3       6560211a19b47992c3666cc44a7e94c0         2033   \n",
              "4       6560211a19b47992c3666cc44a7e94c0         2033   \n",
              "...                                  ...          ...   \n",
              "112645  5f57db27027655e6c6a391601daa0258            1   \n",
              "112646  5e25c632f9db6cfb8bc100421c2737b6            1   \n",
              "112647  5e106d93b717c2682b9383da480364a1            1   \n",
              "112648  d36b07fd3c5088e477a72d1fccfe29d4            1   \n",
              "112649  7d81e74a4755b552267cd5e081563028            1   \n",
              "\n",
              "                                order_id                        product_id  \n",
              "0       001021efaa8636c29475e7734483457d  5d7c23067ed3fc8c6e699b9373d5890b  \n",
              "1       00418a49a685c6bb60633291c3fab17a  5e21d5cab5d33e770d8150a4ee6117db  \n",
              "2       005a1dded353107dbabf8ffc83a20365  7e6c4a0bf900e259f50ba63331fd2785  \n",
              "3       006e05e81c068ddc38e48ebe189b922e  02475368dfb38934fe55f574024fe1d7  \n",
              "4       00750f68bb64537034e93554c64b41b5  526f833e1eb0a32ad9351145a761b9ab  \n",
              "...                                  ...                               ...  \n",
              "112645  8dde389ebcf87898f96614bf718a3424  09c85a316aae843ab464c8c55d6f8b80  \n",
              "112646  780a9cc080b68de71009118d45602439  cff8174d451ee47afde02105d11b1758  \n",
              "112647  658276ea9713496f567a799baedc188d  13cf6ebf8152ba2ef2a1ee491f7346c1  \n",
              "112648  d3c64cf55752f7821e85e7ea9b9b3f30  44414d55ce2808a7b8f3568a92d1484f  \n",
              "112649  ed0800d9508fd0139f95a3934a4802aa  86dad5d04b5dff7634aa79ca9d0324a7  \n",
              "\n",
              "[112650 rows x 4 columns]"
            ]
          },
          "execution_count": 157,
          "metadata": {},
          "output_type": "execute_result"
        }
      ],
      "source": [
        "top_ten_seller_product = top_ten_sellers.merge(order_items_df[['seller_id','order_id','product_id']], on='seller_id',how='inner')\n",
        "top_ten_seller_product = top_ten_seller_product.drop(columns=['seller_city'])\n",
        "top_ten_seller_product"
      ]
    },
    {
      "cell_type": "code",
      "execution_count": null,
      "metadata": {
        "id": "PN9gI_Pj0rxE",
        "outputId": "f9b6f566-b14f-46cd-c74f-3900b8c65102"
      },
      "outputs": [
        {
          "data": {
            "text/html": [
              "<div>\n",
              "<style scoped>\n",
              "    .dataframe tbody tr th:only-of-type {\n",
              "        vertical-align: middle;\n",
              "    }\n",
              "\n",
              "    .dataframe tbody tr th {\n",
              "        vertical-align: top;\n",
              "    }\n",
              "\n",
              "    .dataframe thead th {\n",
              "        text-align: right;\n",
              "    }\n",
              "</style>\n",
              "<table border=\"1\" class=\"dataframe\">\n",
              "  <thead>\n",
              "    <tr style=\"text-align: right;\">\n",
              "      <th></th>\n",
              "      <th>seller_id</th>\n",
              "      <th>total_sales</th>\n",
              "      <th>product_id</th>\n",
              "      <th>product_order_count</th>\n",
              "    </tr>\n",
              "  </thead>\n",
              "  <tbody>\n",
              "    <tr>\n",
              "      <th>13748</th>\n",
              "      <td>6560211a19b47992c3666cc44a7e94c0</td>\n",
              "      <td>2033</td>\n",
              "      <td>a92930c327948861c015c919a0bcb4a8</td>\n",
              "      <td>160</td>\n",
              "    </tr>\n",
              "    <tr>\n",
              "      <th>13779</th>\n",
              "      <td>6560211a19b47992c3666cc44a7e94c0</td>\n",
              "      <td>2033</td>\n",
              "      <td>d017a2151d543a9885604dc62a3d9dcc</td>\n",
              "      <td>140</td>\n",
              "    </tr>\n",
              "    <tr>\n",
              "      <th>13601</th>\n",
              "      <td>6560211a19b47992c3666cc44a7e94c0</td>\n",
              "      <td>2033</td>\n",
              "      <td>2136c70bbe723d338fab53da3c03e6dc</td>\n",
              "      <td>89</td>\n",
              "    </tr>\n",
              "    <tr>\n",
              "      <th>13769</th>\n",
              "      <td>6560211a19b47992c3666cc44a7e94c0</td>\n",
              "      <td>2033</td>\n",
              "      <td>c3ba4e8d3cb30049213b682e751e9d00</td>\n",
              "      <td>58</td>\n",
              "    </tr>\n",
              "    <tr>\n",
              "      <th>13792</th>\n",
              "      <td>6560211a19b47992c3666cc44a7e94c0</td>\n",
              "      <td>2033</td>\n",
              "      <td>dc52f0f5d3ec37a93eaf956cde4e5d2c</td>\n",
              "      <td>39</td>\n",
              "    </tr>\n",
              "    <tr>\n",
              "      <th>13589</th>\n",
              "      <td>6560211a19b47992c3666cc44a7e94c0</td>\n",
              "      <td>2033</td>\n",
              "      <td>1600dcf1cea8c0c83702e07b577ab231</td>\n",
              "      <td>38</td>\n",
              "    </tr>\n",
              "    <tr>\n",
              "      <th>13663</th>\n",
              "      <td>6560211a19b47992c3666cc44a7e94c0</td>\n",
              "      <td>2033</td>\n",
              "      <td>57f2bc497c1a3ebe41ba7a06d78ed159</td>\n",
              "      <td>38</td>\n",
              "    </tr>\n",
              "    <tr>\n",
              "      <th>13594</th>\n",
              "      <td>6560211a19b47992c3666cc44a7e94c0</td>\n",
              "      <td>2033</td>\n",
              "      <td>186fe07c8b8005ec6a498587ffbc1352</td>\n",
              "      <td>36</td>\n",
              "    </tr>\n",
              "    <tr>\n",
              "      <th>13628</th>\n",
              "      <td>6560211a19b47992c3666cc44a7e94c0</td>\n",
              "      <td>2033</td>\n",
              "      <td>380b4664ba5bb18cc9db78ee6bac3558</td>\n",
              "      <td>36</td>\n",
              "    </tr>\n",
              "    <tr>\n",
              "      <th>13750</th>\n",
              "      <td>6560211a19b47992c3666cc44a7e94c0</td>\n",
              "      <td>2033</td>\n",
              "      <td>aa8d88eb4b9cb38894e33fa624c4287f</td>\n",
              "      <td>33</td>\n",
              "    </tr>\n",
              "  </tbody>\n",
              "</table>\n",
              "</div>"
            ],
            "text/plain": [
              "                              seller_id  total_sales  \\\n",
              "13748  6560211a19b47992c3666cc44a7e94c0         2033   \n",
              "13779  6560211a19b47992c3666cc44a7e94c0         2033   \n",
              "13601  6560211a19b47992c3666cc44a7e94c0         2033   \n",
              "13769  6560211a19b47992c3666cc44a7e94c0         2033   \n",
              "13792  6560211a19b47992c3666cc44a7e94c0         2033   \n",
              "13589  6560211a19b47992c3666cc44a7e94c0         2033   \n",
              "13663  6560211a19b47992c3666cc44a7e94c0         2033   \n",
              "13594  6560211a19b47992c3666cc44a7e94c0         2033   \n",
              "13628  6560211a19b47992c3666cc44a7e94c0         2033   \n",
              "13750  6560211a19b47992c3666cc44a7e94c0         2033   \n",
              "\n",
              "                             product_id  product_order_count  \n",
              "13748  a92930c327948861c015c919a0bcb4a8                  160  \n",
              "13779  d017a2151d543a9885604dc62a3d9dcc                  140  \n",
              "13601  2136c70bbe723d338fab53da3c03e6dc                   89  \n",
              "13769  c3ba4e8d3cb30049213b682e751e9d00                   58  \n",
              "13792  dc52f0f5d3ec37a93eaf956cde4e5d2c                   39  \n",
              "13589  1600dcf1cea8c0c83702e07b577ab231                   38  \n",
              "13663  57f2bc497c1a3ebe41ba7a06d78ed159                   38  \n",
              "13594  186fe07c8b8005ec6a498587ffbc1352                   36  \n",
              "13628  380b4664ba5bb18cc9db78ee6bac3558                   36  \n",
              "13750  aa8d88eb4b9cb38894e33fa624c4287f                   33  "
            ]
          },
          "execution_count": 195,
          "metadata": {},
          "output_type": "execute_result"
        }
      ],
      "source": [
        "top_ten_seller_product_tier = top_ten_seller_product.groupby(by=['seller_id','total_sales','product_id'])\\\n",
        ".agg(\n",
        "    product_order_count =('order_id', 'count')\n",
        ").reset_index()\n",
        "top_ten_seller_product_tier = top_ten_seller_product_tier.sort_values(by=['total_sales', 'product_order_count'], ascending=[False, False])\n",
        "top_ten_seller_product_tier.head(10)\n"
      ]
    },
    {
      "cell_type": "code",
      "execution_count": null,
      "metadata": {
        "id": "gxR64Gfv0rxE",
        "outputId": "46dad464-4108-4b1c-b255-c10dd266d5c2"
      },
      "outputs": [
        {
          "data": {
            "text/html": [
              "<div>\n",
              "<style scoped>\n",
              "    .dataframe tbody tr th:only-of-type {\n",
              "        vertical-align: middle;\n",
              "    }\n",
              "\n",
              "    .dataframe tbody tr th {\n",
              "        vertical-align: top;\n",
              "    }\n",
              "\n",
              "    .dataframe thead th {\n",
              "        text-align: right;\n",
              "    }\n",
              "</style>\n",
              "<table border=\"1\" class=\"dataframe\">\n",
              "  <thead>\n",
              "    <tr style=\"text-align: right;\">\n",
              "      <th></th>\n",
              "      <th>product_category_name</th>\n",
              "      <th>product_category_name_english</th>\n",
              "    </tr>\n",
              "  </thead>\n",
              "  <tbody>\n",
              "    <tr>\n",
              "      <th>9</th>\n",
              "      <td>relogios_presentes</td>\n",
              "      <td>watches_gifts</td>\n",
              "    </tr>\n",
              "  </tbody>\n",
              "</table>\n",
              "</div>"
            ],
            "text/plain": [
              "  product_category_name product_category_name_english\n",
              "9    relogios_presentes                 watches_gifts"
            ]
          },
          "execution_count": 220,
          "metadata": {},
          "output_type": "execute_result"
        }
      ],
      "source": [
        "top_one_product_id = top_ten_seller_product_tier['product_id'].iloc[0]\n",
        "top_one_product = ordered_product.loc[ordered_product['product_id']== top_one_product_id, 'product_category_name']\n",
        "\n",
        "products_translation_df.loc[products_translation_df['product_category_name']==top_one_product.iloc[0]]"
      ]
    },
    {
      "cell_type": "code",
      "execution_count": null,
      "metadata": {
        "id": "h2PkxHF70rxE",
        "outputId": "d8ef31bd-11bf-40ca-915b-a0d2437adfaa"
      },
      "outputs": [
        {
          "data": {
            "text/plain": [
              "'sao paulo'"
            ]
          },
          "execution_count": 221,
          "metadata": {},
          "output_type": "execute_result"
        }
      ],
      "source": [
        "top_one_city = top_ten_sellers['seller_city'].values[0]\n",
        "top_one_city"
      ]
    },
    {
      "cell_type": "markdown",
      "metadata": {
        "id": "ViA0fbdi0rxE"
      },
      "source": [
        "#Visualization and Explainatory Analysis"
      ]
    },
    {
      "cell_type": "markdown",
      "metadata": {
        "id": "g_hrt5J70rxE"
      },
      "source": [
        "##Wich region gave the most revenue?"
      ]
    },
    {
      "cell_type": "code",
      "execution_count": null,
      "metadata": {
        "id": "BuaVFMpb0rxE",
        "outputId": "daaf9ccf-e5c6-4ec2-e445-194082c0d73c"
      },
      "outputs": [
        {
          "data": {
            "image/png": "[encoded data removed]",
            "text/plain": [
              "<Figure size 864x432 with 1 Axes>"
            ]
          },
          "metadata": {
            "needs_background": "light"
          },
          "output_type": "display_data"
        }
      ],
      "source": [
        "plt.figure(figsize=(12, 6))\n",
        "plt.barh(state_revenue['customer_state'].head(10), state_revenue['payment_value'].head(10), color='skyblue')\n",
        "plt.text(state_revenue['payment_value'].values[0], state_revenue['customer_state'].values[0], f\"{state_revenue['payment_value'].values[0]}\")\n",
        "plt.xlabel('Total Revenue')\n",
        "plt.ylabel('Customer State')\n",
        "plt.title('Top 10 Customer State by Total Revenue')\n",
        "\n",
        "plt.gca().invert_yaxis()\n",
        "plt.show()\n"
      ]
    },
    {
      "cell_type": "markdown",
      "metadata": {
        "id": "veZpp3ib0rxE"
      },
      "source": [
        "Insight:\n",
        "- São Paulo(SP) becoming state with the highest revenue 5998226.96, which is no wonder because São Paulo is the most populated state in Brazil.\n",
        "- Rio de Janeiro(RJ) as the third most populated state in Brazil is in the second position with highest revenue\n",
        "- Minas Gerais(MG) the second most populated state in Brazil, ranks third in revenue instead\n"
      ]
    },
    {
      "cell_type": "markdown",
      "metadata": {
        "id": "LlD7qlG80rxF"
      },
      "source": [
        "##Are there specific times in all regions when customers make the most purchase ?"
      ]
    },
    {
      "cell_type": "markdown",
      "metadata": {
        "id": "dT4wWOFw0rxF"
      },
      "source": [
        "daily revenue trend"
      ]
    },
    {
      "cell_type": "code",
      "execution_count": null,
      "metadata": {
        "id": "uwjgVr6a0rxF",
        "outputId": "7650cf4d-2309-46cc-e73f-3d013ff9b612"
      },
      "outputs": [
        {
          "data": {
            "image/png": "[encoded data removed]",
            "text/plain": [
              "<Figure size 864x432 with 1 Axes>"
            ]
          },
          "metadata": {
            "needs_background": "light"
          },
          "output_type": "display_data"
        }
      ],
      "source": [
        "plt.figure(figsize=(12,6))\n",
        "plt.plot(revenue_trend['order_date'], revenue_trend['payment_value'], label='Revenue', color = 'yellow')\n",
        "plt.title('Revenue Trend in Daily Interval')\n",
        "plt.xlabel('Date', size = 15)\n",
        "plt.ylabel('Revenue', size=15)\n",
        "plt.scatter(peak_date, peak_revenue, color='red', s=15)\n",
        "plt.text(peak_date, peak_revenue, f\"{peak_revenue} revenue on {peak_date}\")\n",
        "plt.legend()\n",
        "plt.show()"
      ]
    },
    {
      "cell_type": "markdown",
      "metadata": {
        "id": "F7WJVytL0rxF"
      },
      "source": [
        "Purchase trend in 24 Hour interval"
      ]
    },
    {
      "cell_type": "code",
      "execution_count": null,
      "metadata": {
        "id": "tGxrGOY90rxF",
        "outputId": "6e0877d1-a8cc-4757-e046-5e607859516c"
      },
      "outputs": [
        {
          "data": {
            "image/png": "[encoded data removed]",
            "text/plain": [
              "<Figure size 864x432 with 1 Axes>"
            ]
          },
          "metadata": {
            "needs_background": "light"
          },
          "output_type": "display_data"
        }
      ],
      "source": [
        "plt.figure(figsize=(12, 6))\n",
        "plt.plot(purchase_hour_trend['order_hour'], purchase_hour_trend['order_count_in_hour'])\n",
        "plt.title('Hourly Purchase Trend')\n",
        "plt.xlabel('Hours',size=15)\n",
        "plt.scatter(peak_time['order_hour'], peak_time['order_count_in_hour'], s=15, label='Peak Purchase', color='red')\n",
        "plt.text(peak_time['order_hour'], peak_time['order_count_in_hour'], f\"{order_count_in_hour_max} orders at {peak_time['order_hour'].values[0]}:00\", fontsize=10, color='red', ha='center', va='bottom')\n",
        "plt.xticks(range(0,24))\n",
        "plt.ylabel('Purchase Count')\n",
        "plt.show()"
      ]
    },
    {
      "cell_type": "markdown",
      "metadata": {
        "id": "eMAWdwTJ0rxF"
      },
      "source": [
        "Insight:\n",
        "- Daily revenue trend shows us the peak time is happened at 2017-11-24 highest revenue touching 179200.03 in accumulation from all state at that day.\n",
        "- Peak time purchasing is at around 16:00 and it reach 6971 purchasement, the Up trend happened at around 6:00 - 7:00 mouring and continue until 11.00, side way movement occur or when it reach lunch time where most people scroll around with their handphone. Down trend start at around 21:00"
      ]
    },
    {
      "cell_type": "markdown",
      "metadata": {
        "id": "7FXD8bx-0rxF"
      },
      "source": [
        "##What are the most purchased products?"
      ]
    },
    {
      "cell_type": "code",
      "execution_count": null,
      "metadata": {
        "id": "XhMIBsj80rxF",
        "outputId": "44180656-8d51-4c67-9ddc-0cb92ff1d762"
      },
      "outputs": [
        {
          "data": {
            "image/png": "[encoded data removed]",
            "text/plain": [
              "<Figure size 864x432 with 1 Axes>"
            ]
          },
          "metadata": {
            "needs_background": "light"
          },
          "output_type": "display_data"
        }
      ],
      "source": [
        "plt.figure(figsize=(12, 6))\n",
        "plt.barh(most_purchased_product['product_category_name_english'].head(10), most_purchased_product['total_purchase'].head(10), color='skyblue')\n",
        "plt.text(most_purchased_product['total_purchase'].values[0], most_purchased_product['product_category_name_english'].values[0], f\"{most_purchased_product['total_purchase'].values[0]}\")\n",
        "plt.xlabel('product_category_name')\n",
        "plt.ylabel('Customer total_purchase')\n",
        "plt.title('Top 10 Purchased Products')\n",
        "\n",
        "plt.gca().invert_yaxis()\n",
        "plt.show()\n"
      ]
    },
    {
      "cell_type": "markdown",
      "metadata": {
        "id": "P5C-SnqY0rxF"
      },
      "source": [
        "Insight:\n",
        "- Apperntly people love Cama mesa banho or Linen with 11115 purchasement\n",
        "- These top ten products mostly are home equipment\n"
      ]
    },
    {
      "cell_type": "markdown",
      "metadata": {
        "id": "i8ex0DJG0rxF"
      },
      "source": [
        "##Which seller make the most selling?"
      ]
    },
    {
      "cell_type": "code",
      "execution_count": null,
      "metadata": {
        "id": "QtL4Xwyb0rxG",
        "outputId": "8af63b49-d9c9-4ceb-fee3-7396b78bedb9"
      },
      "outputs": [
        {
          "data": {
            "image/png": "[encoded data removed]",
            "text/plain": [
              "<Figure size 864x432 with 1 Axes>"
            ]
          },
          "metadata": {
            "needs_background": "light"
          },
          "output_type": "display_data"
        }
      ],
      "source": [
        "plt.figure(figsize=(12,6))\n",
        "plt.barh(top_ten_sellers['seller_id'].head(10), top_ten_sellers['total_sales'].head(10), color='skyblue')\n",
        "plt.text(top_ten_sellers['total_sales'].values[0], top_ten_sellers['seller_id'].values[0], f\"{top_ten_sellers['total_sales'].values[0]}\")\n",
        "plt.xlabel('Seller ID')\n",
        "plt.ylabel('Total Sales')\n",
        "plt.gca().invert_yaxis()\n",
        "plt.show()"
      ]
    },
    {
      "cell_type": "markdown",
      "metadata": {
        "id": "CyLsItCq0rxG"
      },
      "source": [
        "Insight:\n",
        "- Seller with ID 6560211a19b47992c3666cc44a7e94c0 and total sales 2033 is from sao paulo which is also the highest state revenue. Watches and gifts becomes the top selling with 160 total orders\n",
        "- Top 10 seller are mostly from Sao Paulo"
      ]
    },
    {
      "cell_type": "markdown",
      "metadata": {
        "id": "f2uSzJQC0rxG"
      },
      "source": [
        "#Conclusion"
      ]
    },
    {
      "cell_type": "markdown",
      "source": [
        "- Revenue and Regional Trends:\n",
        "São Paulo (SP) emerged as the highest revenue-generating state, aligning with its status as Brazil's most populous state. Notably, while Minas Gerais (MG) is the second most populous, it ranked third in revenue, highlighting potential variations in purchasing power or preferences across regions. The analysis also identified a daily revenue peak on 2017-11-24, suggesting the influence of specific events or promotions.\n",
        "- Purchase Timing:\n",
        "Customer purchase behavior showed a clear trend, peaking at 16:00 with 6971 purchases. An upward trend was observed during morning hours (6:00-11:00) and a downward trend post-21:00, suggesting the influence of daily routines and work schedules on online shopping habits.\n",
        "- Product Preferences:\n",
        "\"cama_mesa_banho\" (bed_bath_table), primarily home equipment products, emerged as the most purchased category with 11115 purchases. This highlights the significance of home-related products in the Brazilian e-commerce market.\n",
        "- Seller Performance:\n",
        "The seller with ID \"6560211a19b47992c3666cc44a7e94c0\" based in São Paulo achieved the highest sales, totaling 2033 orders. This suggests a correlation between seller location and performance, aligning with the regional revenue trends. Watches and gifts were the top-selling product category for this seller.\n",
        "\n",
        "By this analysis we can leverage regional insight to make a data-driven campaigns focusing on the high-revenue states or creating a campaigns to make seller climbing the ladder."
      ],
      "metadata": {
        "id": "IyDvKb26004C"
      }
    }
  ],
  "metadata": {
    "colab": {
      "provenance": [],
      "include_colab_link": true
    },
    "kernelspec": {
      "display_name": "Python 3 (ipykernel)",
      "language": "python",
      "name": "python3"
    },
    "language_info": {
      "codemirror_mode": {
        "name": "ipython",
        "version": 3
      },
      "file_extension": ".py",
      "mimetype": "text/x-python",
      "name": "python",
      "nbconvert_exporter": "python",
      "pygments_lexer": "ipython3",
      "version": "3.9.12"
    }
  },
  "nbformat": 4,
  "nbformat_minor": 0
}