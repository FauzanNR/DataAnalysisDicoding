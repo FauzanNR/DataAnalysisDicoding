{
  "cells": [
    {
      "cell_type": "markdown",
      "metadata": {
        "colab_type": "text",
        "id": "view-in-github"
      },
      "source": [
        "<a href=\"https://colab.research.google.com/github/FauzanNR/DataAnalysisDicoding/blob/main/data_analysis.ipynb\" target=\"_parent\"><img src=\"https://colab.research.google.com/assets/colab-badge.svg\" alt=\"Open In Colab\"/></a>"
      ]
    },
    {
      "cell_type": "markdown",
      "metadata": {
        "id": "8cWiv8BqRqN7"
      },
      "source": [
        "# E-Comerce Public Data Analysis\n",
        "\n",
        "- **Nama:** Fauzan Nur Rifai\n",
        "- **Email:** fauzannur.rifai.fnr@gmail.com\n",
        "- **ID Dicoding:** fauzannurrifai"
      ]
    },
    {
      "cell_type": "markdown",
      "metadata": {
        "id": "wU9MEh0aTRFg"
      },
      "source": [
        "# Business Questions\n",
        "- Wich region gave the most revenue?\n",
        "- Are there specific times in all regions when customers make the most purchase ?\n",
        "- What are the most purchased products?\n",
        "- Which seller make the most selling?\n",
        "\n"
      ]
    },
    {
      "cell_type": "markdown",
      "metadata": {
        "id": "S7CrrFmFhhjd"
      },
      "source": [
        "# Importing Library"
      ]
    },
    {
      "cell_type": "code",
      "execution_count": 1,
      "metadata": {
        "id": "629YFciXhr5L"
      },
      "outputs": [],
      "source": [
        "import pandas as pd\n",
        "import matplotlib.pyplot as plt\n",
        "import numpy as np\n",
        "import seaborn as sns\n",
        "\n",
        "\n",
        "pd.set_option('display.width', None)       # Avoid truncation"
      ]
    },
    {
      "cell_type": "markdown",
      "metadata": {
        "id": "NHTu_HsoiT1A"
      },
      "source": [
        "# Data Wrangling"
      ]
    },
    {
      "cell_type": "markdown",
      "metadata": {
        "id": "Zh_XjBT0ijBM"
      },
      "source": [
        "## Data Gathering"
      ]
    },
    {
      "cell_type": "code",
      "execution_count": 2,
      "metadata": {
        "id": "wNkhCAJ1jmxq"
      },
      "outputs": [],
      "source": [
        "customers_df = pd.read_csv(\"Data/E-Commerce-Public-Dataset/customers_dataset.csv\")\n",
        "orders_df = pd.read_csv(\"Data/E-Commerce-Public-Dataset/orders_dataset.csv\")\n",
        "geolocation_df = pd.read_csv(\"Data/E-Commerce-Public-Dataset/geolocation_dataset.csv\")\n",
        "order_items_df = pd.read_csv(\"Data/E-Commerce-Public-Dataset/order_items_dataset.csv\")\n",
        "order_payments_df = pd.read_csv(\"Data/E-Commerce-Public-Dataset/order_payments_dataset.csv\")\n",
        "sellers_df = pd.read_csv(\"Data/E-Commerce-Public-Dataset/sellers_dataset.csv\")\n",
        "products_df = pd.read_csv(\"Data/E-Commerce-Public-Dataset/products_dataset.csv\")\n",
        "products_translation_df = pd.read_csv(\"Data/E-Commerce-Public-Dataset/product_category_name_translation.csv\")"
      ]
    },
    {
      "cell_type": "code",
      "execution_count": 3,
      "metadata": {
        "id": "E2Xi4BQC0rw3"
      },
      "outputs": [],
      "source": [
        "customers_df.name = \"Customers\"\n",
        "orders_df.name = \"Orders\"\n",
        "geolocation_df.name = \"Geolocations\"\n",
        "order_items_df.name = \"Order Items\"\n",
        "order_payments_df.name = \"Order Payments\"\n",
        "sellers_df.name = \"Sellers\"\n",
        "products_df.name = \"Products\"\n",
        "products_translation_df.name = \"Translated Product\"\n",
        "df_list = [ customers_df, orders_df, geolocation_df, order_items_df, order_payments_df, sellers_df, products_df, products_translation_df]"
      ]
    },
    {
      "cell_type": "code",
      "execution_count": 4,
      "metadata": {
        "id": "22G6i4yy0rw3",
        "outputId": "92c82253-d469-495f-cb7d-2448dc5da15c"
      },
      "outputs": [
        {
          "name": "stdout",
          "output_type": "stream",
          "text": [
            "###Data Customers Info###\n",
            "<class 'pandas.core.frame.DataFrame'>\n",
            "RangeIndex: 99441 entries, 0 to 99440\n",
            "Data columns (total 5 columns):\n",
            " #   Column                    Non-Null Count  Dtype \n",
            "---  ------                    --------------  ----- \n",
            " 0   customer_id               99441 non-null  object\n",
            " 1   customer_unique_id        99441 non-null  object\n",
            " 2   customer_zip_code_prefix  99441 non-null  int64 \n",
            " 3   customer_city             99441 non-null  object\n",
            " 4   customer_state            99441 non-null  object\n",
            "dtypes: int64(1), object(4)\n",
            "memory usage: 3.8+ MB\n",
            "###Data Orders Info###\n",
            "<class 'pandas.core.frame.DataFrame'>\n",
            "RangeIndex: 99441 entries, 0 to 99440\n",
            "Data columns (total 8 columns):\n",
            " #   Column                         Non-Null Count  Dtype \n",
            "---  ------                         --------------  ----- \n",
            " 0   order_id                       99441 non-null  object\n",
            " 1   customer_id                    99441 non-null  object\n",
            " 2   order_status                   99441 non-null  object\n",
            " 3   order_purchase_timestamp       99441 non-null  object\n",
            " 4   order_approved_at              99281 non-null  object\n",
            " 5   order_delivered_carrier_date   97658 non-null  object\n",
            " 6   order_delivered_customer_date  96476 non-null  object\n",
            " 7   order_estimated_delivery_date  99441 non-null  object\n",
            "dtypes: object(8)\n",
            "memory usage: 6.1+ MB\n",
            "###Data Geolocations Info###\n",
            "<class 'pandas.core.frame.DataFrame'>\n",
            "RangeIndex: 1000163 entries, 0 to 1000162\n",
            "Data columns (total 5 columns):\n",
            " #   Column                       Non-Null Count    Dtype  \n",
            "---  ------                       --------------    -----  \n",
            " 0   geolocation_zip_code_prefix  1000163 non-null  int64  \n",
            " 1   geolocation_lat              1000163 non-null  float64\n",
            " 2   geolocation_lng              1000163 non-null  float64\n",
            " 3   geolocation_city             1000163 non-null  object \n",
            " 4   geolocation_state            1000163 non-null  object \n",
            "dtypes: float64(2), int64(1), object(2)\n",
            "memory usage: 38.2+ MB\n",
            "###Data Order Items Info###\n",
            "<class 'pandas.core.frame.DataFrame'>\n",
            "RangeIndex: 112650 entries, 0 to 112649\n",
            "Data columns (total 7 columns):\n",
            " #   Column               Non-Null Count   Dtype  \n",
            "---  ------               --------------   -----  \n",
            " 0   order_id             112650 non-null  object \n",
            " 1   order_item_id        112650 non-null  int64  \n",
            " 2   product_id           112650 non-null  object \n",
            " 3   seller_id            112650 non-null  object \n",
            " 4   shipping_limit_date  112650 non-null  object \n",
            " 5   price                112650 non-null  float64\n",
            " 6   freight_value        112650 non-null  float64\n",
            "dtypes: float64(2), int64(1), object(4)\n",
            "memory usage: 6.0+ MB\n",
            "###Data Order Payments Info###\n",
            "<class 'pandas.core.frame.DataFrame'>\n",
            "RangeIndex: 103886 entries, 0 to 103885\n",
            "Data columns (total 5 columns):\n",
            " #   Column                Non-Null Count   Dtype  \n",
            "---  ------                --------------   -----  \n",
            " 0   order_id              103886 non-null  object \n",
            " 1   payment_sequential    103886 non-null  int64  \n",
            " 2   payment_type          103886 non-null  object \n",
            " 3   payment_installments  103886 non-null  int64  \n",
            " 4   payment_value         103886 non-null  float64\n",
            "dtypes: float64(1), int64(2), object(2)\n",
            "memory usage: 4.0+ MB\n",
            "###Data Sellers Info###\n",
            "<class 'pandas.core.frame.DataFrame'>\n",
            "RangeIndex: 3095 entries, 0 to 3094\n",
            "Data columns (total 4 columns):\n",
            " #   Column                  Non-Null Count  Dtype \n",
            "---  ------                  --------------  ----- \n",
            " 0   seller_id               3095 non-null   object\n",
            " 1   seller_zip_code_prefix  3095 non-null   int64 \n",
            " 2   seller_city             3095 non-null   object\n",
            " 3   seller_state            3095 non-null   object\n",
            "dtypes: int64(1), object(3)\n",
            "memory usage: 96.8+ KB\n",
            "###Data Products Info###\n",
            "<class 'pandas.core.frame.DataFrame'>\n",
            "RangeIndex: 32951 entries, 0 to 32950\n",
            "Data columns (total 9 columns):\n",
            " #   Column                      Non-Null Count  Dtype  \n",
            "---  ------                      --------------  -----  \n",
            " 0   product_id                  32951 non-null  object \n",
            " 1   product_category_name       32341 non-null  object \n",
            " 2   product_name_lenght         32341 non-null  float64\n",
            " 3   product_description_lenght  32341 non-null  float64\n",
            " 4   product_photos_qty          32341 non-null  float64\n",
            " 5   product_weight_g            32949 non-null  float64\n",
            " 6   product_length_cm           32949 non-null  float64\n",
            " 7   product_height_cm           32949 non-null  float64\n",
            " 8   product_width_cm            32949 non-null  float64\n",
            "dtypes: float64(7), object(2)\n",
            "memory usage: 2.3+ MB\n",
            "###Data Translated Product Info###\n",
            "<class 'pandas.core.frame.DataFrame'>\n",
            "RangeIndex: 71 entries, 0 to 70\n",
            "Data columns (total 2 columns):\n",
            " #   Column                         Non-Null Count  Dtype \n",
            "---  ------                         --------------  ----- \n",
            " 0   product_category_name          71 non-null     object\n",
            " 1   product_category_name_english  71 non-null     object\n",
            "dtypes: object(2)\n",
            "memory usage: 1.2+ KB\n"
          ]
        }
      ],
      "source": [
        "for data in df_list:\n",
        "    print(f\"###Data {data.name} Info###\")\n",
        "    data.info()"
      ]
    },
    {
      "cell_type": "markdown",
      "metadata": {
        "id": "f_6Br9w40rw3"
      },
      "source": [
        "##Data Assesment"
      ]
    },
    {
      "cell_type": "code",
      "execution_count": 5,
      "metadata": {
        "id": "0ovK0Kkm0rw4",
        "outputId": "14cb7d4d-9ad2-44e2-8ad6-327618bb509a"
      },
      "outputs": [
        {
          "name": "stdout",
          "output_type": "stream",
          "text": [
            "###Customers###\n",
            "---Missing Data---\n",
            "customer_id                 0\n",
            "customer_unique_id          0\n",
            "customer_zip_code_prefix    0\n",
            "customer_city               0\n",
            "customer_state              0\n",
            "dtype: int64\n",
            "---Duplicated Data---\n",
            "0\n",
            "---Data Desc---\n",
            "       customer_zip_code_prefix\n",
            "count              99441.000000\n",
            "mean               35137.474583\n",
            "std                29797.938996\n",
            "min                 1003.000000\n",
            "25%                11347.000000\n",
            "50%                24416.000000\n",
            "75%                58900.000000\n",
            "max                99990.000000\n",
            "###Orders###\n",
            "---Missing Data---\n",
            "order_id                            0\n",
            "customer_id                         0\n",
            "order_status                        0\n",
            "order_purchase_timestamp            0\n",
            "order_approved_at                 160\n",
            "order_delivered_carrier_date     1783\n",
            "order_delivered_customer_date    2965\n",
            "order_estimated_delivery_date       0\n",
            "dtype: int64\n",
            "---Duplicated Data---\n",
            "0\n",
            "---Data Desc---\n",
            "                                order_id                       customer_id  \\\n",
            "count                              99441                             99441   \n",
            "unique                             99441                             99441   \n",
            "top     e481f51cbdc54678b7cc49136f2d6af7  9ef432eb6251297304e76186b10a928d   \n",
            "freq                                   1                                 1   \n",
            "\n",
            "       order_status order_purchase_timestamp    order_approved_at  \\\n",
            "count         99441                    99441                99281   \n",
            "unique            8                    98875                90733   \n",
            "top       delivered      2018-04-11 10:48:14  2018-02-27 04:31:10   \n",
            "freq          96478                        3                    9   \n",
            "\n",
            "       order_delivered_carrier_date order_delivered_customer_date  \\\n",
            "count                         97658                         96476   \n",
            "unique                        81018                         95664   \n",
            "top             2018-05-09 15:48:00           2018-05-08 23:38:46   \n",
            "freq                             47                             3   \n",
            "\n",
            "       order_estimated_delivery_date  \n",
            "count                          99441  \n",
            "unique                           459  \n",
            "top              2017-12-20 00:00:00  \n",
            "freq                             522  \n",
            "###Geolocations###\n",
            "---Missing Data---\n",
            "geolocation_zip_code_prefix    0\n",
            "geolocation_lat                0\n",
            "geolocation_lng                0\n",
            "geolocation_city               0\n",
            "geolocation_state              0\n",
            "dtype: int64\n",
            "---Duplicated Data---\n",
            "261831\n",
            "---Data Desc---\n",
            "       geolocation_zip_code_prefix  geolocation_lat  geolocation_lng\n",
            "count                 1.000163e+06     1.000163e+06     1.000163e+06\n",
            "mean                  3.657417e+04    -2.117615e+01    -4.639054e+01\n",
            "std                   3.054934e+04     5.715866e+00     4.269748e+00\n",
            "min                   1.001000e+03    -3.660537e+01    -1.014668e+02\n",
            "25%                   1.107500e+04    -2.360355e+01    -4.857317e+01\n",
            "50%                   2.653000e+04    -2.291938e+01    -4.663788e+01\n",
            "75%                   6.350400e+04    -1.997962e+01    -4.376771e+01\n",
            "max                   9.999000e+04     4.506593e+01     1.211054e+02\n",
            "###Order Items###\n",
            "---Missing Data---\n",
            "order_id               0\n",
            "order_item_id          0\n",
            "product_id             0\n",
            "seller_id              0\n",
            "shipping_limit_date    0\n",
            "price                  0\n",
            "freight_value          0\n",
            "dtype: int64\n",
            "---Duplicated Data---\n",
            "0\n",
            "---Data Desc---\n",
            "       order_item_id          price  freight_value\n",
            "count  112650.000000  112650.000000  112650.000000\n",
            "mean        1.197834     120.653739      19.990320\n",
            "std         0.705124     183.633928      15.806405\n",
            "min         1.000000       0.850000       0.000000\n",
            "25%         1.000000      39.900000      13.080000\n",
            "50%         1.000000      74.990000      16.260000\n",
            "75%         1.000000     134.900000      21.150000\n",
            "max        21.000000    6735.000000     409.680000\n",
            "###Order Payments###\n",
            "---Missing Data---\n",
            "order_id                0\n",
            "payment_sequential      0\n",
            "payment_type            0\n",
            "payment_installments    0\n",
            "payment_value           0\n",
            "dtype: int64\n",
            "---Duplicated Data---\n",
            "0\n",
            "---Data Desc---\n",
            "       payment_sequential  payment_installments  payment_value\n",
            "count       103886.000000         103886.000000  103886.000000\n",
            "mean             1.092679              2.853349     154.100380\n",
            "std              0.706584              2.687051     217.494064\n",
            "min              1.000000              0.000000       0.000000\n",
            "25%              1.000000              1.000000      56.790000\n",
            "50%              1.000000              1.000000     100.000000\n",
            "75%              1.000000              4.000000     171.837500\n",
            "max             29.000000             24.000000   13664.080000\n",
            "###Sellers###\n",
            "---Missing Data---\n",
            "seller_id                 0\n",
            "seller_zip_code_prefix    0\n",
            "seller_city               0\n",
            "seller_state              0\n",
            "dtype: int64\n",
            "---Duplicated Data---\n",
            "0\n",
            "---Data Desc---\n",
            "       seller_zip_code_prefix\n",
            "count             3095.000000\n",
            "mean             32291.059451\n",
            "std              32713.453830\n",
            "min               1001.000000\n",
            "25%               7093.500000\n",
            "50%              14940.000000\n",
            "75%              64552.500000\n",
            "max              99730.000000\n",
            "###Products###\n",
            "---Missing Data---\n",
            "product_id                      0\n",
            "product_category_name         610\n",
            "product_name_lenght           610\n",
            "product_description_lenght    610\n",
            "product_photos_qty            610\n",
            "product_weight_g                2\n",
            "product_length_cm               2\n",
            "product_height_cm               2\n",
            "product_width_cm                2\n",
            "dtype: int64\n",
            "---Duplicated Data---\n",
            "0\n",
            "---Data Desc---\n",
            "       product_name_lenght  product_description_lenght  product_photos_qty  \\\n",
            "count         32341.000000                32341.000000        32341.000000   \n",
            "mean             48.476949                  771.495285            2.188986   \n",
            "std              10.245741                  635.115225            1.736766   \n",
            "min               5.000000                    4.000000            1.000000   \n",
            "25%              42.000000                  339.000000            1.000000   \n",
            "50%              51.000000                  595.000000            1.000000   \n",
            "75%              57.000000                  972.000000            3.000000   \n",
            "max              76.000000                 3992.000000           20.000000   \n",
            "\n",
            "       product_weight_g  product_length_cm  product_height_cm  \\\n",
            "count      32949.000000       32949.000000       32949.000000   \n",
            "mean        2276.472488          30.815078          16.937661   \n",
            "std         4282.038731          16.914458          13.637554   \n",
            "min            0.000000           7.000000           2.000000   \n",
            "25%          300.000000          18.000000           8.000000   \n",
            "50%          700.000000          25.000000          13.000000   \n",
            "75%         1900.000000          38.000000          21.000000   \n",
            "max        40425.000000         105.000000         105.000000   \n",
            "\n",
            "       product_width_cm  \n",
            "count      32949.000000  \n",
            "mean          23.196728  \n",
            "std           12.079047  \n",
            "min            6.000000  \n",
            "25%           15.000000  \n",
            "50%           20.000000  \n",
            "75%           30.000000  \n",
            "max          118.000000  \n",
            "###Translated Product###\n",
            "---Missing Data---\n",
            "product_category_name            0\n",
            "product_category_name_english    0\n",
            "dtype: int64\n",
            "---Duplicated Data---\n",
            "0\n",
            "---Data Desc---\n",
            "       product_category_name product_category_name_english\n",
            "count                     71                            71\n",
            "unique                    71                            71\n",
            "top             beleza_saude                 health_beauty\n",
            "freq                       1                             1\n"
          ]
        }
      ],
      "source": [
        "for data in df_list:\n",
        "    print(f\"###{data.name}###\")\n",
        "    print(\"---Missing Data---\")\n",
        "    print(data.isna().sum())\n",
        "\n",
        "    print(\"---Duplicated Data---\")\n",
        "    print(data.duplicated().sum())\n",
        "\n",
        "    print(\"---Data Desc---\")\n",
        "    print(data.describe())"
      ]
    },
    {
      "cell_type": "markdown",
      "metadata": {
        "id": "stzwQES60rw4"
      },
      "source": [
        "##Data Cleaning"
      ]
    },
    {
      "cell_type": "code",
      "execution_count": 6,
      "metadata": {
        "id": "LrfWtVTU0rw4",
        "outputId": "dd576a27-dd16-41a6-a060-335ee9f43532"
      },
      "outputs": [
        {
          "name": "stdout",
          "output_type": "stream",
          "text": [
            "###Customers###\n",
            "0\n",
            "0\n",
            "###Orders###\n",
            "0\n",
            "0\n",
            "###Geolocations###\n",
            "261831\n",
            "0\n",
            "###Order Items###\n",
            "0\n",
            "0\n",
            "###Order Payments###\n",
            "0\n",
            "0\n",
            "###Sellers###\n",
            "0\n",
            "0\n",
            "###Products###\n",
            "0\n",
            "0\n",
            "###Translated Product###\n",
            "0\n",
            "0\n"
          ]
        }
      ],
      "source": [
        "#Duplicated Data\n",
        "\n",
        "for data in df_list:\n",
        "    print(f\"###{data.name}###\")\n",
        "    print(data.duplicated().sum())\n",
        "    data.drop_duplicates(inplace=True)\n",
        "    print(data.duplicated().sum())"
      ]
    },
    {
      "cell_type": "code",
      "execution_count": 7,
      "metadata": {
        "id": "BezZ1WY90rw4",
        "outputId": "8418f9b7-fe63-415e-d61d-418906da992b"
      },
      "outputs": [
        {
          "data": {
            "text/plain": [
              "delivered      96478\n",
              "shipped         1107\n",
              "canceled         625\n",
              "unavailable      609\n",
              "invoiced         314\n",
              "processing       301\n",
              "created            5\n",
              "approved           2\n",
              "Name: order_status, dtype: int64"
            ]
          },
          "execution_count": 7,
          "metadata": {},
          "output_type": "execute_result"
        }
      ],
      "source": [
        "#Order missing value\n",
        "# order_approved_at                 160\n",
        "# order_delivered_carrier_date     1783\n",
        "# order_delivered_customer_date    2965\n",
        "orders_df.order_status.value_counts()\n"
      ]
    },
    {
      "cell_type": "code",
      "execution_count": 8,
      "metadata": {
        "id": "8_cYGU_Y0rw4",
        "outputId": "83bd6ba5-e473-4bc3-c507-c3142b5325cc"
      },
      "outputs": [
        {
          "data": {
            "text/plain": [
              "canceled     141\n",
              "delivered     14\n",
              "created        5\n",
              "Name: order_status, dtype: int64"
            ]
          },
          "execution_count": 8,
          "metadata": {},
          "output_type": "execute_result"
        }
      ],
      "source": [
        "#checking approved and delivered order but missing value\n",
        "def order_approvement_missing():\n",
        "    order_approved_null_status = orders_df[orders_df[\"order_approved_at\"].isna() & orders_df[\"order_status\"]]\n",
        "    return order_approved_null_status.order_status.value_counts()\n",
        "\n",
        "order_approvement_missing()"
      ]
    },
    {
      "cell_type": "code",
      "execution_count": 9,
      "metadata": {
        "id": "CD3czbT90rw4"
      },
      "outputs": [],
      "source": [
        "#Convert to datetime\n",
        "datetime_column = [\"order_purchase_timestamp\", \"order_approved_at\", \"order_delivered_carrier_date\", \"order_delivered_customer_date\", \"order_delivered_customer_date\", \"order_estimated_delivery_date\"]\n",
        "for column in datetime_column:\n",
        "    orders_df[column] = pd.to_datetime(orders_df[column], errors=\"coerce\")"
      ]
    },
    {
      "cell_type": "code",
      "execution_count": 10,
      "metadata": {
        "id": "-g3z0HCn0rw5",
        "outputId": "976ff7d3-4cbb-4123-b286-61c15a8a3e57"
      },
      "outputs": [
        {
          "name": "stdout",
          "output_type": "stream",
          "text": [
            "0 days 10:16:36.361243572\n"
          ]
        }
      ],
      "source": [
        "#get average approvement time\n",
        "approved_notna = (orders_df[\"order_approved_at\"].notna() &  orders_df[\"order_purchase_timestamp\"].notna()\n",
        "                  & (orders_df[\"order_status\"] == \"delivered\")\n",
        "                  )\n",
        "order_approvement_delay = (orders_df.loc[approved_notna, \"order_approved_at\"] - orders_df.loc[approved_notna, \"order_purchase_timestamp\"])\n",
        "avg_approvement = order_approvement_delay.mean()\n",
        "print(avg_approvement)"
      ]
    },
    {
      "cell_type": "code",
      "execution_count": 11,
      "metadata": {
        "id": "x6_LPrJt0rw5",
        "outputId": "ac899f9a-80a6-446e-ea26-ed04b0bf4149"
      },
      "outputs": [
        {
          "data": {
            "text/plain": [
              "order_id                         0a93b40850d3f4becf2f276666e01340\n",
              "customer_id                      a70076d8d4bfce15f8081951c43bf187\n",
              "order_status                                            delivered\n",
              "order_purchase_timestamp                      2018-01-20 14:24:50\n",
              "order_approved_at                             2018-02-20 11:51:27\n",
              "order_delivered_carrier_date                  2018-02-21 19:34:13\n",
              "order_delivered_customer_date                 2018-03-02 22:37:49\n",
              "order_estimated_delivery_date                 2018-02-23 00:00:00\n",
              "Name: 96251, dtype: object"
            ]
          },
          "execution_count": 11,
          "metadata": {},
          "output_type": "execute_result"
        }
      ],
      "source": [
        "orders_df.loc[order_approvement_delay.idxmax()]"
      ]
    },
    {
      "cell_type": "code",
      "execution_count": 12,
      "metadata": {
        "id": "ri0SFjPV0rw5",
        "outputId": "0fad4945-12ce-41c7-d7f6-9352821e5d26"
      },
      "outputs": [
        {
          "data": {
            "text/html": [
              "<div>\n",
              "<style scoped>\n",
              "    .dataframe tbody tr th:only-of-type {\n",
              "        vertical-align: middle;\n",
              "    }\n",
              "\n",
              "    .dataframe tbody tr th {\n",
              "        vertical-align: top;\n",
              "    }\n",
              "\n",
              "    .dataframe thead th {\n",
              "        text-align: right;\n",
              "    }\n",
              "</style>\n",
              "<table border=\"1\" class=\"dataframe\">\n",
              "  <thead>\n",
              "    <tr style=\"text-align: right;\">\n",
              "      <th></th>\n",
              "      <th>order_id</th>\n",
              "      <th>customer_id</th>\n",
              "      <th>order_status</th>\n",
              "      <th>order_purchase_timestamp</th>\n",
              "      <th>order_approved_at</th>\n",
              "      <th>order_delivered_carrier_date</th>\n",
              "      <th>order_delivered_customer_date</th>\n",
              "      <th>order_estimated_delivery_date</th>\n",
              "    </tr>\n",
              "  </thead>\n",
              "  <tbody>\n",
              "    <tr>\n",
              "      <th>5323</th>\n",
              "      <td>e04abd8149ef81b95221e88f6ed9ab6a</td>\n",
              "      <td>2127dc6603ac33544953ef05ec155771</td>\n",
              "      <td>delivered</td>\n",
              "      <td>2017-02-18 14:40:00</td>\n",
              "      <td>NaT</td>\n",
              "      <td>2017-02-23 12:04:47</td>\n",
              "      <td>2017-03-01 13:25:33</td>\n",
              "      <td>2017-03-17</td>\n",
              "    </tr>\n",
              "    <tr>\n",
              "      <th>16567</th>\n",
              "      <td>8a9adc69528e1001fc68dd0aaebbb54a</td>\n",
              "      <td>4c1ccc74e00993733742a3c786dc3c1f</td>\n",
              "      <td>delivered</td>\n",
              "      <td>2017-02-18 12:45:31</td>\n",
              "      <td>NaT</td>\n",
              "      <td>2017-02-23 09:01:52</td>\n",
              "      <td>2017-03-02 10:05:06</td>\n",
              "      <td>2017-03-21</td>\n",
              "    </tr>\n",
              "    <tr>\n",
              "      <th>19031</th>\n",
              "      <td>7013bcfc1c97fe719a7b5e05e61c12db</td>\n",
              "      <td>2941af76d38100e0f8740a374f1a5dc3</td>\n",
              "      <td>delivered</td>\n",
              "      <td>2017-02-18 13:29:47</td>\n",
              "      <td>NaT</td>\n",
              "      <td>2017-02-22 16:25:25</td>\n",
              "      <td>2017-03-01 08:07:38</td>\n",
              "      <td>2017-03-17</td>\n",
              "    </tr>\n",
              "    <tr>\n",
              "      <th>22663</th>\n",
              "      <td>5cf925b116421afa85ee25e99b4c34fb</td>\n",
              "      <td>29c35fc91fc13fb5073c8f30505d860d</td>\n",
              "      <td>delivered</td>\n",
              "      <td>2017-02-18 16:48:35</td>\n",
              "      <td>NaT</td>\n",
              "      <td>2017-02-22 11:23:10</td>\n",
              "      <td>2017-03-09 07:28:47</td>\n",
              "      <td>2017-03-31</td>\n",
              "    </tr>\n",
              "    <tr>\n",
              "      <th>23156</th>\n",
              "      <td>12a95a3c06dbaec84bcfb0e2da5d228a</td>\n",
              "      <td>1e101e0daffaddce8159d25a8e53f2b2</td>\n",
              "      <td>delivered</td>\n",
              "      <td>2017-02-17 13:05:55</td>\n",
              "      <td>NaT</td>\n",
              "      <td>2017-02-22 11:23:11</td>\n",
              "      <td>2017-03-02 11:09:19</td>\n",
              "      <td>2017-03-20</td>\n",
              "    </tr>\n",
              "    <tr>\n",
              "      <th>26800</th>\n",
              "      <td>c1d4211b3dae76144deccd6c74144a88</td>\n",
              "      <td>684cb238dc5b5d6366244e0e0776b450</td>\n",
              "      <td>delivered</td>\n",
              "      <td>2017-01-19 12:48:08</td>\n",
              "      <td>NaT</td>\n",
              "      <td>2017-01-25 14:56:50</td>\n",
              "      <td>2017-01-30 18:16:01</td>\n",
              "      <td>2017-03-01</td>\n",
              "    </tr>\n",
              "    <tr>\n",
              "      <th>38290</th>\n",
              "      <td>d69e5d356402adc8cf17e08b5033acfb</td>\n",
              "      <td>68d081753ad4fe22fc4d410a9eb1ca01</td>\n",
              "      <td>delivered</td>\n",
              "      <td>2017-02-19 01:28:47</td>\n",
              "      <td>NaT</td>\n",
              "      <td>2017-02-23 03:11:48</td>\n",
              "      <td>2017-03-02 03:41:58</td>\n",
              "      <td>2017-03-27</td>\n",
              "    </tr>\n",
              "    <tr>\n",
              "      <th>39334</th>\n",
              "      <td>d77031d6a3c8a52f019764e68f211c69</td>\n",
              "      <td>0bf35cac6cc7327065da879e2d90fae8</td>\n",
              "      <td>delivered</td>\n",
              "      <td>2017-02-18 11:04:19</td>\n",
              "      <td>NaT</td>\n",
              "      <td>2017-02-23 07:23:36</td>\n",
              "      <td>2017-03-02 16:15:23</td>\n",
              "      <td>2017-03-22</td>\n",
              "    </tr>\n",
              "    <tr>\n",
              "      <th>48401</th>\n",
              "      <td>7002a78c79c519ac54022d4f8a65e6e8</td>\n",
              "      <td>d5de688c321096d15508faae67a27051</td>\n",
              "      <td>delivered</td>\n",
              "      <td>2017-01-19 22:26:59</td>\n",
              "      <td>NaT</td>\n",
              "      <td>2017-01-27 11:08:05</td>\n",
              "      <td>2017-02-06 14:22:19</td>\n",
              "      <td>2017-03-16</td>\n",
              "    </tr>\n",
              "    <tr>\n",
              "      <th>61743</th>\n",
              "      <td>2eecb0d85f281280f79fa00f9cec1a95</td>\n",
              "      <td>a3d3c38e58b9d2dfb9207cab690b6310</td>\n",
              "      <td>delivered</td>\n",
              "      <td>2017-02-17 17:21:55</td>\n",
              "      <td>NaT</td>\n",
              "      <td>2017-02-22 11:42:51</td>\n",
              "      <td>2017-03-03 12:16:03</td>\n",
              "      <td>2017-03-20</td>\n",
              "    </tr>\n",
              "    <tr>\n",
              "      <th>63052</th>\n",
              "      <td>51eb2eebd5d76a24625b31c33dd41449</td>\n",
              "      <td>07a2a7e0f63fd8cb757ed77d4245623c</td>\n",
              "      <td>delivered</td>\n",
              "      <td>2017-02-18 15:52:27</td>\n",
              "      <td>NaT</td>\n",
              "      <td>2017-02-23 03:09:14</td>\n",
              "      <td>2017-03-07 13:57:47</td>\n",
              "      <td>2017-03-29</td>\n",
              "    </tr>\n",
              "    <tr>\n",
              "      <th>67697</th>\n",
              "      <td>88083e8f64d95b932164187484d90212</td>\n",
              "      <td>f67cd1a215aae2a1074638bbd35a223a</td>\n",
              "      <td>delivered</td>\n",
              "      <td>2017-02-18 22:49:19</td>\n",
              "      <td>NaT</td>\n",
              "      <td>2017-02-22 11:31:06</td>\n",
              "      <td>2017-03-02 12:06:06</td>\n",
              "      <td>2017-03-21</td>\n",
              "    </tr>\n",
              "    <tr>\n",
              "      <th>72407</th>\n",
              "      <td>3c0b8706b065f9919d0505d3b3343881</td>\n",
              "      <td>d85919cb3c0529589c6fa617f5f43281</td>\n",
              "      <td>delivered</td>\n",
              "      <td>2017-02-17 15:53:27</td>\n",
              "      <td>NaT</td>\n",
              "      <td>2017-02-22 11:31:30</td>\n",
              "      <td>2017-03-03 11:47:47</td>\n",
              "      <td>2017-03-23</td>\n",
              "    </tr>\n",
              "    <tr>\n",
              "      <th>84999</th>\n",
              "      <td>2babbb4b15e6d2dfe95e2de765c97bce</td>\n",
              "      <td>74bebaf46603f9340e3b50c6b086f992</td>\n",
              "      <td>delivered</td>\n",
              "      <td>2017-02-18 17:15:03</td>\n",
              "      <td>NaT</td>\n",
              "      <td>2017-02-22 11:23:11</td>\n",
              "      <td>2017-03-03 18:43:43</td>\n",
              "      <td>2017-03-31</td>\n",
              "    </tr>\n",
              "  </tbody>\n",
              "</table>\n",
              "</div>"
            ],
            "text/plain": [
              "                               order_id                       customer_id  \\\n",
              "5323   e04abd8149ef81b95221e88f6ed9ab6a  2127dc6603ac33544953ef05ec155771   \n",
              "16567  8a9adc69528e1001fc68dd0aaebbb54a  4c1ccc74e00993733742a3c786dc3c1f   \n",
              "19031  7013bcfc1c97fe719a7b5e05e61c12db  2941af76d38100e0f8740a374f1a5dc3   \n",
              "22663  5cf925b116421afa85ee25e99b4c34fb  29c35fc91fc13fb5073c8f30505d860d   \n",
              "23156  12a95a3c06dbaec84bcfb0e2da5d228a  1e101e0daffaddce8159d25a8e53f2b2   \n",
              "26800  c1d4211b3dae76144deccd6c74144a88  684cb238dc5b5d6366244e0e0776b450   \n",
              "38290  d69e5d356402adc8cf17e08b5033acfb  68d081753ad4fe22fc4d410a9eb1ca01   \n",
              "39334  d77031d6a3c8a52f019764e68f211c69  0bf35cac6cc7327065da879e2d90fae8   \n",
              "48401  7002a78c79c519ac54022d4f8a65e6e8  d5de688c321096d15508faae67a27051   \n",
              "61743  2eecb0d85f281280f79fa00f9cec1a95  a3d3c38e58b9d2dfb9207cab690b6310   \n",
              "63052  51eb2eebd5d76a24625b31c33dd41449  07a2a7e0f63fd8cb757ed77d4245623c   \n",
              "67697  88083e8f64d95b932164187484d90212  f67cd1a215aae2a1074638bbd35a223a   \n",
              "72407  3c0b8706b065f9919d0505d3b3343881  d85919cb3c0529589c6fa617f5f43281   \n",
              "84999  2babbb4b15e6d2dfe95e2de765c97bce  74bebaf46603f9340e3b50c6b086f992   \n",
              "\n",
              "      order_status order_purchase_timestamp order_approved_at  \\\n",
              "5323     delivered      2017-02-18 14:40:00               NaT   \n",
              "16567    delivered      2017-02-18 12:45:31               NaT   \n",
              "19031    delivered      2017-02-18 13:29:47               NaT   \n",
              "22663    delivered      2017-02-18 16:48:35               NaT   \n",
              "23156    delivered      2017-02-17 13:05:55               NaT   \n",
              "26800    delivered      2017-01-19 12:48:08               NaT   \n",
              "38290    delivered      2017-02-19 01:28:47               NaT   \n",
              "39334    delivered      2017-02-18 11:04:19               NaT   \n",
              "48401    delivered      2017-01-19 22:26:59               NaT   \n",
              "61743    delivered      2017-02-17 17:21:55               NaT   \n",
              "63052    delivered      2017-02-18 15:52:27               NaT   \n",
              "67697    delivered      2017-02-18 22:49:19               NaT   \n",
              "72407    delivered      2017-02-17 15:53:27               NaT   \n",
              "84999    delivered      2017-02-18 17:15:03               NaT   \n",
              "\n",
              "      order_delivered_carrier_date order_delivered_customer_date  \\\n",
              "5323           2017-02-23 12:04:47           2017-03-01 13:25:33   \n",
              "16567          2017-02-23 09:01:52           2017-03-02 10:05:06   \n",
              "19031          2017-02-22 16:25:25           2017-03-01 08:07:38   \n",
              "22663          2017-02-22 11:23:10           2017-03-09 07:28:47   \n",
              "23156          2017-02-22 11:23:11           2017-03-02 11:09:19   \n",
              "26800          2017-01-25 14:56:50           2017-01-30 18:16:01   \n",
              "38290          2017-02-23 03:11:48           2017-03-02 03:41:58   \n",
              "39334          2017-02-23 07:23:36           2017-03-02 16:15:23   \n",
              "48401          2017-01-27 11:08:05           2017-02-06 14:22:19   \n",
              "61743          2017-02-22 11:42:51           2017-03-03 12:16:03   \n",
              "63052          2017-02-23 03:09:14           2017-03-07 13:57:47   \n",
              "67697          2017-02-22 11:31:06           2017-03-02 12:06:06   \n",
              "72407          2017-02-22 11:31:30           2017-03-03 11:47:47   \n",
              "84999          2017-02-22 11:23:11           2017-03-03 18:43:43   \n",
              "\n",
              "      order_estimated_delivery_date  \n",
              "5323                     2017-03-17  \n",
              "16567                    2017-03-21  \n",
              "19031                    2017-03-17  \n",
              "22663                    2017-03-31  \n",
              "23156                    2017-03-20  \n",
              "26800                    2017-03-01  \n",
              "38290                    2017-03-27  \n",
              "39334                    2017-03-22  \n",
              "48401                    2017-03-16  \n",
              "61743                    2017-03-20  \n",
              "63052                    2017-03-29  \n",
              "67697                    2017-03-21  \n",
              "72407                    2017-03-23  \n",
              "84999                    2017-03-31  "
            ]
          },
          "execution_count": 12,
          "metadata": {},
          "output_type": "execute_result"
        }
      ],
      "source": [
        "delivered_missing_approvement = (((orders_df[\"order_status\"] == \"delivered\") | (orders_df[\"order_status\"] == \"canceled\") ) & (orders_df[\"order_approved_at\"].isna()) & (orders_df[\"order_purchase_timestamp\"]+avg_approvement < orders_df[\"order_delivered_carrier_date\"]))\n",
        "\n",
        "orders_df.loc[delivered_missing_approvement]"
      ]
    },
    {
      "cell_type": "code",
      "execution_count": 13,
      "metadata": {
        "id": "KloPLHKT0rw5"
      },
      "outputs": [],
      "source": [
        "orders_df.loc[delivered_missing_approvement, \"order_approved_at\"] = (orders_df.loc[delivered_missing_approvement, \"order_purchase_timestamp\"]+avg_approvement).dt.floor(\"S\")"
      ]
    },
    {
      "cell_type": "code",
      "execution_count": 14,
      "metadata": {
        "id": "UFM6vO8m0rw5",
        "outputId": "492a09ab-e415-491c-fc6f-1c0b17033b49"
      },
      "outputs": [
        {
          "data": {
            "text/html": [
              "<div>\n",
              "<style scoped>\n",
              "    .dataframe tbody tr th:only-of-type {\n",
              "        vertical-align: middle;\n",
              "    }\n",
              "\n",
              "    .dataframe tbody tr th {\n",
              "        vertical-align: top;\n",
              "    }\n",
              "\n",
              "    .dataframe thead th {\n",
              "        text-align: right;\n",
              "    }\n",
              "</style>\n",
              "<table border=\"1\" class=\"dataframe\">\n",
              "  <thead>\n",
              "    <tr style=\"text-align: right;\">\n",
              "      <th></th>\n",
              "      <th>order_id</th>\n",
              "      <th>customer_id</th>\n",
              "      <th>order_status</th>\n",
              "      <th>order_purchase_timestamp</th>\n",
              "      <th>order_approved_at</th>\n",
              "      <th>order_delivered_carrier_date</th>\n",
              "      <th>order_delivered_customer_date</th>\n",
              "      <th>order_estimated_delivery_date</th>\n",
              "    </tr>\n",
              "  </thead>\n",
              "  <tbody>\n",
              "    <tr>\n",
              "      <th>5323</th>\n",
              "      <td>e04abd8149ef81b95221e88f6ed9ab6a</td>\n",
              "      <td>2127dc6603ac33544953ef05ec155771</td>\n",
              "      <td>delivered</td>\n",
              "      <td>2017-02-18 14:40:00</td>\n",
              "      <td>2017-02-19 00:56:36</td>\n",
              "      <td>2017-02-23 12:04:47</td>\n",
              "      <td>2017-03-01 13:25:33</td>\n",
              "      <td>2017-03-17</td>\n",
              "    </tr>\n",
              "    <tr>\n",
              "      <th>16567</th>\n",
              "      <td>8a9adc69528e1001fc68dd0aaebbb54a</td>\n",
              "      <td>4c1ccc74e00993733742a3c786dc3c1f</td>\n",
              "      <td>delivered</td>\n",
              "      <td>2017-02-18 12:45:31</td>\n",
              "      <td>2017-02-18 23:02:07</td>\n",
              "      <td>2017-02-23 09:01:52</td>\n",
              "      <td>2017-03-02 10:05:06</td>\n",
              "      <td>2017-03-21</td>\n",
              "    </tr>\n",
              "    <tr>\n",
              "      <th>19031</th>\n",
              "      <td>7013bcfc1c97fe719a7b5e05e61c12db</td>\n",
              "      <td>2941af76d38100e0f8740a374f1a5dc3</td>\n",
              "      <td>delivered</td>\n",
              "      <td>2017-02-18 13:29:47</td>\n",
              "      <td>2017-02-18 23:46:23</td>\n",
              "      <td>2017-02-22 16:25:25</td>\n",
              "      <td>2017-03-01 08:07:38</td>\n",
              "      <td>2017-03-17</td>\n",
              "    </tr>\n",
              "    <tr>\n",
              "      <th>22663</th>\n",
              "      <td>5cf925b116421afa85ee25e99b4c34fb</td>\n",
              "      <td>29c35fc91fc13fb5073c8f30505d860d</td>\n",
              "      <td>delivered</td>\n",
              "      <td>2017-02-18 16:48:35</td>\n",
              "      <td>2017-02-19 03:05:11</td>\n",
              "      <td>2017-02-22 11:23:10</td>\n",
              "      <td>2017-03-09 07:28:47</td>\n",
              "      <td>2017-03-31</td>\n",
              "    </tr>\n",
              "    <tr>\n",
              "      <th>23156</th>\n",
              "      <td>12a95a3c06dbaec84bcfb0e2da5d228a</td>\n",
              "      <td>1e101e0daffaddce8159d25a8e53f2b2</td>\n",
              "      <td>delivered</td>\n",
              "      <td>2017-02-17 13:05:55</td>\n",
              "      <td>2017-02-17 23:22:31</td>\n",
              "      <td>2017-02-22 11:23:11</td>\n",
              "      <td>2017-03-02 11:09:19</td>\n",
              "      <td>2017-03-20</td>\n",
              "    </tr>\n",
              "    <tr>\n",
              "      <th>26800</th>\n",
              "      <td>c1d4211b3dae76144deccd6c74144a88</td>\n",
              "      <td>684cb238dc5b5d6366244e0e0776b450</td>\n",
              "      <td>delivered</td>\n",
              "      <td>2017-01-19 12:48:08</td>\n",
              "      <td>2017-01-19 23:04:44</td>\n",
              "      <td>2017-01-25 14:56:50</td>\n",
              "      <td>2017-01-30 18:16:01</td>\n",
              "      <td>2017-03-01</td>\n",
              "    </tr>\n",
              "    <tr>\n",
              "      <th>38290</th>\n",
              "      <td>d69e5d356402adc8cf17e08b5033acfb</td>\n",
              "      <td>68d081753ad4fe22fc4d410a9eb1ca01</td>\n",
              "      <td>delivered</td>\n",
              "      <td>2017-02-19 01:28:47</td>\n",
              "      <td>2017-02-19 11:45:23</td>\n",
              "      <td>2017-02-23 03:11:48</td>\n",
              "      <td>2017-03-02 03:41:58</td>\n",
              "      <td>2017-03-27</td>\n",
              "    </tr>\n",
              "    <tr>\n",
              "      <th>39334</th>\n",
              "      <td>d77031d6a3c8a52f019764e68f211c69</td>\n",
              "      <td>0bf35cac6cc7327065da879e2d90fae8</td>\n",
              "      <td>delivered</td>\n",
              "      <td>2017-02-18 11:04:19</td>\n",
              "      <td>2017-02-18 21:20:55</td>\n",
              "      <td>2017-02-23 07:23:36</td>\n",
              "      <td>2017-03-02 16:15:23</td>\n",
              "      <td>2017-03-22</td>\n",
              "    </tr>\n",
              "    <tr>\n",
              "      <th>48401</th>\n",
              "      <td>7002a78c79c519ac54022d4f8a65e6e8</td>\n",
              "      <td>d5de688c321096d15508faae67a27051</td>\n",
              "      <td>delivered</td>\n",
              "      <td>2017-01-19 22:26:59</td>\n",
              "      <td>2017-01-20 08:43:35</td>\n",
              "      <td>2017-01-27 11:08:05</td>\n",
              "      <td>2017-02-06 14:22:19</td>\n",
              "      <td>2017-03-16</td>\n",
              "    </tr>\n",
              "    <tr>\n",
              "      <th>61743</th>\n",
              "      <td>2eecb0d85f281280f79fa00f9cec1a95</td>\n",
              "      <td>a3d3c38e58b9d2dfb9207cab690b6310</td>\n",
              "      <td>delivered</td>\n",
              "      <td>2017-02-17 17:21:55</td>\n",
              "      <td>2017-02-18 03:38:31</td>\n",
              "      <td>2017-02-22 11:42:51</td>\n",
              "      <td>2017-03-03 12:16:03</td>\n",
              "      <td>2017-03-20</td>\n",
              "    </tr>\n",
              "    <tr>\n",
              "      <th>63052</th>\n",
              "      <td>51eb2eebd5d76a24625b31c33dd41449</td>\n",
              "      <td>07a2a7e0f63fd8cb757ed77d4245623c</td>\n",
              "      <td>delivered</td>\n",
              "      <td>2017-02-18 15:52:27</td>\n",
              "      <td>2017-02-19 02:09:03</td>\n",
              "      <td>2017-02-23 03:09:14</td>\n",
              "      <td>2017-03-07 13:57:47</td>\n",
              "      <td>2017-03-29</td>\n",
              "    </tr>\n",
              "    <tr>\n",
              "      <th>67697</th>\n",
              "      <td>88083e8f64d95b932164187484d90212</td>\n",
              "      <td>f67cd1a215aae2a1074638bbd35a223a</td>\n",
              "      <td>delivered</td>\n",
              "      <td>2017-02-18 22:49:19</td>\n",
              "      <td>2017-02-19 09:05:55</td>\n",
              "      <td>2017-02-22 11:31:06</td>\n",
              "      <td>2017-03-02 12:06:06</td>\n",
              "      <td>2017-03-21</td>\n",
              "    </tr>\n",
              "    <tr>\n",
              "      <th>72407</th>\n",
              "      <td>3c0b8706b065f9919d0505d3b3343881</td>\n",
              "      <td>d85919cb3c0529589c6fa617f5f43281</td>\n",
              "      <td>delivered</td>\n",
              "      <td>2017-02-17 15:53:27</td>\n",
              "      <td>2017-02-18 02:10:03</td>\n",
              "      <td>2017-02-22 11:31:30</td>\n",
              "      <td>2017-03-03 11:47:47</td>\n",
              "      <td>2017-03-23</td>\n",
              "    </tr>\n",
              "    <tr>\n",
              "      <th>84999</th>\n",
              "      <td>2babbb4b15e6d2dfe95e2de765c97bce</td>\n",
              "      <td>74bebaf46603f9340e3b50c6b086f992</td>\n",
              "      <td>delivered</td>\n",
              "      <td>2017-02-18 17:15:03</td>\n",
              "      <td>2017-02-19 03:31:39</td>\n",
              "      <td>2017-02-22 11:23:11</td>\n",
              "      <td>2017-03-03 18:43:43</td>\n",
              "      <td>2017-03-31</td>\n",
              "    </tr>\n",
              "  </tbody>\n",
              "</table>\n",
              "</div>"
            ],
            "text/plain": [
              "                               order_id                       customer_id  \\\n",
              "5323   e04abd8149ef81b95221e88f6ed9ab6a  2127dc6603ac33544953ef05ec155771   \n",
              "16567  8a9adc69528e1001fc68dd0aaebbb54a  4c1ccc74e00993733742a3c786dc3c1f   \n",
              "19031  7013bcfc1c97fe719a7b5e05e61c12db  2941af76d38100e0f8740a374f1a5dc3   \n",
              "22663  5cf925b116421afa85ee25e99b4c34fb  29c35fc91fc13fb5073c8f30505d860d   \n",
              "23156  12a95a3c06dbaec84bcfb0e2da5d228a  1e101e0daffaddce8159d25a8e53f2b2   \n",
              "26800  c1d4211b3dae76144deccd6c74144a88  684cb238dc5b5d6366244e0e0776b450   \n",
              "38290  d69e5d356402adc8cf17e08b5033acfb  68d081753ad4fe22fc4d410a9eb1ca01   \n",
              "39334  d77031d6a3c8a52f019764e68f211c69  0bf35cac6cc7327065da879e2d90fae8   \n",
              "48401  7002a78c79c519ac54022d4f8a65e6e8  d5de688c321096d15508faae67a27051   \n",
              "61743  2eecb0d85f281280f79fa00f9cec1a95  a3d3c38e58b9d2dfb9207cab690b6310   \n",
              "63052  51eb2eebd5d76a24625b31c33dd41449  07a2a7e0f63fd8cb757ed77d4245623c   \n",
              "67697  88083e8f64d95b932164187484d90212  f67cd1a215aae2a1074638bbd35a223a   \n",
              "72407  3c0b8706b065f9919d0505d3b3343881  d85919cb3c0529589c6fa617f5f43281   \n",
              "84999  2babbb4b15e6d2dfe95e2de765c97bce  74bebaf46603f9340e3b50c6b086f992   \n",
              "\n",
              "      order_status order_purchase_timestamp   order_approved_at  \\\n",
              "5323     delivered      2017-02-18 14:40:00 2017-02-19 00:56:36   \n",
              "16567    delivered      2017-02-18 12:45:31 2017-02-18 23:02:07   \n",
              "19031    delivered      2017-02-18 13:29:47 2017-02-18 23:46:23   \n",
              "22663    delivered      2017-02-18 16:48:35 2017-02-19 03:05:11   \n",
              "23156    delivered      2017-02-17 13:05:55 2017-02-17 23:22:31   \n",
              "26800    delivered      2017-01-19 12:48:08 2017-01-19 23:04:44   \n",
              "38290    delivered      2017-02-19 01:28:47 2017-02-19 11:45:23   \n",
              "39334    delivered      2017-02-18 11:04:19 2017-02-18 21:20:55   \n",
              "48401    delivered      2017-01-19 22:26:59 2017-01-20 08:43:35   \n",
              "61743    delivered      2017-02-17 17:21:55 2017-02-18 03:38:31   \n",
              "63052    delivered      2017-02-18 15:52:27 2017-02-19 02:09:03   \n",
              "67697    delivered      2017-02-18 22:49:19 2017-02-19 09:05:55   \n",
              "72407    delivered      2017-02-17 15:53:27 2017-02-18 02:10:03   \n",
              "84999    delivered      2017-02-18 17:15:03 2017-02-19 03:31:39   \n",
              "\n",
              "      order_delivered_carrier_date order_delivered_customer_date  \\\n",
              "5323           2017-02-23 12:04:47           2017-03-01 13:25:33   \n",
              "16567          2017-02-23 09:01:52           2017-03-02 10:05:06   \n",
              "19031          2017-02-22 16:25:25           2017-03-01 08:07:38   \n",
              "22663          2017-02-22 11:23:10           2017-03-09 07:28:47   \n",
              "23156          2017-02-22 11:23:11           2017-03-02 11:09:19   \n",
              "26800          2017-01-25 14:56:50           2017-01-30 18:16:01   \n",
              "38290          2017-02-23 03:11:48           2017-03-02 03:41:58   \n",
              "39334          2017-02-23 07:23:36           2017-03-02 16:15:23   \n",
              "48401          2017-01-27 11:08:05           2017-02-06 14:22:19   \n",
              "61743          2017-02-22 11:42:51           2017-03-03 12:16:03   \n",
              "63052          2017-02-23 03:09:14           2017-03-07 13:57:47   \n",
              "67697          2017-02-22 11:31:06           2017-03-02 12:06:06   \n",
              "72407          2017-02-22 11:31:30           2017-03-03 11:47:47   \n",
              "84999          2017-02-22 11:23:11           2017-03-03 18:43:43   \n",
              "\n",
              "      order_estimated_delivery_date  \n",
              "5323                     2017-03-17  \n",
              "16567                    2017-03-21  \n",
              "19031                    2017-03-17  \n",
              "22663                    2017-03-31  \n",
              "23156                    2017-03-20  \n",
              "26800                    2017-03-01  \n",
              "38290                    2017-03-27  \n",
              "39334                    2017-03-22  \n",
              "48401                    2017-03-16  \n",
              "61743                    2017-03-20  \n",
              "63052                    2017-03-29  \n",
              "67697                    2017-03-21  \n",
              "72407                    2017-03-23  \n",
              "84999                    2017-03-31  "
            ]
          },
          "execution_count": 14,
          "metadata": {},
          "output_type": "execute_result"
        }
      ],
      "source": [
        "orders_df.loc[delivered_missing_approvement]"
      ]
    },
    {
      "cell_type": "code",
      "execution_count": 15,
      "metadata": {
        "id": "0q3WUtt30rw5",
        "outputId": "69940ad0-7087-4d31-dc9b-ec728f089d96"
      },
      "outputs": [
        {
          "data": {
            "text/plain": [
              "canceled    141\n",
              "created       5\n",
              "Name: order_status, dtype: int64"
            ]
          },
          "execution_count": 15,
          "metadata": {},
          "output_type": "execute_result"
        }
      ],
      "source": [
        "order_approvement_missing()"
      ]
    },
    {
      "cell_type": "markdown",
      "metadata": {
        "id": "Y7d7EngO0rw5"
      },
      "source": [
        "Delivered but missing order_delivered_carrier_date and order_delivered_customer_date"
      ]
    },
    {
      "cell_type": "code",
      "execution_count": 16,
      "metadata": {
        "id": "-QCNGVtC0rw5",
        "outputId": "47b1da79-3b1b-45c4-da37-d25a5b40cc27"
      },
      "outputs": [
        {
          "data": {
            "text/html": [
              "<div>\n",
              "<style scoped>\n",
              "    .dataframe tbody tr th:only-of-type {\n",
              "        vertical-align: middle;\n",
              "    }\n",
              "\n",
              "    .dataframe tbody tr th {\n",
              "        vertical-align: top;\n",
              "    }\n",
              "\n",
              "    .dataframe thead th {\n",
              "        text-align: right;\n",
              "    }\n",
              "</style>\n",
              "<table border=\"1\" class=\"dataframe\">\n",
              "  <thead>\n",
              "    <tr style=\"text-align: right;\">\n",
              "      <th></th>\n",
              "      <th>order_id</th>\n",
              "      <th>customer_id</th>\n",
              "      <th>order_status</th>\n",
              "      <th>order_purchase_timestamp</th>\n",
              "      <th>order_approved_at</th>\n",
              "      <th>order_delivered_carrier_date</th>\n",
              "      <th>order_delivered_customer_date</th>\n",
              "      <th>order_estimated_delivery_date</th>\n",
              "    </tr>\n",
              "  </thead>\n",
              "  <tbody>\n",
              "    <tr>\n",
              "      <th>92643</th>\n",
              "      <td>2d858f451373b04fb5c984a1cc2defaf</td>\n",
              "      <td>e08caf668d499a6d643dafd7c5cc498a</td>\n",
              "      <td>delivered</td>\n",
              "      <td>2017-05-25 23:22:43</td>\n",
              "      <td>2017-05-25 23:30:16</td>\n",
              "      <td>NaT</td>\n",
              "      <td>NaT</td>\n",
              "      <td>2017-06-23</td>\n",
              "    </tr>\n",
              "  </tbody>\n",
              "</table>\n",
              "</div>"
            ],
            "text/plain": [
              "                               order_id                       customer_id  \\\n",
              "92643  2d858f451373b04fb5c984a1cc2defaf  e08caf668d499a6d643dafd7c5cc498a   \n",
              "\n",
              "      order_status order_purchase_timestamp   order_approved_at  \\\n",
              "92643    delivered      2017-05-25 23:22:43 2017-05-25 23:30:16   \n",
              "\n",
              "      order_delivered_carrier_date order_delivered_customer_date  \\\n",
              "92643                          NaT                           NaT   \n",
              "\n",
              "      order_estimated_delivery_date  \n",
              "92643                    2017-06-23  "
            ]
          },
          "execution_count": 16,
          "metadata": {},
          "output_type": "execute_result"
        }
      ],
      "source": [
        "delivered_missing_carrier_customer = (orders_df[\"order_delivered_carrier_date\"].isna()\n",
        "                                      & orders_df[\"order_delivered_customer_date\"].isna()\n",
        "                                      & (orders_df[\"order_status\"] == \"delivered\"))\n",
        "\n",
        "orders_df.loc[delivered_missing_carrier_customer]"
      ]
    },
    {
      "cell_type": "code",
      "execution_count": 17,
      "metadata": {
        "id": "y0GruYE80rw5",
        "outputId": "df36c077-e6f8-4a40-e8a3-0445aebc57e0"
      },
      "outputs": [
        {
          "data": {
            "text/plain": [
              "Timedelta('2 days 19:10:56.833666773')"
            ]
          },
          "execution_count": 17,
          "metadata": {},
          "output_type": "execute_result"
        }
      ],
      "source": [
        "#avg order_delivered_carrier_date\n",
        "\n",
        "delivered_notna =orders_df[orders_df[\"order_delivered_carrier_date\"].notna() & orders_df[\"order_delivered_customer_date\"].notna()\n",
        "                   & (orders_df[\"order_status\"] == \"delivered\")]\n",
        "\n",
        "order_delivered_carrier_date_delay = (delivered_notna[\"order_delivered_carrier_date\"] - delivered_notna[\"order_approved_at\"])\n",
        "\n",
        "avg_order_delivered_carrier_date =order_delivered_carrier_date_delay.mean()\n",
        "avg_order_delivered_carrier_date"
      ]
    },
    {
      "cell_type": "markdown",
      "metadata": {
        "id": "sGwqaFER0rw6"
      },
      "source": [
        "Assignin delivered order with missing approvement data"
      ]
    },
    {
      "cell_type": "code",
      "execution_count": 18,
      "metadata": {
        "id": "-S8BuahB0rw6"
      },
      "outputs": [],
      "source": [
        "orders_df.loc[delivered_missing_carrier_customer, \"order_delivered_carrier_date\"] = (orders_df.loc[delivered_missing_carrier_customer, \"order_approved_at\"]+avg_order_delivered_carrier_date).dt.floor(\"S\")"
      ]
    },
    {
      "cell_type": "code",
      "execution_count": 19,
      "metadata": {
        "id": "_ZFFykcz0rw6",
        "outputId": "69a38e48-835f-4c8a-916f-3cb80dcfa05d"
      },
      "outputs": [
        {
          "data": {
            "text/html": [
              "<div>\n",
              "<style scoped>\n",
              "    .dataframe tbody tr th:only-of-type {\n",
              "        vertical-align: middle;\n",
              "    }\n",
              "\n",
              "    .dataframe tbody tr th {\n",
              "        vertical-align: top;\n",
              "    }\n",
              "\n",
              "    .dataframe thead th {\n",
              "        text-align: right;\n",
              "    }\n",
              "</style>\n",
              "<table border=\"1\" class=\"dataframe\">\n",
              "  <thead>\n",
              "    <tr style=\"text-align: right;\">\n",
              "      <th></th>\n",
              "      <th>order_id</th>\n",
              "      <th>customer_id</th>\n",
              "      <th>order_status</th>\n",
              "      <th>order_purchase_timestamp</th>\n",
              "      <th>order_approved_at</th>\n",
              "      <th>order_delivered_carrier_date</th>\n",
              "      <th>order_delivered_customer_date</th>\n",
              "      <th>order_estimated_delivery_date</th>\n",
              "    </tr>\n",
              "  </thead>\n",
              "  <tbody>\n",
              "    <tr>\n",
              "      <th>92643</th>\n",
              "      <td>2d858f451373b04fb5c984a1cc2defaf</td>\n",
              "      <td>e08caf668d499a6d643dafd7c5cc498a</td>\n",
              "      <td>delivered</td>\n",
              "      <td>2017-05-25 23:22:43</td>\n",
              "      <td>2017-05-25 23:30:16</td>\n",
              "      <td>2017-05-28 18:41:12</td>\n",
              "      <td>NaT</td>\n",
              "      <td>2017-06-23</td>\n",
              "    </tr>\n",
              "  </tbody>\n",
              "</table>\n",
              "</div>"
            ],
            "text/plain": [
              "                               order_id                       customer_id  \\\n",
              "92643  2d858f451373b04fb5c984a1cc2defaf  e08caf668d499a6d643dafd7c5cc498a   \n",
              "\n",
              "      order_status order_purchase_timestamp   order_approved_at  \\\n",
              "92643    delivered      2017-05-25 23:22:43 2017-05-25 23:30:16   \n",
              "\n",
              "      order_delivered_carrier_date order_delivered_customer_date  \\\n",
              "92643          2017-05-28 18:41:12                           NaT   \n",
              "\n",
              "      order_estimated_delivery_date  \n",
              "92643                    2017-06-23  "
            ]
          },
          "execution_count": 19,
          "metadata": {},
          "output_type": "execute_result"
        }
      ],
      "source": [
        "orders_df.loc[delivered_missing_carrier_customer]"
      ]
    },
    {
      "cell_type": "code",
      "execution_count": 20,
      "metadata": {
        "id": "PInMEikC0rw6",
        "outputId": "45daa242-25ce-44fd-9ce7-a2a80d826433"
      },
      "outputs": [
        {
          "data": {
            "text/plain": [
              "92643   12 days 14:39:24\n",
              "dtype: timedelta64[ns]"
            ]
          },
          "execution_count": 20,
          "metadata": {},
          "output_type": "execute_result"
        }
      ],
      "source": [
        "carrier_to_estimated = (orders_df.loc[delivered_missing_carrier_customer, \"order_estimated_delivery_date\"] - orders_df.loc[delivered_missing_carrier_customer, \"order_delivered_carrier_date\"] )\n",
        "median_date = carrier_to_estimated/2\n",
        "median_date"
      ]
    },
    {
      "cell_type": "code",
      "execution_count": 21,
      "metadata": {
        "id": "RoBXFjOt0rw6"
      },
      "outputs": [],
      "source": [
        "orders_df.loc[delivered_missing_carrier_customer, \"order_delivered_customer_date\"] = (orders_df.loc[delivered_missing_carrier_customer, \"order_delivered_carrier_date\"]+median_date).dt.floor(\"S\")"
      ]
    },
    {
      "cell_type": "code",
      "execution_count": 22,
      "metadata": {
        "id": "26ezmh3h0rw6",
        "outputId": "5e9a978a-c3b9-4d0c-ebdd-215b487c6823"
      },
      "outputs": [
        {
          "data": {
            "text/html": [
              "<div>\n",
              "<style scoped>\n",
              "    .dataframe tbody tr th:only-of-type {\n",
              "        vertical-align: middle;\n",
              "    }\n",
              "\n",
              "    .dataframe tbody tr th {\n",
              "        vertical-align: top;\n",
              "    }\n",
              "\n",
              "    .dataframe thead th {\n",
              "        text-align: right;\n",
              "    }\n",
              "</style>\n",
              "<table border=\"1\" class=\"dataframe\">\n",
              "  <thead>\n",
              "    <tr style=\"text-align: right;\">\n",
              "      <th></th>\n",
              "      <th>order_id</th>\n",
              "      <th>customer_id</th>\n",
              "      <th>order_status</th>\n",
              "      <th>order_purchase_timestamp</th>\n",
              "      <th>order_approved_at</th>\n",
              "      <th>order_delivered_carrier_date</th>\n",
              "      <th>order_delivered_customer_date</th>\n",
              "      <th>order_estimated_delivery_date</th>\n",
              "    </tr>\n",
              "  </thead>\n",
              "  <tbody>\n",
              "    <tr>\n",
              "      <th>92643</th>\n",
              "      <td>2d858f451373b04fb5c984a1cc2defaf</td>\n",
              "      <td>e08caf668d499a6d643dafd7c5cc498a</td>\n",
              "      <td>delivered</td>\n",
              "      <td>2017-05-25 23:22:43</td>\n",
              "      <td>2017-05-25 23:30:16</td>\n",
              "      <td>2017-05-28 18:41:12</td>\n",
              "      <td>2017-06-10 09:20:36</td>\n",
              "      <td>2017-06-23</td>\n",
              "    </tr>\n",
              "  </tbody>\n",
              "</table>\n",
              "</div>"
            ],
            "text/plain": [
              "                               order_id                       customer_id  \\\n",
              "92643  2d858f451373b04fb5c984a1cc2defaf  e08caf668d499a6d643dafd7c5cc498a   \n",
              "\n",
              "      order_status order_purchase_timestamp   order_approved_at  \\\n",
              "92643    delivered      2017-05-25 23:22:43 2017-05-25 23:30:16   \n",
              "\n",
              "      order_delivered_carrier_date order_delivered_customer_date  \\\n",
              "92643          2017-05-28 18:41:12           2017-06-10 09:20:36   \n",
              "\n",
              "      order_estimated_delivery_date  \n",
              "92643                    2017-06-23  "
            ]
          },
          "execution_count": 22,
          "metadata": {},
          "output_type": "execute_result"
        }
      ],
      "source": [
        "orders_df.loc[delivered_missing_carrier_customer]"
      ]
    },
    {
      "cell_type": "markdown",
      "metadata": {
        "id": "55CSwIbQ0rw6"
      },
      "source": [
        "another more\n",
        "\n",
        "notna_but_delivered"
      ]
    },
    {
      "cell_type": "code",
      "execution_count": 23,
      "metadata": {
        "id": "d1wjE0zm0rw6",
        "outputId": "26265f5a-dd3c-401d-f431-bdd223e9c840"
      },
      "outputs": [
        {
          "data": {
            "text/plain": [
              "order_id                         0\n",
              "customer_id                      0\n",
              "order_status                     0\n",
              "order_purchase_timestamp         0\n",
              "order_approved_at                0\n",
              "order_delivered_carrier_date     1\n",
              "order_delivered_customer_date    7\n",
              "order_estimated_delivery_date    0\n",
              "dtype: int64"
            ]
          },
          "execution_count": 23,
          "metadata": {},
          "output_type": "execute_result"
        }
      ],
      "source": [
        "notna_but_delivered =((orders_df[\"order_status\"] == \"delivered\"))\n",
        "\n",
        "orders_df.loc[notna_but_delivered].isna().sum()"
      ]
    },
    {
      "cell_type": "markdown",
      "metadata": {
        "id": "Xb7hVBoZ0rw6"
      },
      "source": [
        "Delivered orders with missing order_delivered_customer_date"
      ]
    },
    {
      "cell_type": "code",
      "execution_count": 24,
      "metadata": {
        "id": "n2K3DOlL0rw7",
        "outputId": "421b950e-85c1-4089-8b16-8a55df0b9209"
      },
      "outputs": [
        {
          "data": {
            "text/html": [
              "<div>\n",
              "<style scoped>\n",
              "    .dataframe tbody tr th:only-of-type {\n",
              "        vertical-align: middle;\n",
              "    }\n",
              "\n",
              "    .dataframe tbody tr th {\n",
              "        vertical-align: top;\n",
              "    }\n",
              "\n",
              "    .dataframe thead th {\n",
              "        text-align: right;\n",
              "    }\n",
              "</style>\n",
              "<table border=\"1\" class=\"dataframe\">\n",
              "  <thead>\n",
              "    <tr style=\"text-align: right;\">\n",
              "      <th></th>\n",
              "      <th>order_id</th>\n",
              "      <th>customer_id</th>\n",
              "      <th>order_status</th>\n",
              "      <th>order_purchase_timestamp</th>\n",
              "      <th>order_approved_at</th>\n",
              "      <th>order_delivered_carrier_date</th>\n",
              "      <th>order_delivered_customer_date</th>\n",
              "      <th>order_estimated_delivery_date</th>\n",
              "    </tr>\n",
              "  </thead>\n",
              "  <tbody>\n",
              "    <tr>\n",
              "      <th>3002</th>\n",
              "      <td>2d1e2d5bf4dc7227b3bfebb81328c15f</td>\n",
              "      <td>ec05a6d8558c6455f0cbbd8a420ad34f</td>\n",
              "      <td>delivered</td>\n",
              "      <td>2017-11-28 17:44:07</td>\n",
              "      <td>2017-11-28 17:56:40</td>\n",
              "      <td>2017-11-30 18:12:23</td>\n",
              "      <td>NaT</td>\n",
              "      <td>2017-12-18</td>\n",
              "    </tr>\n",
              "    <tr>\n",
              "      <th>20618</th>\n",
              "      <td>f5dd62b788049ad9fc0526e3ad11a097</td>\n",
              "      <td>5e89028e024b381dc84a13a3570decb4</td>\n",
              "      <td>delivered</td>\n",
              "      <td>2018-06-20 06:58:43</td>\n",
              "      <td>2018-06-20 07:19:05</td>\n",
              "      <td>2018-06-25 08:05:00</td>\n",
              "      <td>NaT</td>\n",
              "      <td>2018-07-16</td>\n",
              "    </tr>\n",
              "    <tr>\n",
              "      <th>43834</th>\n",
              "      <td>2ebdfc4f15f23b91474edf87475f108e</td>\n",
              "      <td>29f0540231702fda0cfdee0a310f11aa</td>\n",
              "      <td>delivered</td>\n",
              "      <td>2018-07-01 17:05:11</td>\n",
              "      <td>2018-07-01 17:15:12</td>\n",
              "      <td>2018-07-03 13:57:00</td>\n",
              "      <td>NaT</td>\n",
              "      <td>2018-07-30</td>\n",
              "    </tr>\n",
              "    <tr>\n",
              "      <th>79263</th>\n",
              "      <td>e69f75a717d64fc5ecdfae42b2e8e086</td>\n",
              "      <td>cfda40ca8dd0a5d486a9635b611b398a</td>\n",
              "      <td>delivered</td>\n",
              "      <td>2018-07-01 22:05:55</td>\n",
              "      <td>2018-07-01 22:15:14</td>\n",
              "      <td>2018-07-03 13:57:00</td>\n",
              "      <td>NaT</td>\n",
              "      <td>2018-07-30</td>\n",
              "    </tr>\n",
              "    <tr>\n",
              "      <th>82868</th>\n",
              "      <td>0d3268bad9b086af767785e3f0fc0133</td>\n",
              "      <td>4f1d63d35fb7c8999853b2699f5c7649</td>\n",
              "      <td>delivered</td>\n",
              "      <td>2018-07-01 21:14:02</td>\n",
              "      <td>2018-07-01 21:29:54</td>\n",
              "      <td>2018-07-03 09:28:00</td>\n",
              "      <td>NaT</td>\n",
              "      <td>2018-07-24</td>\n",
              "    </tr>\n",
              "    <tr>\n",
              "      <th>97647</th>\n",
              "      <td>ab7c89dc1bf4a1ead9d6ec1ec8968a84</td>\n",
              "      <td>dd1b84a7286eb4524d52af4256c0ba24</td>\n",
              "      <td>delivered</td>\n",
              "      <td>2018-06-08 12:09:39</td>\n",
              "      <td>2018-06-08 12:36:39</td>\n",
              "      <td>2018-06-12 14:10:00</td>\n",
              "      <td>NaT</td>\n",
              "      <td>2018-06-26</td>\n",
              "    </tr>\n",
              "    <tr>\n",
              "      <th>98038</th>\n",
              "      <td>20edc82cf5400ce95e1afacc25798b31</td>\n",
              "      <td>28c37425f1127d887d7337f284080a0f</td>\n",
              "      <td>delivered</td>\n",
              "      <td>2018-06-27 16:09:12</td>\n",
              "      <td>2018-06-27 16:29:30</td>\n",
              "      <td>2018-07-03 19:26:00</td>\n",
              "      <td>NaT</td>\n",
              "      <td>2018-07-19</td>\n",
              "    </tr>\n",
              "  </tbody>\n",
              "</table>\n",
              "</div>"
            ],
            "text/plain": [
              "                               order_id                       customer_id  \\\n",
              "3002   2d1e2d5bf4dc7227b3bfebb81328c15f  ec05a6d8558c6455f0cbbd8a420ad34f   \n",
              "20618  f5dd62b788049ad9fc0526e3ad11a097  5e89028e024b381dc84a13a3570decb4   \n",
              "43834  2ebdfc4f15f23b91474edf87475f108e  29f0540231702fda0cfdee0a310f11aa   \n",
              "79263  e69f75a717d64fc5ecdfae42b2e8e086  cfda40ca8dd0a5d486a9635b611b398a   \n",
              "82868  0d3268bad9b086af767785e3f0fc0133  4f1d63d35fb7c8999853b2699f5c7649   \n",
              "97647  ab7c89dc1bf4a1ead9d6ec1ec8968a84  dd1b84a7286eb4524d52af4256c0ba24   \n",
              "98038  20edc82cf5400ce95e1afacc25798b31  28c37425f1127d887d7337f284080a0f   \n",
              "\n",
              "      order_status order_purchase_timestamp   order_approved_at  \\\n",
              "3002     delivered      2017-11-28 17:44:07 2017-11-28 17:56:40   \n",
              "20618    delivered      2018-06-20 06:58:43 2018-06-20 07:19:05   \n",
              "43834    delivered      2018-07-01 17:05:11 2018-07-01 17:15:12   \n",
              "79263    delivered      2018-07-01 22:05:55 2018-07-01 22:15:14   \n",
              "82868    delivered      2018-07-01 21:14:02 2018-07-01 21:29:54   \n",
              "97647    delivered      2018-06-08 12:09:39 2018-06-08 12:36:39   \n",
              "98038    delivered      2018-06-27 16:09:12 2018-06-27 16:29:30   \n",
              "\n",
              "      order_delivered_carrier_date order_delivered_customer_date  \\\n",
              "3002           2017-11-30 18:12:23                           NaT   \n",
              "20618          2018-06-25 08:05:00                           NaT   \n",
              "43834          2018-07-03 13:57:00                           NaT   \n",
              "79263          2018-07-03 13:57:00                           NaT   \n",
              "82868          2018-07-03 09:28:00                           NaT   \n",
              "97647          2018-06-12 14:10:00                           NaT   \n",
              "98038          2018-07-03 19:26:00                           NaT   \n",
              "\n",
              "      order_estimated_delivery_date  \n",
              "3002                     2017-12-18  \n",
              "20618                    2018-07-16  \n",
              "43834                    2018-07-30  \n",
              "79263                    2018-07-30  \n",
              "82868                    2018-07-24  \n",
              "97647                    2018-06-26  \n",
              "98038                    2018-07-19  "
            ]
          },
          "execution_count": 24,
          "metadata": {},
          "output_type": "execute_result"
        }
      ],
      "source": [
        "isna_order_delivered_customer_date =((orders_df[\"order_status\"] == \"delivered\")\n",
        "                  & orders_df[\"order_delivered_customer_date\"].isna())\n",
        "\n",
        "orders_df.loc[isna_order_delivered_customer_date]"
      ]
    },
    {
      "cell_type": "code",
      "execution_count": 25,
      "metadata": {
        "id": "WJp6O_aY0rw7"
      },
      "outputs": [],
      "source": [
        "orders_df.loc[isna_order_delivered_customer_date, \"order_delivered_customer_date\"] = (orders_df.loc[isna_order_delivered_customer_date, \"order_delivered_carrier_date\"]\n",
        "                                                                                                     +((orders_df.loc[isna_order_delivered_customer_date, \"order_estimated_delivery_date\"] - orders_df.loc[isna_order_delivered_customer_date, \"order_delivered_carrier_date\"])/2)\n",
        "                                                                                                     ).dt.floor(\"S\")\n"
      ]
    },
    {
      "cell_type": "code",
      "execution_count": 26,
      "metadata": {
        "id": "aDf3XuCn0rw7",
        "outputId": "d5809e2b-b5d3-4b38-cf5a-e4508a16610d"
      },
      "outputs": [
        {
          "data": {
            "text/html": [
              "<div>\n",
              "<style scoped>\n",
              "    .dataframe tbody tr th:only-of-type {\n",
              "        vertical-align: middle;\n",
              "    }\n",
              "\n",
              "    .dataframe tbody tr th {\n",
              "        vertical-align: top;\n",
              "    }\n",
              "\n",
              "    .dataframe thead th {\n",
              "        text-align: right;\n",
              "    }\n",
              "</style>\n",
              "<table border=\"1\" class=\"dataframe\">\n",
              "  <thead>\n",
              "    <tr style=\"text-align: right;\">\n",
              "      <th></th>\n",
              "      <th>order_id</th>\n",
              "      <th>customer_id</th>\n",
              "      <th>order_status</th>\n",
              "      <th>order_purchase_timestamp</th>\n",
              "      <th>order_approved_at</th>\n",
              "      <th>order_delivered_carrier_date</th>\n",
              "      <th>order_delivered_customer_date</th>\n",
              "      <th>order_estimated_delivery_date</th>\n",
              "    </tr>\n",
              "  </thead>\n",
              "  <tbody>\n",
              "    <tr>\n",
              "      <th>3002</th>\n",
              "      <td>2d1e2d5bf4dc7227b3bfebb81328c15f</td>\n",
              "      <td>ec05a6d8558c6455f0cbbd8a420ad34f</td>\n",
              "      <td>delivered</td>\n",
              "      <td>2017-11-28 17:44:07</td>\n",
              "      <td>2017-11-28 17:56:40</td>\n",
              "      <td>2017-11-30 18:12:23</td>\n",
              "      <td>2017-12-09 09:06:11</td>\n",
              "      <td>2017-12-18</td>\n",
              "    </tr>\n",
              "    <tr>\n",
              "      <th>20618</th>\n",
              "      <td>f5dd62b788049ad9fc0526e3ad11a097</td>\n",
              "      <td>5e89028e024b381dc84a13a3570decb4</td>\n",
              "      <td>delivered</td>\n",
              "      <td>2018-06-20 06:58:43</td>\n",
              "      <td>2018-06-20 07:19:05</td>\n",
              "      <td>2018-06-25 08:05:00</td>\n",
              "      <td>2018-07-05 16:02:30</td>\n",
              "      <td>2018-07-16</td>\n",
              "    </tr>\n",
              "    <tr>\n",
              "      <th>43834</th>\n",
              "      <td>2ebdfc4f15f23b91474edf87475f108e</td>\n",
              "      <td>29f0540231702fda0cfdee0a310f11aa</td>\n",
              "      <td>delivered</td>\n",
              "      <td>2018-07-01 17:05:11</td>\n",
              "      <td>2018-07-01 17:15:12</td>\n",
              "      <td>2018-07-03 13:57:00</td>\n",
              "      <td>2018-07-16 18:58:30</td>\n",
              "      <td>2018-07-30</td>\n",
              "    </tr>\n",
              "    <tr>\n",
              "      <th>79263</th>\n",
              "      <td>e69f75a717d64fc5ecdfae42b2e8e086</td>\n",
              "      <td>cfda40ca8dd0a5d486a9635b611b398a</td>\n",
              "      <td>delivered</td>\n",
              "      <td>2018-07-01 22:05:55</td>\n",
              "      <td>2018-07-01 22:15:14</td>\n",
              "      <td>2018-07-03 13:57:00</td>\n",
              "      <td>2018-07-16 18:58:30</td>\n",
              "      <td>2018-07-30</td>\n",
              "    </tr>\n",
              "    <tr>\n",
              "      <th>82868</th>\n",
              "      <td>0d3268bad9b086af767785e3f0fc0133</td>\n",
              "      <td>4f1d63d35fb7c8999853b2699f5c7649</td>\n",
              "      <td>delivered</td>\n",
              "      <td>2018-07-01 21:14:02</td>\n",
              "      <td>2018-07-01 21:29:54</td>\n",
              "      <td>2018-07-03 09:28:00</td>\n",
              "      <td>2018-07-13 16:44:00</td>\n",
              "      <td>2018-07-24</td>\n",
              "    </tr>\n",
              "    <tr>\n",
              "      <th>97647</th>\n",
              "      <td>ab7c89dc1bf4a1ead9d6ec1ec8968a84</td>\n",
              "      <td>dd1b84a7286eb4524d52af4256c0ba24</td>\n",
              "      <td>delivered</td>\n",
              "      <td>2018-06-08 12:09:39</td>\n",
              "      <td>2018-06-08 12:36:39</td>\n",
              "      <td>2018-06-12 14:10:00</td>\n",
              "      <td>2018-06-19 07:05:00</td>\n",
              "      <td>2018-06-26</td>\n",
              "    </tr>\n",
              "    <tr>\n",
              "      <th>98038</th>\n",
              "      <td>20edc82cf5400ce95e1afacc25798b31</td>\n",
              "      <td>28c37425f1127d887d7337f284080a0f</td>\n",
              "      <td>delivered</td>\n",
              "      <td>2018-06-27 16:09:12</td>\n",
              "      <td>2018-06-27 16:29:30</td>\n",
              "      <td>2018-07-03 19:26:00</td>\n",
              "      <td>2018-07-11 09:43:00</td>\n",
              "      <td>2018-07-19</td>\n",
              "    </tr>\n",
              "  </tbody>\n",
              "</table>\n",
              "</div>"
            ],
            "text/plain": [
              "                               order_id                       customer_id  \\\n",
              "3002   2d1e2d5bf4dc7227b3bfebb81328c15f  ec05a6d8558c6455f0cbbd8a420ad34f   \n",
              "20618  f5dd62b788049ad9fc0526e3ad11a097  5e89028e024b381dc84a13a3570decb4   \n",
              "43834  2ebdfc4f15f23b91474edf87475f108e  29f0540231702fda0cfdee0a310f11aa   \n",
              "79263  e69f75a717d64fc5ecdfae42b2e8e086  cfda40ca8dd0a5d486a9635b611b398a   \n",
              "82868  0d3268bad9b086af767785e3f0fc0133  4f1d63d35fb7c8999853b2699f5c7649   \n",
              "97647  ab7c89dc1bf4a1ead9d6ec1ec8968a84  dd1b84a7286eb4524d52af4256c0ba24   \n",
              "98038  20edc82cf5400ce95e1afacc25798b31  28c37425f1127d887d7337f284080a0f   \n",
              "\n",
              "      order_status order_purchase_timestamp   order_approved_at  \\\n",
              "3002     delivered      2017-11-28 17:44:07 2017-11-28 17:56:40   \n",
              "20618    delivered      2018-06-20 06:58:43 2018-06-20 07:19:05   \n",
              "43834    delivered      2018-07-01 17:05:11 2018-07-01 17:15:12   \n",
              "79263    delivered      2018-07-01 22:05:55 2018-07-01 22:15:14   \n",
              "82868    delivered      2018-07-01 21:14:02 2018-07-01 21:29:54   \n",
              "97647    delivered      2018-06-08 12:09:39 2018-06-08 12:36:39   \n",
              "98038    delivered      2018-06-27 16:09:12 2018-06-27 16:29:30   \n",
              "\n",
              "      order_delivered_carrier_date order_delivered_customer_date  \\\n",
              "3002           2017-11-30 18:12:23           2017-12-09 09:06:11   \n",
              "20618          2018-06-25 08:05:00           2018-07-05 16:02:30   \n",
              "43834          2018-07-03 13:57:00           2018-07-16 18:58:30   \n",
              "79263          2018-07-03 13:57:00           2018-07-16 18:58:30   \n",
              "82868          2018-07-03 09:28:00           2018-07-13 16:44:00   \n",
              "97647          2018-06-12 14:10:00           2018-06-19 07:05:00   \n",
              "98038          2018-07-03 19:26:00           2018-07-11 09:43:00   \n",
              "\n",
              "      order_estimated_delivery_date  \n",
              "3002                     2017-12-18  \n",
              "20618                    2018-07-16  \n",
              "43834                    2018-07-30  \n",
              "79263                    2018-07-30  \n",
              "82868                    2018-07-24  \n",
              "97647                    2018-06-26  \n",
              "98038                    2018-07-19  "
            ]
          },
          "execution_count": 26,
          "metadata": {},
          "output_type": "execute_result"
        }
      ],
      "source": [
        "orders_df.loc[isna_order_delivered_customer_date]"
      ]
    },
    {
      "cell_type": "markdown",
      "metadata": {
        "id": "IxTsTC7r0rw7"
      },
      "source": [
        "Delivered orders with missing order_delivered_carrier_date"
      ]
    },
    {
      "cell_type": "code",
      "execution_count": 27,
      "metadata": {
        "id": "wfl2sVtx0rw7",
        "outputId": "4e35ac28-a2ef-4f1c-931d-560ea2a1cbd1"
      },
      "outputs": [
        {
          "data": {
            "text/html": [
              "<div>\n",
              "<style scoped>\n",
              "    .dataframe tbody tr th:only-of-type {\n",
              "        vertical-align: middle;\n",
              "    }\n",
              "\n",
              "    .dataframe tbody tr th {\n",
              "        vertical-align: top;\n",
              "    }\n",
              "\n",
              "    .dataframe thead th {\n",
              "        text-align: right;\n",
              "    }\n",
              "</style>\n",
              "<table border=\"1\" class=\"dataframe\">\n",
              "  <thead>\n",
              "    <tr style=\"text-align: right;\">\n",
              "      <th></th>\n",
              "      <th>order_id</th>\n",
              "      <th>customer_id</th>\n",
              "      <th>order_status</th>\n",
              "      <th>order_purchase_timestamp</th>\n",
              "      <th>order_approved_at</th>\n",
              "      <th>order_delivered_carrier_date</th>\n",
              "      <th>order_delivered_customer_date</th>\n",
              "      <th>order_estimated_delivery_date</th>\n",
              "    </tr>\n",
              "  </thead>\n",
              "  <tbody>\n",
              "    <tr>\n",
              "      <th>73222</th>\n",
              "      <td>2aa91108853cecb43c84a5dc5b277475</td>\n",
              "      <td>afeb16c7f46396c0ed54acb45ccaaa40</td>\n",
              "      <td>delivered</td>\n",
              "      <td>2017-09-29 08:52:58</td>\n",
              "      <td>2017-09-29 09:07:16</td>\n",
              "      <td>NaT</td>\n",
              "      <td>2017-11-20 19:44:47</td>\n",
              "      <td>2017-11-14</td>\n",
              "    </tr>\n",
              "  </tbody>\n",
              "</table>\n",
              "</div>"
            ],
            "text/plain": [
              "                               order_id                       customer_id  \\\n",
              "73222  2aa91108853cecb43c84a5dc5b277475  afeb16c7f46396c0ed54acb45ccaaa40   \n",
              "\n",
              "      order_status order_purchase_timestamp   order_approved_at  \\\n",
              "73222    delivered      2017-09-29 08:52:58 2017-09-29 09:07:16   \n",
              "\n",
              "      order_delivered_carrier_date order_delivered_customer_date  \\\n",
              "73222                          NaT           2017-11-20 19:44:47   \n",
              "\n",
              "      order_estimated_delivery_date  \n",
              "73222                    2017-11-14  "
            ]
          },
          "execution_count": 27,
          "metadata": {},
          "output_type": "execute_result"
        }
      ],
      "source": [
        "isna_order_delivered_carrier_date =((orders_df[\"order_status\"] == \"delivered\")\n",
        "                  & orders_df[\"order_delivered_carrier_date\"].isna()\n",
        ")\n",
        "\n",
        "orders_df.loc[isna_order_delivered_carrier_date]"
      ]
    },
    {
      "cell_type": "code",
      "execution_count": 28,
      "metadata": {
        "id": "i8d8K5dd0rw_"
      },
      "outputs": [],
      "source": [
        "orders_df.loc[isna_order_delivered_carrier_date, \"order_delivered_carrier_date\"] = (\n",
        "    orders_df.loc[isna_order_delivered_carrier_date, \"order_approved_at\"]+avg_order_delivered_carrier_date\n",
        ").dt.floor(\"S\")"
      ]
    },
    {
      "cell_type": "code",
      "execution_count": 29,
      "metadata": {
        "id": "a3F2gqAq0rw_",
        "outputId": "ede284c7-72e6-407a-fe7e-236ac9dbbb23"
      },
      "outputs": [
        {
          "data": {
            "text/html": [
              "<div>\n",
              "<style scoped>\n",
              "    .dataframe tbody tr th:only-of-type {\n",
              "        vertical-align: middle;\n",
              "    }\n",
              "\n",
              "    .dataframe tbody tr th {\n",
              "        vertical-align: top;\n",
              "    }\n",
              "\n",
              "    .dataframe thead th {\n",
              "        text-align: right;\n",
              "    }\n",
              "</style>\n",
              "<table border=\"1\" class=\"dataframe\">\n",
              "  <thead>\n",
              "    <tr style=\"text-align: right;\">\n",
              "      <th></th>\n",
              "      <th>order_id</th>\n",
              "      <th>customer_id</th>\n",
              "      <th>order_status</th>\n",
              "      <th>order_purchase_timestamp</th>\n",
              "      <th>order_approved_at</th>\n",
              "      <th>order_delivered_carrier_date</th>\n",
              "      <th>order_delivered_customer_date</th>\n",
              "      <th>order_estimated_delivery_date</th>\n",
              "    </tr>\n",
              "  </thead>\n",
              "  <tbody>\n",
              "    <tr>\n",
              "      <th>73222</th>\n",
              "      <td>2aa91108853cecb43c84a5dc5b277475</td>\n",
              "      <td>afeb16c7f46396c0ed54acb45ccaaa40</td>\n",
              "      <td>delivered</td>\n",
              "      <td>2017-09-29 08:52:58</td>\n",
              "      <td>2017-09-29 09:07:16</td>\n",
              "      <td>2017-10-02 04:18:12</td>\n",
              "      <td>2017-11-20 19:44:47</td>\n",
              "      <td>2017-11-14</td>\n",
              "    </tr>\n",
              "  </tbody>\n",
              "</table>\n",
              "</div>"
            ],
            "text/plain": [
              "                               order_id                       customer_id  \\\n",
              "73222  2aa91108853cecb43c84a5dc5b277475  afeb16c7f46396c0ed54acb45ccaaa40   \n",
              "\n",
              "      order_status order_purchase_timestamp   order_approved_at  \\\n",
              "73222    delivered      2017-09-29 08:52:58 2017-09-29 09:07:16   \n",
              "\n",
              "      order_delivered_carrier_date order_delivered_customer_date  \\\n",
              "73222          2017-10-02 04:18:12           2017-11-20 19:44:47   \n",
              "\n",
              "      order_estimated_delivery_date  \n",
              "73222                    2017-11-14  "
            ]
          },
          "execution_count": 29,
          "metadata": {},
          "output_type": "execute_result"
        }
      ],
      "source": [
        "orders_df.loc[isna_order_delivered_carrier_date]"
      ]
    },
    {
      "cell_type": "code",
      "execution_count": 30,
      "metadata": {
        "id": "ClOUC8xP0rw_",
        "outputId": "532d184f-44f5-4165-8f0b-8883b6bfc039"
      },
      "outputs": [
        {
          "data": {
            "text/plain": [
              "order_id                         0\n",
              "customer_id                      0\n",
              "order_status                     0\n",
              "order_purchase_timestamp         0\n",
              "order_approved_at                0\n",
              "order_delivered_carrier_date     0\n",
              "order_delivered_customer_date    0\n",
              "order_estimated_delivery_date    0\n",
              "dtype: int64"
            ]
          },
          "execution_count": 30,
          "metadata": {},
          "output_type": "execute_result"
        }
      ],
      "source": [
        "notna_but_delivered =((orders_df[\"order_status\"] == \"delivered\"))\n",
        "\n",
        "orders_df.loc[notna_but_delivered].isna().sum()"
      ]
    },
    {
      "cell_type": "code",
      "execution_count": 31,
      "metadata": {
        "id": "sbagKpRS0rw_",
        "outputId": "a5809eeb-498e-409c-93b0-3726079bbd18"
      },
      "outputs": [
        {
          "data": {
            "text/plain": [
              "order_id                            0\n",
              "customer_id                         0\n",
              "order_status                        0\n",
              "order_purchase_timestamp            0\n",
              "order_approved_at                 146\n",
              "order_delivered_carrier_date     1781\n",
              "order_delivered_customer_date    2957\n",
              "order_estimated_delivery_date       0\n",
              "dtype: int64"
            ]
          },
          "execution_count": 31,
          "metadata": {},
          "output_type": "execute_result"
        }
      ],
      "source": [
        "orders_df.isna().sum()"
      ]
    },
    {
      "cell_type": "code",
      "execution_count": 32,
      "metadata": {
        "id": "n-FFJCq10rw_",
        "outputId": "f03f6f64-ea83-4c13-f0c7-1f2623e16d20"
      },
      "outputs": [
        {
          "data": {
            "text/plain": [
              "array(['delivered', 'invoiced', 'shipped', 'processing', 'unavailable',\n",
              "       'canceled', 'created', 'approved'], dtype=object)"
            ]
          },
          "execution_count": 32,
          "metadata": {},
          "output_type": "execute_result"
        }
      ],
      "source": [
        "orders_df.order_status.unique()"
      ]
    },
    {
      "cell_type": "code",
      "execution_count": 33,
      "metadata": {
        "id": "GmIJjhmh0rw_",
        "outputId": "f7b1a746-fd6d-4bc7-be6b-997ac48f5479"
      },
      "outputs": [
        {
          "name": "stdout",
          "output_type": "stream",
          "text": [
            "===delivered===\n",
            "order_id                         0\n",
            "customer_id                      0\n",
            "order_status                     0\n",
            "order_purchase_timestamp         0\n",
            "order_approved_at                0\n",
            "order_delivered_carrier_date     0\n",
            "order_delivered_customer_date    0\n",
            "order_estimated_delivery_date    0\n",
            "dtype: int64\n",
            "===invoiced===\n",
            "order_id                           0\n",
            "customer_id                        0\n",
            "order_status                       0\n",
            "order_purchase_timestamp           0\n",
            "order_approved_at                  0\n",
            "order_delivered_carrier_date     314\n",
            "order_delivered_customer_date    314\n",
            "order_estimated_delivery_date      0\n",
            "dtype: int64\n",
            "===shipped===\n",
            "order_id                            0\n",
            "customer_id                         0\n",
            "order_status                        0\n",
            "order_purchase_timestamp            0\n",
            "order_approved_at                   0\n",
            "order_delivered_carrier_date        0\n",
            "order_delivered_customer_date    1107\n",
            "order_estimated_delivery_date       0\n",
            "dtype: int64\n",
            "===processing===\n",
            "order_id                           0\n",
            "customer_id                        0\n",
            "order_status                       0\n",
            "order_purchase_timestamp           0\n",
            "order_approved_at                  0\n",
            "order_delivered_carrier_date     301\n",
            "order_delivered_customer_date    301\n",
            "order_estimated_delivery_date      0\n",
            "dtype: int64\n",
            "===unavailable===\n",
            "order_id                           0\n",
            "customer_id                        0\n",
            "order_status                       0\n",
            "order_purchase_timestamp           0\n",
            "order_approved_at                  0\n",
            "order_delivered_carrier_date     609\n",
            "order_delivered_customer_date    609\n",
            "order_estimated_delivery_date      0\n",
            "dtype: int64\n",
            "===canceled===\n",
            "order_id                           0\n",
            "customer_id                        0\n",
            "order_status                       0\n",
            "order_purchase_timestamp           0\n",
            "order_approved_at                141\n",
            "order_delivered_carrier_date     550\n",
            "order_delivered_customer_date    619\n",
            "order_estimated_delivery_date      0\n",
            "dtype: int64\n",
            "===created===\n",
            "order_id                         0\n",
            "customer_id                      0\n",
            "order_status                     0\n",
            "order_purchase_timestamp         0\n",
            "order_approved_at                5\n",
            "order_delivered_carrier_date     5\n",
            "order_delivered_customer_date    5\n",
            "order_estimated_delivery_date    0\n",
            "dtype: int64\n",
            "===approved===\n",
            "order_id                         0\n",
            "customer_id                      0\n",
            "order_status                     0\n",
            "order_purchase_timestamp         0\n",
            "order_approved_at                0\n",
            "order_delivered_carrier_date     2\n",
            "order_delivered_customer_date    2\n",
            "order_estimated_delivery_date    0\n",
            "dtype: int64\n"
          ]
        }
      ],
      "source": [
        "for order_stat in orders_df['order_status'].unique():\n",
        "    print(f\"==={order_stat}===\")\n",
        "    orders = orders_df[orders_df['order_status'] == order_stat]\n",
        "\n",
        "    print(f\"{orders.isna().sum()}\")"
      ]
    },
    {
      "cell_type": "markdown",
      "metadata": {
        "id": "I0M2SHc90rw_"
      },
      "source": [
        "Product missing data"
      ]
    },
    {
      "cell_type": "code",
      "execution_count": 34,
      "metadata": {
        "id": "LdJseZGe0rw_",
        "outputId": "c4eb0605-0677-4fa1-b631-a07909048463"
      },
      "outputs": [
        {
          "data": {
            "text/plain": [
              "cama_mesa_banho                  3029\n",
              "esporte_lazer                    2867\n",
              "moveis_decoracao                 2657\n",
              "beleza_saude                     2444\n",
              "utilidades_domesticas            2335\n",
              "                                 ... \n",
              "fashion_roupa_infanto_juvenil       5\n",
              "casa_conforto_2                     5\n",
              "pc_gamer                            3\n",
              "seguros_e_servicos                  2\n",
              "cds_dvds_musicais                   1\n",
              "Name: product_category_name, Length: 73, dtype: int64"
            ]
          },
          "execution_count": 34,
          "metadata": {},
          "output_type": "execute_result"
        }
      ],
      "source": [
        "products_df[\"product_category_name\"].value_counts()"
      ]
    },
    {
      "cell_type": "code",
      "execution_count": 35,
      "metadata": {
        "id": "e-dBVuxa0rw_",
        "outputId": "1988ce11-3654-4509-e9f5-fddb9c0471a2"
      },
      "outputs": [
        {
          "data": {
            "text/plain": [
              "product_id                      0\n",
              "product_category_name         610\n",
              "product_name_lenght           610\n",
              "product_description_lenght    610\n",
              "product_photos_qty            610\n",
              "product_weight_g                2\n",
              "product_length_cm               2\n",
              "product_height_cm               2\n",
              "product_width_cm                2\n",
              "dtype: int64"
            ]
          },
          "execution_count": 35,
          "metadata": {},
          "output_type": "execute_result"
        }
      ],
      "source": [
        "products_df.isna().sum()"
      ]
    },
    {
      "cell_type": "code",
      "execution_count": 36,
      "metadata": {
        "id": "LpT05Y5B0rxA"
      },
      "outputs": [],
      "source": [
        "products_df[\"product_weight_g\"].fillna(products_df[\"product_weight_g\"].median(), inplace=True)\n",
        "products_df[\"product_length_cm\"].fillna(products_df[\"product_length_cm\"].median(), inplace=True)\n",
        "products_df[\"product_height_cm\"].fillna(products_df[\"product_height_cm\"].median(), inplace=True)\n",
        "products_df[\"product_width_cm\"].fillna(products_df[\"product_width_cm\"].median(), inplace=True)\n"
      ]
    },
    {
      "cell_type": "code",
      "execution_count": 37,
      "metadata": {
        "id": "S_o7swpq0rxA",
        "outputId": "413b7f8d-a286-4358-d139-4c79df983985"
      },
      "outputs": [
        {
          "name": "stdout",
          "output_type": "stream",
          "text": [
            "<class 'pandas.core.frame.DataFrame'>\n",
            "Int64Index: 32951 entries, 0 to 32950\n",
            "Data columns (total 9 columns):\n",
            " #   Column                      Non-Null Count  Dtype  \n",
            "---  ------                      --------------  -----  \n",
            " 0   product_id                  32951 non-null  object \n",
            " 1   product_category_name       32341 non-null  object \n",
            " 2   product_name_lenght         32341 non-null  float64\n",
            " 3   product_description_lenght  32341 non-null  float64\n",
            " 4   product_photos_qty          32341 non-null  float64\n",
            " 5   product_weight_g            32951 non-null  float64\n",
            " 6   product_length_cm           32951 non-null  float64\n",
            " 7   product_height_cm           32951 non-null  float64\n",
            " 8   product_width_cm            32951 non-null  float64\n",
            "dtypes: float64(7), object(2)\n",
            "memory usage: 2.5+ MB\n"
          ]
        }
      ],
      "source": [
        "products_df.info()"
      ]
    },
    {
      "cell_type": "code",
      "execution_count": 38,
      "metadata": {
        "id": "jH2xG1o30rxA"
      },
      "outputs": [],
      "source": [
        "products_df[\"product_category_name\"].fillna(\"unknown\", inplace=True)"
      ]
    },
    {
      "cell_type": "code",
      "execution_count": 39,
      "metadata": {
        "id": "6DxK5PFk0rxA"
      },
      "outputs": [],
      "source": [
        "products_df[\"product_name_lenght\"].fillna(products_df[\"product_name_lenght\"].mean(), inplace=True)"
      ]
    },
    {
      "cell_type": "code",
      "execution_count": 40,
      "metadata": {
        "id": "fKeqwlEu0rxA"
      },
      "outputs": [],
      "source": [
        "products_df[\"product_description_lenght\"].fillna(products_df[\"product_description_lenght\"].mean(), inplace=True)"
      ]
    },
    {
      "cell_type": "code",
      "execution_count": 41,
      "metadata": {
        "id": "TL29vjkn0rxA"
      },
      "outputs": [],
      "source": [
        "products_df[\"product_photos_qty\"].fillna(products_df[\"product_photos_qty\"].mean(), inplace=True)"
      ]
    },
    {
      "cell_type": "code",
      "execution_count": 42,
      "metadata": {
        "id": "IB9Tvye60rxA",
        "outputId": "bab2c239-3938-49f2-afba-83fe23f0792a"
      },
      "outputs": [
        {
          "data": {
            "text/plain": [
              "product_id                    0\n",
              "product_category_name         0\n",
              "product_name_lenght           0\n",
              "product_description_lenght    0\n",
              "product_photos_qty            0\n",
              "product_weight_g              0\n",
              "product_length_cm             0\n",
              "product_height_cm             0\n",
              "product_width_cm              0\n",
              "dtype: int64"
            ]
          },
          "execution_count": 42,
          "metadata": {},
          "output_type": "execute_result"
        }
      ],
      "source": [
        "products_df.isna().sum()"
      ]
    },
    {
      "cell_type": "markdown",
      "metadata": {
        "id": "TknD8C-00rxA"
      },
      "source": [
        "Insight:\n",
        "- Missing data in orders_df was quite complicated but, I concluded that all orders with delivered status must not contain null data but in reverse of the other order statuses, for example shipped, processing, cancled orders does not need order_delivered_customer_date.\n",
        "- Product with with missing data mark as unknown data though the original data is in portugis languange\n",
        "- product_name_lenght, product_description_lenght and product_photos_qty filled with mean data.\n"
      ]
    },
    {
      "cell_type": "markdown",
      "metadata": {
        "id": "D5oelu3r0rxA"
      },
      "source": [
        "# Exploratory Data Analysis"
      ]
    },
    {
      "cell_type": "markdown",
      "metadata": {},
      "source": [
        "## Exporting all DataFrame"
      ]
    },
    {
      "cell_type": "code",
      "execution_count": 43,
      "metadata": {},
      "outputs": [
        {
          "data": {
            "text/html": [
              "<div>\n",
              "<style scoped>\n",
              "    .dataframe tbody tr th:only-of-type {\n",
              "        vertical-align: middle;\n",
              "    }\n",
              "\n",
              "    .dataframe tbody tr th {\n",
              "        vertical-align: top;\n",
              "    }\n",
              "\n",
              "    .dataframe thead th {\n",
              "        text-align: right;\n",
              "    }\n",
              "</style>\n",
              "<table border=\"1\" class=\"dataframe\">\n",
              "  <thead>\n",
              "    <tr style=\"text-align: right;\">\n",
              "      <th></th>\n",
              "      <th>customer_id</th>\n",
              "      <th>customer_unique_id</th>\n",
              "      <th>customer_zip_code_prefix</th>\n",
              "      <th>customer_city</th>\n",
              "      <th>customer_state</th>\n",
              "      <th>order_id</th>\n",
              "      <th>order_status</th>\n",
              "      <th>order_purchase_timestamp</th>\n",
              "      <th>order_approved_at</th>\n",
              "      <th>order_delivered_carrier_date</th>\n",
              "      <th>...</th>\n",
              "      <th>seller_state</th>\n",
              "      <th>product_category_name</th>\n",
              "      <th>product_name_lenght</th>\n",
              "      <th>product_description_lenght</th>\n",
              "      <th>product_photos_qty</th>\n",
              "      <th>product_weight_g</th>\n",
              "      <th>product_length_cm</th>\n",
              "      <th>product_height_cm</th>\n",
              "      <th>product_width_cm</th>\n",
              "      <th>product_category_name_english</th>\n",
              "    </tr>\n",
              "  </thead>\n",
              "  <tbody>\n",
              "    <tr>\n",
              "      <th>0</th>\n",
              "      <td>06b8999e2fba1a1fbc88172c00ba8bc7</td>\n",
              "      <td>861eff4711a542e4b93843c6dd7febb0</td>\n",
              "      <td>14409</td>\n",
              "      <td>franca</td>\n",
              "      <td>SP</td>\n",
              "      <td>00e7ee1b050b8499577073aeb2a297a1</td>\n",
              "      <td>delivered</td>\n",
              "      <td>2017-05-16 15:05:35</td>\n",
              "      <td>2017-05-16 15:22:12</td>\n",
              "      <td>2017-05-23 10:47:57</td>\n",
              "      <td>...</td>\n",
              "      <td>SP</td>\n",
              "      <td>moveis_escritorio</td>\n",
              "      <td>41.0</td>\n",
              "      <td>1141.0</td>\n",
              "      <td>1.0</td>\n",
              "      <td>8683.0</td>\n",
              "      <td>54.0</td>\n",
              "      <td>64.0</td>\n",
              "      <td>31.0</td>\n",
              "      <td>office_furniture</td>\n",
              "    </tr>\n",
              "    <tr>\n",
              "      <th>1</th>\n",
              "      <td>18955e83d337fd6b2def6b18a428ac77</td>\n",
              "      <td>290c77bc529b7ac935b93aa66c333dc3</td>\n",
              "      <td>9790</td>\n",
              "      <td>sao bernardo do campo</td>\n",
              "      <td>SP</td>\n",
              "      <td>29150127e6685892b6eab3eec79f59c7</td>\n",
              "      <td>delivered</td>\n",
              "      <td>2018-01-12 20:48:24</td>\n",
              "      <td>2018-01-12 20:58:32</td>\n",
              "      <td>2018-01-15 17:14:59</td>\n",
              "      <td>...</td>\n",
              "      <td>SC</td>\n",
              "      <td>utilidades_domesticas</td>\n",
              "      <td>43.0</td>\n",
              "      <td>1002.0</td>\n",
              "      <td>3.0</td>\n",
              "      <td>10150.0</td>\n",
              "      <td>89.0</td>\n",
              "      <td>15.0</td>\n",
              "      <td>40.0</td>\n",
              "      <td>housewares</td>\n",
              "    </tr>\n",
              "    <tr>\n",
              "      <th>2</th>\n",
              "      <td>4e7b3e00288586ebd08712fdd0374a03</td>\n",
              "      <td>060e732b5b29e8181a18229c7b0b2b5e</td>\n",
              "      <td>1151</td>\n",
              "      <td>sao paulo</td>\n",
              "      <td>SP</td>\n",
              "      <td>b2059ed67ce144a36e2aa97d2c9e9ad2</td>\n",
              "      <td>delivered</td>\n",
              "      <td>2018-05-19 16:07:45</td>\n",
              "      <td>2018-05-20 16:19:10</td>\n",
              "      <td>2018-06-11 14:31:00</td>\n",
              "      <td>...</td>\n",
              "      <td>SP</td>\n",
              "      <td>moveis_escritorio</td>\n",
              "      <td>55.0</td>\n",
              "      <td>955.0</td>\n",
              "      <td>1.0</td>\n",
              "      <td>8267.0</td>\n",
              "      <td>52.0</td>\n",
              "      <td>52.0</td>\n",
              "      <td>17.0</td>\n",
              "      <td>office_furniture</td>\n",
              "    </tr>\n",
              "    <tr>\n",
              "      <th>3</th>\n",
              "      <td>b2b6027bc5c5109e529d4dc6358b12c3</td>\n",
              "      <td>259dac757896d24d7702b9acbbff3f3c</td>\n",
              "      <td>8775</td>\n",
              "      <td>mogi das cruzes</td>\n",
              "      <td>SP</td>\n",
              "      <td>951670f92359f4fe4a63112aa7306eba</td>\n",
              "      <td>delivered</td>\n",
              "      <td>2018-03-13 16:06:38</td>\n",
              "      <td>2018-03-13 17:29:19</td>\n",
              "      <td>2018-03-27 23:22:42</td>\n",
              "      <td>...</td>\n",
              "      <td>SP</td>\n",
              "      <td>moveis_escritorio</td>\n",
              "      <td>48.0</td>\n",
              "      <td>1066.0</td>\n",
              "      <td>1.0</td>\n",
              "      <td>12160.0</td>\n",
              "      <td>56.0</td>\n",
              "      <td>51.0</td>\n",
              "      <td>28.0</td>\n",
              "      <td>office_furniture</td>\n",
              "    </tr>\n",
              "    <tr>\n",
              "      <th>4</th>\n",
              "      <td>4f2d8ab171c80ec8364f7c12e35b23ad</td>\n",
              "      <td>345ecd01c38d18a9036ed96c73b8d066</td>\n",
              "      <td>13056</td>\n",
              "      <td>campinas</td>\n",
              "      <td>SP</td>\n",
              "      <td>6b7d50bd145f6fc7f33cebabd7e49d0f</td>\n",
              "      <td>delivered</td>\n",
              "      <td>2018-07-29 09:51:30</td>\n",
              "      <td>2018-07-29 10:10:09</td>\n",
              "      <td>2018-07-30 15:16:00</td>\n",
              "      <td>...</td>\n",
              "      <td>SP</td>\n",
              "      <td>casa_conforto</td>\n",
              "      <td>61.0</td>\n",
              "      <td>407.0</td>\n",
              "      <td>1.0</td>\n",
              "      <td>5200.0</td>\n",
              "      <td>45.0</td>\n",
              "      <td>15.0</td>\n",
              "      <td>35.0</td>\n",
              "      <td>home_confort</td>\n",
              "    </tr>\n",
              "  </tbody>\n",
              "</table>\n",
              "<p>5 rows × 34 columns</p>\n",
              "</div>"
            ],
            "text/plain": [
              "                        customer_id                customer_unique_id  \\\n",
              "0  06b8999e2fba1a1fbc88172c00ba8bc7  861eff4711a542e4b93843c6dd7febb0   \n",
              "1  18955e83d337fd6b2def6b18a428ac77  290c77bc529b7ac935b93aa66c333dc3   \n",
              "2  4e7b3e00288586ebd08712fdd0374a03  060e732b5b29e8181a18229c7b0b2b5e   \n",
              "3  b2b6027bc5c5109e529d4dc6358b12c3  259dac757896d24d7702b9acbbff3f3c   \n",
              "4  4f2d8ab171c80ec8364f7c12e35b23ad  345ecd01c38d18a9036ed96c73b8d066   \n",
              "\n",
              "   customer_zip_code_prefix          customer_city customer_state  \\\n",
              "0                     14409                 franca             SP   \n",
              "1                      9790  sao bernardo do campo             SP   \n",
              "2                      1151              sao paulo             SP   \n",
              "3                      8775        mogi das cruzes             SP   \n",
              "4                     13056               campinas             SP   \n",
              "\n",
              "                           order_id order_status order_purchase_timestamp  \\\n",
              "0  00e7ee1b050b8499577073aeb2a297a1    delivered      2017-05-16 15:05:35   \n",
              "1  29150127e6685892b6eab3eec79f59c7    delivered      2018-01-12 20:48:24   \n",
              "2  b2059ed67ce144a36e2aa97d2c9e9ad2    delivered      2018-05-19 16:07:45   \n",
              "3  951670f92359f4fe4a63112aa7306eba    delivered      2018-03-13 16:06:38   \n",
              "4  6b7d50bd145f6fc7f33cebabd7e49d0f    delivered      2018-07-29 09:51:30   \n",
              "\n",
              "    order_approved_at order_delivered_carrier_date  ... seller_state  \\\n",
              "0 2017-05-16 15:22:12          2017-05-23 10:47:57  ...           SP   \n",
              "1 2018-01-12 20:58:32          2018-01-15 17:14:59  ...           SC   \n",
              "2 2018-05-20 16:19:10          2018-06-11 14:31:00  ...           SP   \n",
              "3 2018-03-13 17:29:19          2018-03-27 23:22:42  ...           SP   \n",
              "4 2018-07-29 10:10:09          2018-07-30 15:16:00  ...           SP   \n",
              "\n",
              "   product_category_name  product_name_lenght product_description_lenght  \\\n",
              "0      moveis_escritorio                 41.0                     1141.0   \n",
              "1  utilidades_domesticas                 43.0                     1002.0   \n",
              "2      moveis_escritorio                 55.0                      955.0   \n",
              "3      moveis_escritorio                 48.0                     1066.0   \n",
              "4          casa_conforto                 61.0                      407.0   \n",
              "\n",
              "  product_photos_qty product_weight_g  product_length_cm  product_height_cm  \\\n",
              "0                1.0           8683.0               54.0               64.0   \n",
              "1                3.0          10150.0               89.0               15.0   \n",
              "2                1.0           8267.0               52.0               52.0   \n",
              "3                1.0          12160.0               56.0               51.0   \n",
              "4                1.0           5200.0               45.0               15.0   \n",
              "\n",
              "   product_width_cm product_category_name_english  \n",
              "0              31.0              office_furniture  \n",
              "1              40.0                    housewares  \n",
              "2              17.0              office_furniture  \n",
              "3              28.0              office_furniture  \n",
              "4              35.0                  home_confort  \n",
              "\n",
              "[5 rows x 34 columns]"
            ]
          },
          "execution_count": 43,
          "metadata": {},
          "output_type": "execute_result"
        }
      ],
      "source": [
        "all_df = pd.merge(customers_df, orders_df, on='customer_id', how='left')\n",
        "all_df = pd.merge(all_df, order_items_df, on='order_id', how='left')\n",
        "all_df = pd.merge(all_df, order_payments_df, on='order_id', how='left')\n",
        "all_df = pd.merge(all_df, sellers_df, on='seller_id', how='left')\n",
        "all_df = pd.merge(all_df, products_df, on='product_id', how='left')\n",
        "all_df = pd.merge(all_df, products_translation_df, on='product_category_name', how='left')\n",
        "\n",
        "all_df.head(5)\n"
      ]
    },
    {
      "cell_type": "code",
      "execution_count": 44,
      "metadata": {},
      "outputs": [],
      "source": [
        "all_df.to_csv(\"all_data.csv\", index=False)"
      ]
    },
    {
      "cell_type": "markdown",
      "metadata": {
        "id": "gDGfJRVn0rxA"
      },
      "source": [
        "## Order and Region Revenue"
      ]
    },
    {
      "cell_type": "markdown",
      "metadata": {
        "id": "bx97h1BP0rxB"
      },
      "source": [
        "grouping and sorting customer state and payment"
      ]
    },
    {
      "cell_type": "code",
      "execution_count": 45,
      "metadata": {
        "id": "xBr2fmP10rxB"
      },
      "outputs": [],
      "source": [
        "state_revenue = all_df.groupby(by='customer_state')['payment_value'].sum().reset_index()\n",
        "state_revenue = state_revenue.sort_values(by='payment_value', ascending=False)"
      ]
    },
    {
      "cell_type": "markdown",
      "metadata": {
        "id": "iG_sCHbQ0rxB"
      },
      "source": [
        "## Region rank based on revenue or payment value"
      ]
    },
    {
      "cell_type": "code",
      "execution_count": 46,
      "metadata": {
        "id": "eJEMtfwq0rxC",
        "outputId": "3fb19ed8-ca03-4c2a-d16e-0547f338632c"
      },
      "outputs": [
        {
          "data": {
            "text/html": [
              "<div>\n",
              "<style scoped>\n",
              "    .dataframe tbody tr th:only-of-type {\n",
              "        vertical-align: middle;\n",
              "    }\n",
              "\n",
              "    .dataframe tbody tr th {\n",
              "        vertical-align: top;\n",
              "    }\n",
              "\n",
              "    .dataframe thead th {\n",
              "        text-align: right;\n",
              "    }\n",
              "</style>\n",
              "<table border=\"1\" class=\"dataframe\">\n",
              "  <thead>\n",
              "    <tr style=\"text-align: right;\">\n",
              "      <th></th>\n",
              "      <th>customer_state</th>\n",
              "      <th>payment_value</th>\n",
              "    </tr>\n",
              "  </thead>\n",
              "  <tbody>\n",
              "    <tr>\n",
              "      <th>25</th>\n",
              "      <td>SP</td>\n",
              "      <td>7673188.55</td>\n",
              "    </tr>\n",
              "    <tr>\n",
              "      <th>18</th>\n",
              "      <td>RJ</td>\n",
              "      <td>2783724.26</td>\n",
              "    </tr>\n",
              "    <tr>\n",
              "      <th>10</th>\n",
              "      <td>MG</td>\n",
              "      <td>2341861.47</td>\n",
              "    </tr>\n",
              "    <tr>\n",
              "      <th>22</th>\n",
              "      <td>RS</td>\n",
              "      <td>1152019.17</td>\n",
              "    </tr>\n",
              "    <tr>\n",
              "      <th>17</th>\n",
              "      <td>PR</td>\n",
              "      <td>1074614.19</td>\n",
              "    </tr>\n",
              "    <tr>\n",
              "      <th>4</th>\n",
              "      <td>BA</td>\n",
              "      <td>802416.72</td>\n",
              "    </tr>\n",
              "    <tr>\n",
              "      <th>23</th>\n",
              "      <td>SC</td>\n",
              "      <td>799135.92</td>\n",
              "    </tr>\n",
              "    <tr>\n",
              "      <th>8</th>\n",
              "      <td>GO</td>\n",
              "      <td>516182.51</td>\n",
              "    </tr>\n",
              "    <tr>\n",
              "      <th>6</th>\n",
              "      <td>DF</td>\n",
              "      <td>434512.55</td>\n",
              "    </tr>\n",
              "    <tr>\n",
              "      <th>7</th>\n",
              "      <td>ES</td>\n",
              "      <td>406946.26</td>\n",
              "    </tr>\n",
              "    <tr>\n",
              "      <th>15</th>\n",
              "      <td>PE</td>\n",
              "      <td>378887.48</td>\n",
              "    </tr>\n",
              "    <tr>\n",
              "      <th>5</th>\n",
              "      <td>CE</td>\n",
              "      <td>347678.36</td>\n",
              "    </tr>\n",
              "    <tr>\n",
              "      <th>13</th>\n",
              "      <td>PA</td>\n",
              "      <td>262433.11</td>\n",
              "    </tr>\n",
              "    <tr>\n",
              "      <th>12</th>\n",
              "      <td>MT</td>\n",
              "      <td>257447.65</td>\n",
              "    </tr>\n",
              "    <tr>\n",
              "      <th>9</th>\n",
              "      <td>MA</td>\n",
              "      <td>199913.56</td>\n",
              "    </tr>\n",
              "    <tr>\n",
              "      <th>14</th>\n",
              "      <td>PB</td>\n",
              "      <td>181546.00</td>\n",
              "    </tr>\n",
              "    <tr>\n",
              "      <th>11</th>\n",
              "      <td>MS</td>\n",
              "      <td>165861.46</td>\n",
              "    </tr>\n",
              "    <tr>\n",
              "      <th>16</th>\n",
              "      <td>PI</td>\n",
              "      <td>137077.67</td>\n",
              "    </tr>\n",
              "    <tr>\n",
              "      <th>19</th>\n",
              "      <td>RN</td>\n",
              "      <td>117074.43</td>\n",
              "    </tr>\n",
              "    <tr>\n",
              "      <th>1</th>\n",
              "      <td>AL</td>\n",
              "      <td>111993.78</td>\n",
              "    </tr>\n",
              "    <tr>\n",
              "      <th>24</th>\n",
              "      <td>SE</td>\n",
              "      <td>90651.44</td>\n",
              "    </tr>\n",
              "    <tr>\n",
              "      <th>26</th>\n",
              "      <td>TO</td>\n",
              "      <td>72412.08</td>\n",
              "    </tr>\n",
              "    <tr>\n",
              "      <th>20</th>\n",
              "      <td>RO</td>\n",
              "      <td>69184.48</td>\n",
              "    </tr>\n",
              "    <tr>\n",
              "      <th>2</th>\n",
              "      <td>AM</td>\n",
              "      <td>34873.79</td>\n",
              "    </tr>\n",
              "    <tr>\n",
              "      <th>0</th>\n",
              "      <td>AC</td>\n",
              "      <td>24984.86</td>\n",
              "    </tr>\n",
              "    <tr>\n",
              "      <th>3</th>\n",
              "      <td>AP</td>\n",
              "      <td>21642.70</td>\n",
              "    </tr>\n",
              "    <tr>\n",
              "      <th>21</th>\n",
              "      <td>RR</td>\n",
              "      <td>12462.21</td>\n",
              "    </tr>\n",
              "  </tbody>\n",
              "</table>\n",
              "</div>"
            ],
            "text/plain": [
              "   customer_state  payment_value\n",
              "25             SP     7673188.55\n",
              "18             RJ     2783724.26\n",
              "10             MG     2341861.47\n",
              "22             RS     1152019.17\n",
              "17             PR     1074614.19\n",
              "4              BA      802416.72\n",
              "23             SC      799135.92\n",
              "8              GO      516182.51\n",
              "6              DF      434512.55\n",
              "7              ES      406946.26\n",
              "15             PE      378887.48\n",
              "5              CE      347678.36\n",
              "13             PA      262433.11\n",
              "12             MT      257447.65\n",
              "9              MA      199913.56\n",
              "14             PB      181546.00\n",
              "11             MS      165861.46\n",
              "16             PI      137077.67\n",
              "19             RN      117074.43\n",
              "1              AL      111993.78\n",
              "24             SE       90651.44\n",
              "26             TO       72412.08\n",
              "20             RO       69184.48\n",
              "2              AM       34873.79\n",
              "0              AC       24984.86\n",
              "3              AP       21642.70\n",
              "21             RR       12462.21"
            ]
          },
          "execution_count": 46,
          "metadata": {},
          "output_type": "execute_result"
        }
      ],
      "source": [
        "state_revenue"
      ]
    },
    {
      "cell_type": "markdown",
      "metadata": {
        "id": "CYGPjL-u0rxC"
      },
      "source": [
        "## Revenue and Purchase Trend"
      ]
    },
    {
      "cell_type": "markdown",
      "metadata": {
        "id": "CD9vr3OG0rxC"
      },
      "source": [
        "Revenue in Daily interval"
      ]
    },
    {
      "cell_type": "code",
      "execution_count": 47,
      "metadata": {
        "id": "9Qtbb7ra0rxC",
        "outputId": "550a2c9b-331a-4a39-f94e-2216bf5cdaa5"
      },
      "outputs": [
        {
          "data": {
            "text/html": [
              "<div>\n",
              "<style scoped>\n",
              "    .dataframe tbody tr th:only-of-type {\n",
              "        vertical-align: middle;\n",
              "    }\n",
              "\n",
              "    .dataframe tbody tr th {\n",
              "        vertical-align: top;\n",
              "    }\n",
              "\n",
              "    .dataframe thead th {\n",
              "        text-align: right;\n",
              "    }\n",
              "</style>\n",
              "<table border=\"1\" class=\"dataframe\">\n",
              "  <thead>\n",
              "    <tr style=\"text-align: right;\">\n",
              "      <th></th>\n",
              "      <th>order_date</th>\n",
              "      <th>payment_value</th>\n",
              "    </tr>\n",
              "  </thead>\n",
              "  <tbody>\n",
              "    <tr>\n",
              "      <th>0</th>\n",
              "      <td>2016-09-04</td>\n",
              "      <td>272.46</td>\n",
              "    </tr>\n",
              "    <tr>\n",
              "      <th>1</th>\n",
              "      <td>2016-09-05</td>\n",
              "      <td>75.06</td>\n",
              "    </tr>\n",
              "    <tr>\n",
              "      <th>2</th>\n",
              "      <td>2016-09-13</td>\n",
              "      <td>40.95</td>\n",
              "    </tr>\n",
              "    <tr>\n",
              "      <th>3</th>\n",
              "      <td>2016-09-15</td>\n",
              "      <td>0.00</td>\n",
              "    </tr>\n",
              "    <tr>\n",
              "      <th>4</th>\n",
              "      <td>2016-10-02</td>\n",
              "      <td>109.34</td>\n",
              "    </tr>\n",
              "    <tr>\n",
              "      <th>...</th>\n",
              "      <td>...</td>\n",
              "      <td>...</td>\n",
              "    </tr>\n",
              "    <tr>\n",
              "      <th>629</th>\n",
              "      <td>2018-09-29</td>\n",
              "      <td>137.03</td>\n",
              "    </tr>\n",
              "    <tr>\n",
              "      <th>630</th>\n",
              "      <td>2018-10-01</td>\n",
              "      <td>80.38</td>\n",
              "    </tr>\n",
              "    <tr>\n",
              "      <th>631</th>\n",
              "      <td>2018-10-03</td>\n",
              "      <td>197.55</td>\n",
              "    </tr>\n",
              "    <tr>\n",
              "      <th>632</th>\n",
              "      <td>2018-10-16</td>\n",
              "      <td>222.03</td>\n",
              "    </tr>\n",
              "    <tr>\n",
              "      <th>633</th>\n",
              "      <td>2018-10-17</td>\n",
              "      <td>89.71</td>\n",
              "    </tr>\n",
              "  </tbody>\n",
              "</table>\n",
              "<p>634 rows × 2 columns</p>\n",
              "</div>"
            ],
            "text/plain": [
              "     order_date  payment_value\n",
              "0    2016-09-04         272.46\n",
              "1    2016-09-05          75.06\n",
              "2    2016-09-13          40.95\n",
              "3    2016-09-15           0.00\n",
              "4    2016-10-02         109.34\n",
              "..          ...            ...\n",
              "629  2018-09-29         137.03\n",
              "630  2018-10-01          80.38\n",
              "631  2018-10-03         197.55\n",
              "632  2018-10-16         222.03\n",
              "633  2018-10-17          89.71\n",
              "\n",
              "[634 rows x 2 columns]"
            ]
          },
          "execution_count": 47,
          "metadata": {},
          "output_type": "execute_result"
        }
      ],
      "source": [
        "all_df['order_date'] = all_df['order_purchase_timestamp'].dt.date\n",
        "\n",
        "revenue_trend =all_df.groupby(by=['order_date'])['payment_value'].sum().reset_index()\n",
        "revenue_trend = revenue_trend.sort_values(by='order_date', ascending=True)\n",
        "revenue_trend\n"
      ]
    },
    {
      "cell_type": "markdown",
      "metadata": {
        "id": "mCp5eRHi0rxC"
      },
      "source": [
        "Peak Day Revenue"
      ]
    },
    {
      "cell_type": "code",
      "execution_count": 48,
      "metadata": {
        "id": "brQ-Y3Zo0rxC",
        "outputId": "e63d69ea-e927-4470-e6ac-cb72203a9d7e"
      },
      "outputs": [
        {
          "data": {
            "text/plain": [
              "datetime.date(2017, 11, 24)"
            ]
          },
          "execution_count": 48,
          "metadata": {},
          "output_type": "execute_result"
        }
      ],
      "source": [
        "peak_revenue = revenue_trend['payment_value'].max()\n",
        "peak_date = revenue_trend.loc[revenue_trend['payment_value']== peak_revenue, 'order_date'].values[0]\n",
        "\n",
        "peak_date"
      ]
    },
    {
      "cell_type": "markdown",
      "metadata": {
        "id": "IAAo3xGF0rxC"
      },
      "source": [
        "Revenue trend in quartal"
      ]
    },
    {
      "cell_type": "code",
      "execution_count": 49,
      "metadata": {
        "id": "05UUbYZq0rxC",
        "outputId": "84382fd9-57f1-4725-a8d5-aefa31fdf080"
      },
      "outputs": [
        {
          "data": {
            "text/html": [
              "<div>\n",
              "<style scoped>\n",
              "    .dataframe tbody tr th:only-of-type {\n",
              "        vertical-align: middle;\n",
              "    }\n",
              "\n",
              "    .dataframe tbody tr th {\n",
              "        vertical-align: top;\n",
              "    }\n",
              "\n",
              "    .dataframe thead th {\n",
              "        text-align: right;\n",
              "    }\n",
              "</style>\n",
              "<table border=\"1\" class=\"dataframe\">\n",
              "  <thead>\n",
              "    <tr style=\"text-align: right;\">\n",
              "      <th></th>\n",
              "      <th>order_date</th>\n",
              "      <th>payment_value</th>\n",
              "    </tr>\n",
              "  </thead>\n",
              "  <tbody>\n",
              "    <tr>\n",
              "      <th>0</th>\n",
              "      <td>2016-09-30</td>\n",
              "      <td>388.47</td>\n",
              "    </tr>\n",
              "    <tr>\n",
              "      <th>1</th>\n",
              "      <td>2016-12-31</td>\n",
              "      <td>76139.79</td>\n",
              "    </tr>\n",
              "    <tr>\n",
              "      <th>2</th>\n",
              "      <td>2017-03-31</td>\n",
              "      <td>1083455.82</td>\n",
              "    </tr>\n",
              "    <tr>\n",
              "      <th>3</th>\n",
              "      <td>2017-06-30</td>\n",
              "      <td>1850800.02</td>\n",
              "    </tr>\n",
              "    <tr>\n",
              "      <th>4</th>\n",
              "      <td>2017-09-30</td>\n",
              "      <td>2643824.39</td>\n",
              "    </tr>\n",
              "    <tr>\n",
              "      <th>5</th>\n",
              "      <td>2017-12-31</td>\n",
              "      <td>3688532.05</td>\n",
              "    </tr>\n",
              "    <tr>\n",
              "      <th>6</th>\n",
              "      <td>2018-03-31</td>\n",
              "      <td>4206654.75</td>\n",
              "    </tr>\n",
              "    <tr>\n",
              "      <th>7</th>\n",
              "      <td>2018-06-30</td>\n",
              "      <td>4307642.75</td>\n",
              "    </tr>\n",
              "    <tr>\n",
              "      <th>8</th>\n",
              "      <td>2018-09-30</td>\n",
              "      <td>2612698.95</td>\n",
              "    </tr>\n",
              "    <tr>\n",
              "      <th>9</th>\n",
              "      <td>2018-12-31</td>\n",
              "      <td>589.67</td>\n",
              "    </tr>\n",
              "  </tbody>\n",
              "</table>\n",
              "</div>"
            ],
            "text/plain": [
              "  order_date  payment_value\n",
              "0 2016-09-30         388.47\n",
              "1 2016-12-31       76139.79\n",
              "2 2017-03-31     1083455.82\n",
              "3 2017-06-30     1850800.02\n",
              "4 2017-09-30     2643824.39\n",
              "5 2017-12-31     3688532.05\n",
              "6 2018-03-31     4206654.75\n",
              "7 2018-06-30     4307642.75\n",
              "8 2018-09-30     2612698.95\n",
              "9 2018-12-31         589.67"
            ]
          },
          "execution_count": 49,
          "metadata": {},
          "output_type": "execute_result"
        }
      ],
      "source": [
        "revenue_trend['order_date'] = pd.to_datetime(revenue_trend['order_date'])\n",
        "\n",
        "\n",
        "revenue_quartal = revenue_trend.resample('Q', on='order_date').sum().reset_index()\n",
        "revenue_quartal"
      ]
    },
    {
      "cell_type": "markdown",
      "metadata": {
        "id": "lAyX7Inh0rxC"
      },
      "source": [
        "Purchase trend in 24 Hours interval"
      ]
    },
    {
      "cell_type": "code",
      "execution_count": 50,
      "metadata": {
        "id": "yRtinl2e0rxC",
        "outputId": "be3db7c5-72cb-4c15-9a5c-5a197f1bfe85"
      },
      "outputs": [
        {
          "data": {
            "text/html": [
              "<div>\n",
              "<style scoped>\n",
              "    .dataframe tbody tr th:only-of-type {\n",
              "        vertical-align: middle;\n",
              "    }\n",
              "\n",
              "    .dataframe tbody tr th {\n",
              "        vertical-align: top;\n",
              "    }\n",
              "\n",
              "    .dataframe thead th {\n",
              "        text-align: right;\n",
              "    }\n",
              "</style>\n",
              "<table border=\"1\" class=\"dataframe\">\n",
              "  <thead>\n",
              "    <tr style=\"text-align: right;\">\n",
              "      <th></th>\n",
              "      <th>order_hour</th>\n",
              "      <th>order_count_in_hour</th>\n",
              "    </tr>\n",
              "  </thead>\n",
              "  <tbody>\n",
              "    <tr>\n",
              "      <th>0</th>\n",
              "      <td>0</td>\n",
              "      <td>2910</td>\n",
              "    </tr>\n",
              "    <tr>\n",
              "      <th>1</th>\n",
              "      <td>1</td>\n",
              "      <td>1369</td>\n",
              "    </tr>\n",
              "    <tr>\n",
              "      <th>2</th>\n",
              "      <td>2</td>\n",
              "      <td>616</td>\n",
              "    </tr>\n",
              "    <tr>\n",
              "      <th>3</th>\n",
              "      <td>3</td>\n",
              "      <td>326</td>\n",
              "    </tr>\n",
              "    <tr>\n",
              "      <th>4</th>\n",
              "      <td>4</td>\n",
              "      <td>254</td>\n",
              "    </tr>\n",
              "    <tr>\n",
              "      <th>5</th>\n",
              "      <td>5</td>\n",
              "      <td>226</td>\n",
              "    </tr>\n",
              "    <tr>\n",
              "      <th>6</th>\n",
              "      <td>6</td>\n",
              "      <td>571</td>\n",
              "    </tr>\n",
              "    <tr>\n",
              "      <th>7</th>\n",
              "      <td>7</td>\n",
              "      <td>1428</td>\n",
              "    </tr>\n",
              "    <tr>\n",
              "      <th>8</th>\n",
              "      <td>8</td>\n",
              "      <td>3523</td>\n",
              "    </tr>\n",
              "    <tr>\n",
              "      <th>9</th>\n",
              "      <td>9</td>\n",
              "      <td>5694</td>\n",
              "    </tr>\n",
              "    <tr>\n",
              "      <th>10</th>\n",
              "      <td>10</td>\n",
              "      <td>7392</td>\n",
              "    </tr>\n",
              "    <tr>\n",
              "      <th>11</th>\n",
              "      <td>11</td>\n",
              "      <td>7821</td>\n",
              "    </tr>\n",
              "    <tr>\n",
              "      <th>12</th>\n",
              "      <td>12</td>\n",
              "      <td>7236</td>\n",
              "    </tr>\n",
              "    <tr>\n",
              "      <th>13</th>\n",
              "      <td>13</td>\n",
              "      <td>7729</td>\n",
              "    </tr>\n",
              "    <tr>\n",
              "      <th>14</th>\n",
              "      <td>14</td>\n",
              "      <td>7944</td>\n",
              "    </tr>\n",
              "    <tr>\n",
              "      <th>15</th>\n",
              "      <td>15</td>\n",
              "      <td>7669</td>\n",
              "    </tr>\n",
              "    <tr>\n",
              "      <th>16</th>\n",
              "      <td>16</td>\n",
              "      <td>8039</td>\n",
              "    </tr>\n",
              "    <tr>\n",
              "      <th>17</th>\n",
              "      <td>17</td>\n",
              "      <td>7302</td>\n",
              "    </tr>\n",
              "    <tr>\n",
              "      <th>18</th>\n",
              "      <td>18</td>\n",
              "      <td>6898</td>\n",
              "    </tr>\n",
              "    <tr>\n",
              "      <th>19</th>\n",
              "      <td>19</td>\n",
              "      <td>7043</td>\n",
              "    </tr>\n",
              "    <tr>\n",
              "      <th>20</th>\n",
              "      <td>20</td>\n",
              "      <td>7298</td>\n",
              "    </tr>\n",
              "    <tr>\n",
              "      <th>21</th>\n",
              "      <td>21</td>\n",
              "      <td>7290</td>\n",
              "    </tr>\n",
              "    <tr>\n",
              "      <th>22</th>\n",
              "      <td>22</td>\n",
              "      <td>6947</td>\n",
              "    </tr>\n",
              "    <tr>\n",
              "      <th>23</th>\n",
              "      <td>23</td>\n",
              "      <td>4909</td>\n",
              "    </tr>\n",
              "  </tbody>\n",
              "</table>\n",
              "</div>"
            ],
            "text/plain": [
              "    order_hour  order_count_in_hour\n",
              "0            0                 2910\n",
              "1            1                 1369\n",
              "2            2                  616\n",
              "3            3                  326\n",
              "4            4                  254\n",
              "5            5                  226\n",
              "6            6                  571\n",
              "7            7                 1428\n",
              "8            8                 3523\n",
              "9            9                 5694\n",
              "10          10                 7392\n",
              "11          11                 7821\n",
              "12          12                 7236\n",
              "13          13                 7729\n",
              "14          14                 7944\n",
              "15          15                 7669\n",
              "16          16                 8039\n",
              "17          17                 7302\n",
              "18          18                 6898\n",
              "19          19                 7043\n",
              "20          20                 7298\n",
              "21          21                 7290\n",
              "22          22                 6947\n",
              "23          23                 4909"
            ]
          },
          "execution_count": 50,
          "metadata": {},
          "output_type": "execute_result"
        }
      ],
      "source": [
        "all_df['order_hour'] = all_df['order_purchase_timestamp'].dt.hour\n",
        "purchase_hour_trend = all_df.groupby(by='order_hour').size().reset_index(name='order_count_in_hour')\n",
        "purchase_hour_trend\n"
      ]
    },
    {
      "cell_type": "markdown",
      "metadata": {
        "id": "ryg632U90rxC"
      },
      "source": [
        "Peak puchase time"
      ]
    },
    {
      "cell_type": "code",
      "execution_count": 51,
      "metadata": {
        "id": "4Cy-Mh-M0rxD",
        "outputId": "c5a1ec7a-170e-4b2e-9c3a-6e67c7d773e1"
      },
      "outputs": [
        {
          "data": {
            "text/html": [
              "<div>\n",
              "<style scoped>\n",
              "    .dataframe tbody tr th:only-of-type {\n",
              "        vertical-align: middle;\n",
              "    }\n",
              "\n",
              "    .dataframe tbody tr th {\n",
              "        vertical-align: top;\n",
              "    }\n",
              "\n",
              "    .dataframe thead th {\n",
              "        text-align: right;\n",
              "    }\n",
              "</style>\n",
              "<table border=\"1\" class=\"dataframe\">\n",
              "  <thead>\n",
              "    <tr style=\"text-align: right;\">\n",
              "      <th></th>\n",
              "      <th>order_hour</th>\n",
              "      <th>order_count_in_hour</th>\n",
              "    </tr>\n",
              "  </thead>\n",
              "  <tbody>\n",
              "    <tr>\n",
              "      <th>16</th>\n",
              "      <td>16</td>\n",
              "      <td>8039</td>\n",
              "    </tr>\n",
              "  </tbody>\n",
              "</table>\n",
              "</div>"
            ],
            "text/plain": [
              "    order_hour  order_count_in_hour\n",
              "16          16                 8039"
            ]
          },
          "execution_count": 51,
          "metadata": {},
          "output_type": "execute_result"
        }
      ],
      "source": [
        "order_count_in_hour_max = purchase_hour_trend['order_count_in_hour'].max()\n",
        "peak_time = purchase_hour_trend.loc[purchase_hour_trend['order_count_in_hour'] == order_count_in_hour_max, ['order_hour', 'order_count_in_hour']]\n",
        "peak_time"
      ]
    },
    {
      "cell_type": "markdown",
      "metadata": {
        "id": "CW1rMpas0rxD"
      },
      "source": [
        "## Ordered Product"
      ]
    },
    {
      "cell_type": "code",
      "execution_count": 52,
      "metadata": {
        "id": "UX0vf4-f0rxD",
        "outputId": "5b8c247f-8aed-4c59-973f-881e781bbda8"
      },
      "outputs": [
        {
          "data": {
            "text/html": [
              "<div>\n",
              "<style scoped>\n",
              "    .dataframe tbody tr th:only-of-type {\n",
              "        vertical-align: middle;\n",
              "    }\n",
              "\n",
              "    .dataframe tbody tr th {\n",
              "        vertical-align: top;\n",
              "    }\n",
              "\n",
              "    .dataframe thead th {\n",
              "        text-align: right;\n",
              "    }\n",
              "</style>\n",
              "<table border=\"1\" class=\"dataframe\">\n",
              "  <thead>\n",
              "    <tr style=\"text-align: right;\">\n",
              "      <th></th>\n",
              "      <th>product_category_name</th>\n",
              "      <th>total_purchase</th>\n",
              "      <th>product_category_name_english</th>\n",
              "    </tr>\n",
              "  </thead>\n",
              "  <tbody>\n",
              "    <tr>\n",
              "      <th>0</th>\n",
              "      <td>cama_mesa_banho</td>\n",
              "      <td>11823</td>\n",
              "      <td>bed_bath_table</td>\n",
              "    </tr>\n",
              "    <tr>\n",
              "      <th>1</th>\n",
              "      <td>beleza_saude</td>\n",
              "      <td>9975</td>\n",
              "      <td>health_beauty</td>\n",
              "    </tr>\n",
              "    <tr>\n",
              "      <th>2</th>\n",
              "      <td>esporte_lazer</td>\n",
              "      <td>8945</td>\n",
              "      <td>sports_leisure</td>\n",
              "    </tr>\n",
              "    <tr>\n",
              "      <th>3</th>\n",
              "      <td>moveis_decoracao</td>\n",
              "      <td>8744</td>\n",
              "      <td>furniture_decor</td>\n",
              "    </tr>\n",
              "    <tr>\n",
              "      <th>4</th>\n",
              "      <td>informatica_acessorios</td>\n",
              "      <td>8082</td>\n",
              "      <td>computers_accessories</td>\n",
              "    </tr>\n",
              "    <tr>\n",
              "      <th>5</th>\n",
              "      <td>utilidades_domesticas</td>\n",
              "      <td>7355</td>\n",
              "      <td>housewares</td>\n",
              "    </tr>\n",
              "    <tr>\n",
              "      <th>6</th>\n",
              "      <td>relogios_presentes</td>\n",
              "      <td>6201</td>\n",
              "      <td>watches_gifts</td>\n",
              "    </tr>\n",
              "    <tr>\n",
              "      <th>7</th>\n",
              "      <td>telefonia</td>\n",
              "      <td>4721</td>\n",
              "      <td>telephony</td>\n",
              "    </tr>\n",
              "    <tr>\n",
              "      <th>8</th>\n",
              "      <td>ferramentas_jardim</td>\n",
              "      <td>4574</td>\n",
              "      <td>garden_tools</td>\n",
              "    </tr>\n",
              "    <tr>\n",
              "      <th>9</th>\n",
              "      <td>automotivo</td>\n",
              "      <td>4379</td>\n",
              "      <td>auto</td>\n",
              "    </tr>\n",
              "  </tbody>\n",
              "</table>\n",
              "</div>"
            ],
            "text/plain": [
              "    product_category_name  total_purchase product_category_name_english\n",
              "0         cama_mesa_banho           11823                bed_bath_table\n",
              "1            beleza_saude            9975                 health_beauty\n",
              "2           esporte_lazer            8945                sports_leisure\n",
              "3        moveis_decoracao            8744               furniture_decor\n",
              "4  informatica_acessorios            8082         computers_accessories\n",
              "5   utilidades_domesticas            7355                    housewares\n",
              "6      relogios_presentes            6201                 watches_gifts\n",
              "7               telefonia            4721                     telephony\n",
              "8      ferramentas_jardim            4574                  garden_tools\n",
              "9              automotivo            4379                          auto"
            ]
          },
          "execution_count": 52,
          "metadata": {},
          "output_type": "execute_result"
        }
      ],
      "source": [
        "most_purchased_product = all_df.groupby(by='product_category_name')['order_id'].count().reset_index().sort_values(by='order_id', ascending=False)\n",
        "most_purchased_product.columns = ['product_category_name', 'total_purchase']\n",
        "most_purchased_product = most_purchased_product.merge(products_translation_df[['product_category_name', 'product_category_name_english']],\n",
        "                                                      on='product_category_name',\n",
        "                                                      how='inner')\n",
        "most_purchased_product.head(10)\n"
      ]
    },
    {
      "cell_type": "markdown",
      "metadata": {
        "id": "fMpw4m2C0rxD"
      },
      "source": [
        "## Seller Rank"
      ]
    },
    {
      "cell_type": "code",
      "execution_count": 53,
      "metadata": {
        "id": "CmLgWKUl0rxE"
      },
      "outputs": [],
      "source": [
        "seller_order_delivered = all_df.loc[(all_df['order_status'] == 'delivered')]\n",
        "top_ten_sellers = seller_order_delivered.groupby(by=['seller_id', 'seller_city','seller_state'])['order_id'].count().reset_index().sort_values(by='order_id', ascending=False)"
      ]
    },
    {
      "cell_type": "code",
      "execution_count": 54,
      "metadata": {
        "id": "CBjBT1ny0rxE",
        "outputId": "66db255f-0d39-4cb7-d63b-7abee408b210"
      },
      "outputs": [
        {
          "data": {
            "text/html": [
              "<div>\n",
              "<style scoped>\n",
              "    .dataframe tbody tr th:only-of-type {\n",
              "        vertical-align: middle;\n",
              "    }\n",
              "\n",
              "    .dataframe tbody tr th {\n",
              "        vertical-align: top;\n",
              "    }\n",
              "\n",
              "    .dataframe thead th {\n",
              "        text-align: right;\n",
              "    }\n",
              "</style>\n",
              "<table border=\"1\" class=\"dataframe\">\n",
              "  <thead>\n",
              "    <tr style=\"text-align: right;\">\n",
              "      <th></th>\n",
              "      <th>seller_id</th>\n",
              "      <th>seller_city</th>\n",
              "      <th>seller_state</th>\n",
              "      <th>total_sales</th>\n",
              "    </tr>\n",
              "  </thead>\n",
              "  <tbody>\n",
              "    <tr>\n",
              "      <th>858</th>\n",
              "      <td>4a3ca9315b744ce9f8e9374361493884</td>\n",
              "      <td>ibitinga</td>\n",
              "      <td>SP</td>\n",
              "      <td>2094</td>\n",
              "    </tr>\n",
              "    <tr>\n",
              "      <th>1190</th>\n",
              "      <td>6560211a19b47992c3666cc44a7e94c0</td>\n",
              "      <td>sao paulo</td>\n",
              "      <td>SP</td>\n",
              "      <td>2085</td>\n",
              "    </tr>\n",
              "    <tr>\n",
              "      <th>358</th>\n",
              "      <td>1f50f920176fa81dab994f9023523100</td>\n",
              "      <td>sao jose do rio preto</td>\n",
              "      <td>SP</td>\n",
              "      <td>2002</td>\n",
              "    </tr>\n",
              "    <tr>\n",
              "      <th>2388</th>\n",
              "      <td>cc419e0650a3c5ba77189a1882b7556a</td>\n",
              "      <td>santo andre</td>\n",
              "      <td>SP</td>\n",
              "      <td>1790</td>\n",
              "    </tr>\n",
              "    <tr>\n",
              "      <th>2543</th>\n",
              "      <td>da8622b14eb17ae2831f4ac5b9dab84a</td>\n",
              "      <td>piracicaba</td>\n",
              "      <td>SP</td>\n",
              "      <td>1633</td>\n",
              "    </tr>\n",
              "    <tr>\n",
              "      <th>1758</th>\n",
              "      <td>955fee9216a65b617aa5c0531780ce60</td>\n",
              "      <td>sao paulo</td>\n",
              "      <td>SP</td>\n",
              "      <td>1501</td>\n",
              "    </tr>\n",
              "    <tr>\n",
              "      <th>188</th>\n",
              "      <td>1025f0e2d44d7041d6cf58b6550e0bfa</td>\n",
              "      <td>sao paulo</td>\n",
              "      <td>SP</td>\n",
              "      <td>1454</td>\n",
              "    </tr>\n",
              "    <tr>\n",
              "      <th>1480</th>\n",
              "      <td>7c67e1448b00f6e969d365cea6b010ab</td>\n",
              "      <td>itaquaquecetuba</td>\n",
              "      <td>SP</td>\n",
              "      <td>1443</td>\n",
              "    </tr>\n",
              "    <tr>\n",
              "      <th>1450</th>\n",
              "      <td>7a67c85e85bb2ce8582c35f2203ad736</td>\n",
              "      <td>sao paulo</td>\n",
              "      <td>SP</td>\n",
              "      <td>1224</td>\n",
              "    </tr>\n",
              "    <tr>\n",
              "      <th>2725</th>\n",
              "      <td>ea8482cd71df3c1969d7b9473ff13abc</td>\n",
              "      <td>sao paulo</td>\n",
              "      <td>SP</td>\n",
              "      <td>1224</td>\n",
              "    </tr>\n",
              "  </tbody>\n",
              "</table>\n",
              "</div>"
            ],
            "text/plain": [
              "                             seller_id            seller_city seller_state  \\\n",
              "858   4a3ca9315b744ce9f8e9374361493884               ibitinga           SP   \n",
              "1190  6560211a19b47992c3666cc44a7e94c0              sao paulo           SP   \n",
              "358   1f50f920176fa81dab994f9023523100  sao jose do rio preto           SP   \n",
              "2388  cc419e0650a3c5ba77189a1882b7556a            santo andre           SP   \n",
              "2543  da8622b14eb17ae2831f4ac5b9dab84a             piracicaba           SP   \n",
              "1758  955fee9216a65b617aa5c0531780ce60              sao paulo           SP   \n",
              "188   1025f0e2d44d7041d6cf58b6550e0bfa              sao paulo           SP   \n",
              "1480  7c67e1448b00f6e969d365cea6b010ab        itaquaquecetuba           SP   \n",
              "1450  7a67c85e85bb2ce8582c35f2203ad736              sao paulo           SP   \n",
              "2725  ea8482cd71df3c1969d7b9473ff13abc              sao paulo           SP   \n",
              "\n",
              "      total_sales  \n",
              "858          2094  \n",
              "1190         2085  \n",
              "358          2002  \n",
              "2388         1790  \n",
              "2543         1633  \n",
              "1758         1501  \n",
              "188          1454  \n",
              "1480         1443  \n",
              "1450         1224  \n",
              "2725         1224  "
            ]
          },
          "execution_count": 54,
          "metadata": {},
          "output_type": "execute_result"
        }
      ],
      "source": [
        "top_ten_sellers.columns = ['seller_id','seller_city', 'seller_state', 'total_sales']\n",
        "top_ten_sellers.head(10)"
      ]
    },
    {
      "cell_type": "code",
      "execution_count": 55,
      "metadata": {
        "id": "BIHpYjKZ0rxE",
        "outputId": "d95bdb3a-470e-4181-f26a-5c06930a722b"
      },
      "outputs": [
        {
          "data": {
            "text/plain": [
              "0    sao paulo\n",
              "Name: seller_city, dtype: object"
            ]
          },
          "execution_count": 55,
          "metadata": {},
          "output_type": "execute_result"
        }
      ],
      "source": [
        "top_ten_sellers.seller_city.mode()"
      ]
    },
    {
      "cell_type": "code",
      "execution_count": 56,
      "metadata": {
        "id": "tMohGMHv0rxE",
        "outputId": "bab4d379-a55f-4477-a1df-391c3a7132fe"
      },
      "outputs": [
        {
          "data": {
            "text/html": [
              "<div>\n",
              "<style scoped>\n",
              "    .dataframe tbody tr th:only-of-type {\n",
              "        vertical-align: middle;\n",
              "    }\n",
              "\n",
              "    .dataframe tbody tr th {\n",
              "        vertical-align: top;\n",
              "    }\n",
              "\n",
              "    .dataframe thead th {\n",
              "        text-align: right;\n",
              "    }\n",
              "</style>\n",
              "<table border=\"1\" class=\"dataframe\">\n",
              "  <thead>\n",
              "    <tr style=\"text-align: right;\">\n",
              "      <th></th>\n",
              "      <th>seller_id</th>\n",
              "      <th>total_sales</th>\n",
              "      <th>order_id</th>\n",
              "      <th>product_id</th>\n",
              "    </tr>\n",
              "  </thead>\n",
              "  <tbody>\n",
              "    <tr>\n",
              "      <th>0</th>\n",
              "      <td>4a3ca9315b744ce9f8e9374361493884</td>\n",
              "      <td>2094</td>\n",
              "      <td>0006ec9db01a64e59a68b2c340bf65a7</td>\n",
              "      <td>99a4788cb24856965c36a24e339b6058</td>\n",
              "    </tr>\n",
              "    <tr>\n",
              "      <th>1</th>\n",
              "      <td>4a3ca9315b744ce9f8e9374361493884</td>\n",
              "      <td>2094</td>\n",
              "      <td>001c85b5f68d2be0cb0797afc9e8ce9a</td>\n",
              "      <td>84f456958365164420cfc80fbe4c7fab</td>\n",
              "    </tr>\n",
              "    <tr>\n",
              "      <th>2</th>\n",
              "      <td>4a3ca9315b744ce9f8e9374361493884</td>\n",
              "      <td>2094</td>\n",
              "      <td>001dbc16dc51075e987543d23a0507c7</td>\n",
              "      <td>777d2e438a1b645f3aec9bd57e92672c</td>\n",
              "    </tr>\n",
              "    <tr>\n",
              "      <th>3</th>\n",
              "      <td>4a3ca9315b744ce9f8e9374361493884</td>\n",
              "      <td>2094</td>\n",
              "      <td>0035246a40f520710769010f752e7507</td>\n",
              "      <td>8a6187b2665118d5095f99a25fd7ba7a</td>\n",
              "    </tr>\n",
              "    <tr>\n",
              "      <th>4</th>\n",
              "      <td>4a3ca9315b744ce9f8e9374361493884</td>\n",
              "      <td>2094</td>\n",
              "      <td>005059edee63c8c708ba61910793b31b</td>\n",
              "      <td>84f456958365164420cfc80fbe4c7fab</td>\n",
              "    </tr>\n",
              "    <tr>\n",
              "      <th>...</th>\n",
              "      <td>...</td>\n",
              "      <td>...</td>\n",
              "      <td>...</td>\n",
              "      <td>...</td>\n",
              "    </tr>\n",
              "    <tr>\n",
              "      <th>112439</th>\n",
              "      <td>ac9b01377919cdbd2a1bbb8d5837c70b</td>\n",
              "      <td>1</td>\n",
              "      <td>371d3a892917017b32ada644ba1f301d</td>\n",
              "      <td>eaa53c85856d19bc9f611f5628b4ce7b</td>\n",
              "    </tr>\n",
              "    <tr>\n",
              "      <th>112440</th>\n",
              "      <td>24c1de8d9551c0b4fbc53317d53efda8</td>\n",
              "      <td>1</td>\n",
              "      <td>a65d4ac927fef29da1b58e60ebdbb1d7</td>\n",
              "      <td>d34984353fa530831479ab9686c090e7</td>\n",
              "    </tr>\n",
              "    <tr>\n",
              "      <th>112441</th>\n",
              "      <td>3d2400ac620cffa23ac81bd192f7f555</td>\n",
              "      <td>1</td>\n",
              "      <td>8258f7e8bc8122521bed9d5c4c91a1c6</td>\n",
              "      <td>177b172621777704a3e39ac9d3568946</td>\n",
              "    </tr>\n",
              "    <tr>\n",
              "      <th>112442</th>\n",
              "      <td>3606774ec64634822d78dc2db6d37045</td>\n",
              "      <td>1</td>\n",
              "      <td>a8c3f65a43b2e956cbfca10db4300853</td>\n",
              "      <td>e08d86e1c599e2373d95380ac9a3ccc8</td>\n",
              "    </tr>\n",
              "    <tr>\n",
              "      <th>112443</th>\n",
              "      <td>3606774ec64634822d78dc2db6d37045</td>\n",
              "      <td>1</td>\n",
              "      <td>d006112ce36cbbb57fec00ebce1de147</td>\n",
              "      <td>b23fd3f070d09d342bffeeea53c27aa3</td>\n",
              "    </tr>\n",
              "  </tbody>\n",
              "</table>\n",
              "<p>112444 rows × 4 columns</p>\n",
              "</div>"
            ],
            "text/plain": [
              "                               seller_id  total_sales  \\\n",
              "0       4a3ca9315b744ce9f8e9374361493884         2094   \n",
              "1       4a3ca9315b744ce9f8e9374361493884         2094   \n",
              "2       4a3ca9315b744ce9f8e9374361493884         2094   \n",
              "3       4a3ca9315b744ce9f8e9374361493884         2094   \n",
              "4       4a3ca9315b744ce9f8e9374361493884         2094   \n",
              "...                                  ...          ...   \n",
              "112439  ac9b01377919cdbd2a1bbb8d5837c70b            1   \n",
              "112440  24c1de8d9551c0b4fbc53317d53efda8            1   \n",
              "112441  3d2400ac620cffa23ac81bd192f7f555            1   \n",
              "112442  3606774ec64634822d78dc2db6d37045            1   \n",
              "112443  3606774ec64634822d78dc2db6d37045            1   \n",
              "\n",
              "                                order_id                        product_id  \n",
              "0       0006ec9db01a64e59a68b2c340bf65a7  99a4788cb24856965c36a24e339b6058  \n",
              "1       001c85b5f68d2be0cb0797afc9e8ce9a  84f456958365164420cfc80fbe4c7fab  \n",
              "2       001dbc16dc51075e987543d23a0507c7  777d2e438a1b645f3aec9bd57e92672c  \n",
              "3       0035246a40f520710769010f752e7507  8a6187b2665118d5095f99a25fd7ba7a  \n",
              "4       005059edee63c8c708ba61910793b31b  84f456958365164420cfc80fbe4c7fab  \n",
              "...                                  ...                               ...  \n",
              "112439  371d3a892917017b32ada644ba1f301d  eaa53c85856d19bc9f611f5628b4ce7b  \n",
              "112440  a65d4ac927fef29da1b58e60ebdbb1d7  d34984353fa530831479ab9686c090e7  \n",
              "112441  8258f7e8bc8122521bed9d5c4c91a1c6  177b172621777704a3e39ac9d3568946  \n",
              "112442  a8c3f65a43b2e956cbfca10db4300853  e08d86e1c599e2373d95380ac9a3ccc8  \n",
              "112443  d006112ce36cbbb57fec00ebce1de147  b23fd3f070d09d342bffeeea53c27aa3  \n",
              "\n",
              "[112444 rows x 4 columns]"
            ]
          },
          "execution_count": 56,
          "metadata": {},
          "output_type": "execute_result"
        }
      ],
      "source": [
        "top_ten_seller_product = top_ten_sellers.merge(order_items_df[['seller_id','order_id','product_id']], on='seller_id',how='inner')\n",
        "top_ten_seller_product = top_ten_seller_product.drop(columns=['seller_city', 'seller_state'])\n",
        "top_ten_seller_product"
      ]
    },
    {
      "cell_type": "code",
      "execution_count": 57,
      "metadata": {
        "id": "PN9gI_Pj0rxE",
        "outputId": "f9b6f566-b14f-46cd-c74f-3900b8c65102"
      },
      "outputs": [
        {
          "data": {
            "text/html": [
              "<div>\n",
              "<style scoped>\n",
              "    .dataframe tbody tr th:only-of-type {\n",
              "        vertical-align: middle;\n",
              "    }\n",
              "\n",
              "    .dataframe tbody tr th {\n",
              "        vertical-align: top;\n",
              "    }\n",
              "\n",
              "    .dataframe thead th {\n",
              "        text-align: right;\n",
              "    }\n",
              "</style>\n",
              "<table border=\"1\" class=\"dataframe\">\n",
              "  <thead>\n",
              "    <tr style=\"text-align: right;\">\n",
              "      <th></th>\n",
              "      <th>seller_id</th>\n",
              "      <th>total_sales</th>\n",
              "      <th>product_id</th>\n",
              "      <th>product_order_count</th>\n",
              "    </tr>\n",
              "  </thead>\n",
              "  <tbody>\n",
              "    <tr>\n",
              "      <th>9856</th>\n",
              "      <td>4a3ca9315b744ce9f8e9374361493884</td>\n",
              "      <td>2094</td>\n",
              "      <td>99a4788cb24856965c36a24e339b6058</td>\n",
              "      <td>482</td>\n",
              "    </tr>\n",
              "    <tr>\n",
              "      <th>9708</th>\n",
              "      <td>4a3ca9315b744ce9f8e9374361493884</td>\n",
              "      <td>2094</td>\n",
              "      <td>35afc973633aaeb6b877ff57b2793310</td>\n",
              "      <td>164</td>\n",
              "    </tr>\n",
              "    <tr>\n",
              "      <th>9830</th>\n",
              "      <td>4a3ca9315b744ce9f8e9374361493884</td>\n",
              "      <td>2094</td>\n",
              "      <td>84f456958365164420cfc80fbe4c7fab</td>\n",
              "      <td>109</td>\n",
              "    </tr>\n",
              "    <tr>\n",
              "      <th>9814</th>\n",
              "      <td>4a3ca9315b744ce9f8e9374361493884</td>\n",
              "      <td>2094</td>\n",
              "      <td>777d2e438a1b645f3aec9bd57e92672c</td>\n",
              "      <td>94</td>\n",
              "    </tr>\n",
              "    <tr>\n",
              "      <th>9787</th>\n",
              "      <td>4a3ca9315b744ce9f8e9374361493884</td>\n",
              "      <td>2094</td>\n",
              "      <td>64fb265487de2238627ce43fe8a67efc</td>\n",
              "      <td>72</td>\n",
              "    </tr>\n",
              "    <tr>\n",
              "      <th>9806</th>\n",
              "      <td>4a3ca9315b744ce9f8e9374361493884</td>\n",
              "      <td>2094</td>\n",
              "      <td>7340a3839a1de1e99d149b8cf052a2ec</td>\n",
              "      <td>44</td>\n",
              "    </tr>\n",
              "    <tr>\n",
              "      <th>9772</th>\n",
              "      <td>4a3ca9315b744ce9f8e9374361493884</td>\n",
              "      <td>2094</td>\n",
              "      <td>5bfc7506459ae2a7b4b573fe557a58e1</td>\n",
              "      <td>31</td>\n",
              "    </tr>\n",
              "    <tr>\n",
              "      <th>9994</th>\n",
              "      <td>4a3ca9315b744ce9f8e9374361493884</td>\n",
              "      <td>2094</td>\n",
              "      <td>f2e53dd1670f3c376518263b3f71424d</td>\n",
              "      <td>31</td>\n",
              "    </tr>\n",
              "    <tr>\n",
              "      <th>9735</th>\n",
              "      <td>4a3ca9315b744ce9f8e9374361493884</td>\n",
              "      <td>2094</td>\n",
              "      <td>404a57563d487aecbc2b1a01d9b89aab</td>\n",
              "      <td>27</td>\n",
              "    </tr>\n",
              "    <tr>\n",
              "      <th>9977</th>\n",
              "      <td>4a3ca9315b744ce9f8e9374361493884</td>\n",
              "      <td>2094</td>\n",
              "      <td>ec5b3c8bb77ad22278f6e9d719a83de3</td>\n",
              "      <td>26</td>\n",
              "    </tr>\n",
              "  </tbody>\n",
              "</table>\n",
              "</div>"
            ],
            "text/plain": [
              "                             seller_id  total_sales  \\\n",
              "9856  4a3ca9315b744ce9f8e9374361493884         2094   \n",
              "9708  4a3ca9315b744ce9f8e9374361493884         2094   \n",
              "9830  4a3ca9315b744ce9f8e9374361493884         2094   \n",
              "9814  4a3ca9315b744ce9f8e9374361493884         2094   \n",
              "9787  4a3ca9315b744ce9f8e9374361493884         2094   \n",
              "9806  4a3ca9315b744ce9f8e9374361493884         2094   \n",
              "9772  4a3ca9315b744ce9f8e9374361493884         2094   \n",
              "9994  4a3ca9315b744ce9f8e9374361493884         2094   \n",
              "9735  4a3ca9315b744ce9f8e9374361493884         2094   \n",
              "9977  4a3ca9315b744ce9f8e9374361493884         2094   \n",
              "\n",
              "                            product_id  product_order_count  \n",
              "9856  99a4788cb24856965c36a24e339b6058                  482  \n",
              "9708  35afc973633aaeb6b877ff57b2793310                  164  \n",
              "9830  84f456958365164420cfc80fbe4c7fab                  109  \n",
              "9814  777d2e438a1b645f3aec9bd57e92672c                   94  \n",
              "9787  64fb265487de2238627ce43fe8a67efc                   72  \n",
              "9806  7340a3839a1de1e99d149b8cf052a2ec                   44  \n",
              "9772  5bfc7506459ae2a7b4b573fe557a58e1                   31  \n",
              "9994  f2e53dd1670f3c376518263b3f71424d                   31  \n",
              "9735  404a57563d487aecbc2b1a01d9b89aab                   27  \n",
              "9977  ec5b3c8bb77ad22278f6e9d719a83de3                   26  "
            ]
          },
          "execution_count": 57,
          "metadata": {},
          "output_type": "execute_result"
        }
      ],
      "source": [
        "top_ten_seller_product_tier = top_ten_seller_product.groupby(by=['seller_id','total_sales','product_id'])\\\n",
        ".agg(\n",
        "    product_order_count =('order_id', 'count')\n",
        ").reset_index()\n",
        "top_ten_seller_product_tier = top_ten_seller_product_tier.sort_values(by=['total_sales', 'product_order_count'], ascending=[False, False])\n",
        "top_ten_seller_product_tier.head(10)\n"
      ]
    },
    {
      "cell_type": "code",
      "execution_count": 58,
      "metadata": {},
      "outputs": [
        {
          "data": {
            "text/plain": [
              "'99a4788cb24856965c36a24e339b6058'"
            ]
          },
          "execution_count": 58,
          "metadata": {},
          "output_type": "execute_result"
        }
      ],
      "source": [
        "top_one_product_id = top_ten_seller_product_tier['product_id'].iloc[0]\n",
        "top_one_product_id"
      ]
    },
    {
      "cell_type": "code",
      "execution_count": 59,
      "metadata": {
        "id": "gxR64Gfv0rxE",
        "outputId": "46dad464-4108-4b1c-b255-c10dd266d5c2"
      },
      "outputs": [
        {
          "data": {
            "text/plain": [
              "9661    cama_mesa_banho\n",
              "Name: product_category_name, dtype: object"
            ]
          },
          "execution_count": 59,
          "metadata": {},
          "output_type": "execute_result"
        }
      ],
      "source": [
        "top_one_product = products_df.loc[products_df['product_id']== top_one_product_id, 'product_category_name']\n",
        "top_one_product"
      ]
    },
    {
      "cell_type": "code",
      "execution_count": 60,
      "metadata": {},
      "outputs": [
        {
          "data": {
            "text/html": [
              "<div>\n",
              "<style scoped>\n",
              "    .dataframe tbody tr th:only-of-type {\n",
              "        vertical-align: middle;\n",
              "    }\n",
              "\n",
              "    .dataframe tbody tr th {\n",
              "        vertical-align: top;\n",
              "    }\n",
              "\n",
              "    .dataframe thead th {\n",
              "        text-align: right;\n",
              "    }\n",
              "</style>\n",
              "<table border=\"1\" class=\"dataframe\">\n",
              "  <thead>\n",
              "    <tr style=\"text-align: right;\">\n",
              "      <th></th>\n",
              "      <th>product_category_name</th>\n",
              "      <th>product_category_name_english</th>\n",
              "    </tr>\n",
              "  </thead>\n",
              "  <tbody>\n",
              "    <tr>\n",
              "      <th>3</th>\n",
              "      <td>cama_mesa_banho</td>\n",
              "      <td>bed_bath_table</td>\n",
              "    </tr>\n",
              "  </tbody>\n",
              "</table>\n",
              "</div>"
            ],
            "text/plain": [
              "  product_category_name product_category_name_english\n",
              "3       cama_mesa_banho                bed_bath_table"
            ]
          },
          "execution_count": 60,
          "metadata": {},
          "output_type": "execute_result"
        }
      ],
      "source": [
        "products_translation_df.loc[(products_translation_df['product_category_name']==top_one_product.values[0])]"
      ]
    },
    {
      "cell_type": "code",
      "execution_count": 61,
      "metadata": {
        "id": "h2PkxHF70rxE",
        "outputId": "d8ef31bd-11bf-40ca-915b-a0d2437adfaa"
      },
      "outputs": [
        {
          "data": {
            "text/plain": [
              "858      ibitinga\n",
              "1190    sao paulo\n",
              "Name: seller_city, dtype: object"
            ]
          },
          "execution_count": 61,
          "metadata": {},
          "output_type": "execute_result"
        }
      ],
      "source": [
        "top_one_city = top_ten_sellers['seller_city'].head(2)\n",
        "top_one_city"
      ]
    },
    {
      "cell_type": "markdown",
      "metadata": {
        "id": "ViA0fbdi0rxE"
      },
      "source": [
        "# Visualization and Explainatory Analysis"
      ]
    },
    {
      "cell_type": "markdown",
      "metadata": {
        "id": "g_hrt5J70rxE"
      },
      "source": [
        "## Wich region gave the most revenue?"
      ]
    },
    {
      "cell_type": "code",
      "execution_count": 62,
      "metadata": {
        "id": "BuaVFMpb0rxE",
        "outputId": "daaf9ccf-e5c6-4ec2-e445-194082c0d73c"
      },
      "outputs": [
        {
          "data": {
            "image/png": "[encoded data removed]",
            "text/plain": [
              "<Figure size 864x432 with 1 Axes>"
            ]
          },
          "metadata": {
            "needs_background": "light"
          },
          "output_type": "display_data"
        }
      ],
      "source": [
        "plt.figure(figsize=(12, 6))\n",
        "plt.barh(state_revenue['customer_state'].head(10), state_revenue['payment_value'].head(10), color='skyblue')\n",
        "plt.text(state_revenue['payment_value'].values[0], state_revenue['customer_state'].values[0], f\"{state_revenue['payment_value'].values[0]}\")\n",
        "plt.xlabel('Total Revenue')\n",
        "plt.ylabel('Customer State')\n",
        "plt.title('Top 10 Customer State by Total Revenue')\n",
        "\n",
        "plt.gca().invert_yaxis()\n",
        "plt.show()\n"
      ]
    },
    {
      "cell_type": "markdown",
      "metadata": {
        "id": "veZpp3ib0rxE"
      },
      "source": [
        "Insight:\n",
        "- São Paulo(SP) becoming state with the highest revenue 7673188.55, which is no wonder because São Paulo is the most populated state in Brazil.\n",
        "- Rio de Janeiro(RJ) as the third most populated state in Brazil is in the second position with highest revenue\n",
        "- Minas Gerais(MG) the second most populated state in Brazil, ranks third in revenue instead\n"
      ]
    },
    {
      "cell_type": "markdown",
      "metadata": {
        "id": "LlD7qlG80rxF"
      },
      "source": [
        "## Are there specific times in all regions when customers make the most purchase ?"
      ]
    },
    {
      "cell_type": "markdown",
      "metadata": {
        "id": "dT4wWOFw0rxF"
      },
      "source": [
        "daily revenue trend"
      ]
    },
    {
      "cell_type": "code",
      "execution_count": 63,
      "metadata": {
        "id": "uwjgVr6a0rxF",
        "outputId": "7650cf4d-2309-46cc-e73f-3d013ff9b612"
      },
      "outputs": [
        {
          "data": {
            "image/png": "[encoded data removed]",
            "text/plain": [
              "<Figure size 864x432 with 1 Axes>"
            ]
          },
          "metadata": {
            "needs_background": "light"
          },
          "output_type": "display_data"
        }
      ],
      "source": [
        "plt.figure(figsize=(12,6))\n",
        "plt.plot(revenue_trend['order_date'], revenue_trend['payment_value'], label='Revenue', color = 'yellow')\n",
        "plt.title('Revenue Trend in Daily Interval')\n",
        "plt.xlabel('Date', size = 15)\n",
        "plt.ylabel('Revenue', size=15)\n",
        "plt.scatter(peak_date, peak_revenue, color='red', s=15)\n",
        "plt.text(peak_date, peak_revenue, f\"{peak_revenue} revenue on {peak_date}\")\n",
        "plt.legend()\n",
        "plt.show()"
      ]
    },
    {
      "cell_type": "markdown",
      "metadata": {
        "id": "F7WJVytL0rxF"
      },
      "source": [
        "Purchase trend in 24 Hour interval"
      ]
    },
    {
      "cell_type": "code",
      "execution_count": 64,
      "metadata": {
        "id": "tGxrGOY90rxF",
        "outputId": "6e0877d1-a8cc-4757-e046-5e607859516c"
      },
      "outputs": [
        {
          "data": {
            "image/png": "[encoded data removed]",
            "text/plain": [
              "<Figure size 864x432 with 1 Axes>"
            ]
          },
          "metadata": {
            "needs_background": "light"
          },
          "output_type": "display_data"
        }
      ],
      "source": [
        "plt.figure(figsize=(12, 6))\n",
        "plt.plot(purchase_hour_trend['order_hour'], purchase_hour_trend['order_count_in_hour'])\n",
        "plt.title('Hourly Purchase Trend')\n",
        "plt.xlabel('Hours',size=15)\n",
        "plt.scatter(peak_time['order_hour'], peak_time['order_count_in_hour'], s=15, label='Peak Purchase', color='red')\n",
        "plt.text(peak_time['order_hour'], peak_time['order_count_in_hour'], f\"{order_count_in_hour_max} orders at {peak_time['order_hour'].values[0]}:00\", fontsize=10, color='red', ha='center', va='bottom')\n",
        "plt.xticks(range(0,24))\n",
        "plt.ylabel('Purchase Count')\n",
        "plt.show()"
      ]
    },
    {
      "cell_type": "markdown",
      "metadata": {
        "id": "eMAWdwTJ0rxF"
      },
      "source": [
        "Insight:\n",
        "- Daily revenue trend shows us the peak time is happened at 2017-11-24 highest revenue touching 256809.37 in accumulation from all state at that day.\n",
        "- Peak time purchasing is at around 16:00 and it reach 8039 purchasement, the Up trend happened at around 6:00 - 7:00 mouring and continue until 11.00, side way movement occur or when it reach lunch time where most people scroll around with their handphone. Down trend start at around 21:00"
      ]
    },
    {
      "cell_type": "markdown",
      "metadata": {
        "id": "7FXD8bx-0rxF"
      },
      "source": [
        "## What are the most purchased products?"
      ]
    },
    {
      "cell_type": "code",
      "execution_count": 65,
      "metadata": {
        "id": "XhMIBsj80rxF",
        "outputId": "44180656-8d51-4c67-9ddc-0cb92ff1d762"
      },
      "outputs": [
        {
          "data": {
            "image/png": "[encoded data removed]",
            "text/plain": [
              "<Figure size 864x432 with 1 Axes>"
            ]
          },
          "metadata": {
            "needs_background": "light"
          },
          "output_type": "display_data"
        }
      ],
      "source": [
        "plt.figure(figsize=(12, 6))\n",
        "plt.barh(most_purchased_product['product_category_name_english'].head(10), most_purchased_product['total_purchase'].head(10), color='skyblue')\n",
        "plt.text(most_purchased_product['total_purchase'].values[0], most_purchased_product['product_category_name_english'].values[0], f\"{most_purchased_product['total_purchase'].values[0]}\")\n",
        "plt.ylabel('Product Category Name')\n",
        "plt.xlabel('Customer Total Purchase')\n",
        "plt.title('Top 10 Purchased Products')\n",
        "\n",
        "plt.gca().invert_yaxis()\n",
        "plt.show()\n"
      ]
    },
    {
      "cell_type": "markdown",
      "metadata": {
        "id": "P5C-SnqY0rxF"
      },
      "source": [
        "Insight:\n",
        "- Apperntly people love Cama mesa banho or bed bath and table with 11823 purchasement\n",
        "- These top ten products mostly are home equipment\n"
      ]
    },
    {
      "cell_type": "markdown",
      "metadata": {
        "id": "i8ex0DJG0rxF"
      },
      "source": [
        "## Which seller make the most selling?"
      ]
    },
    {
      "cell_type": "code",
      "execution_count": 67,
      "metadata": {
        "id": "QtL4Xwyb0rxG",
        "outputId": "8af63b49-d9c9-4ceb-fee3-7396b78bedb9"
      },
      "outputs": [
        {
          "data": {
            "image/png": "[encoded data removed]",
            "text/plain": [
              "<Figure size 864x432 with 1 Axes>"
            ]
          },
          "metadata": {
            "needs_background": "light"
          },
          "output_type": "display_data"
        }
      ],
      "source": [
        "plt.figure(figsize=(12,6))\n",
        "plt.barh(top_ten_sellers['seller_id'].head(10), top_ten_sellers['total_sales'].head(10), color='skyblue')\n",
        "plt.text(top_ten_sellers['total_sales'].values[0], top_ten_sellers['seller_id'].values[0], f\"{top_ten_sellers['total_sales'].values[0]}\")\n",
        "plt.ylabel('Seller ID')\n",
        "plt.xlabel('Total Sales')\n",
        "plt.gca().invert_yaxis()\n",
        "plt.show()"
      ]
    },
    {
      "cell_type": "markdown",
      "metadata": {
        "id": "CyLsItCq0rxG"
      },
      "source": [
        "Insight:\n",
        "- Seller with ID 4a3ca9315b744ce9f8e9374361493884 and total sales 2094 is from ibitinga and 6560211a19b47992c3666cc44a7e94c0 as the second place from sao paulo which they both is also came from the same state Sao Paulo, the highest state revenue. \n",
        "- cama_mesa_banho becomes the top selling 4a3ca9315b744ce9f8e9374361493884, with 482 total orders\n",
        "- Top 10 seller are mostly from Sao Paulo"
      ]
    },
    {
      "cell_type": "markdown",
      "metadata": {
        "id": "f2uSzJQC0rxG"
      },
      "source": [
        "# Conclusion"
      ]
    },
    {
      "cell_type": "markdown",
      "metadata": {
        "id": "IyDvKb26004C"
      },
      "source": [
        "- Revenue and Regional Trends:\n",
        "Sao Paulo (SP) emerged as the highest revenue-generating state, aligning with its status as Brazil's most populous state. Rio de Janeiro(RJ) as the third most populated state in Brazil is in the second position with highest revenue. Notably, while Minas Gerais (MG) is the second most populous, it ranked third in revenue, highlighting potential variations in purchasing power or preferences across regions. The analysis also identified a daily revenue peak on 2017-11-24, suggesting the influence of specific events or promotions.\n",
        "- Purchase Timing:\n",
        "Customer purchase behavior showed a clear trend, peaking at 16:00 with 8039 purchases. An upward trend was observed during morning hours (6:00-11:00) and a downward trend post-21:00, suggesting the influence of daily routines and work schedules on online shopping habits.\n",
        "- Product Preferences:\n",
        "\"cama_mesa_banho\" (bed_bath_table), primarily home equipment products, emerged as the most purchased category with 11823 purchases. This highlights the significance of home-related products in the Brazilian e-commerce market.\n",
        "- Seller Performance:\n",
        "The seller with ID \"4a3ca9315b744ce9f8e9374361493884\" based in Sao Paulo State achieved the highest sales, totaling 2094 orders. This suggests a correlation between seller location and performance, aligning with the regional revenue trends. cama_mesa_banho were the top-selling product category for this seller.\n",
        "\n",
        "By this analysis we can leverage regional insight to make a data-driven campaigns focusing on the high-revenue states or creating a campaigns to make seller climbing the ladder."
      ]
    }
  ],
  "metadata": {
    "colab": {
      "include_colab_link": true,
      "provenance": []
    },
    "kernelspec": {
      "display_name": "Python 3 (ipykernel)",
      "language": "python",
      "name": "python3"
    },
    "language_info": {
      "codemirror_mode": {
        "name": "ipython",
        "version": 3
      },
      "file_extension": ".py",
      "mimetype": "text/x-python",
      "name": "python",
      "nbconvert_exporter": "python",
      "pygments_lexer": "ipython3",
      "version": "3.9.12"
    }
  },
  "nbformat": 4,
  "nbformat_minor": 0
}
