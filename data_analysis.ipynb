{
  "nbformat": 4,
  "nbformat_minor": 0,
  "metadata": {
    "colab": {
      "provenance": [],
      "authorship_tag": "ABX9TyPgBjnM+uzYE78eoMnxgywk",
      "include_colab_link": true
    },
    "kernelspec": {
      "name": "python3",
      "display_name": "Python 3"
    },
    "language_info": {
      "name": "python"
    }
  },
  "cells": [
    {
      "cell_type": "markdown",
      "metadata": {
        "id": "view-in-github",
        "colab_type": "text"
      },
      "source": [
        "<a href=\"https://colab.research.google.com/github/FauzanNR/DataAnalysisDicoding/blob/main/data_analysis.ipynb\" target=\"_parent\"><img src=\"https://colab.research.google.com/assets/colab-badge.svg\" alt=\"Open In Colab\"/></a>"
      ]
    },
    {
      "cell_type": "markdown",
      "source": [
        "#E-Comerce Public Data Analysis\n",
        "\n",
        "- **Nama:** Fauzan Nur Rifai\n",
        "- **Email:** fauzannur.rifai.fnr@gmail.com\n",
        "- **ID Dicoding:** fauzannurrifai"
      ],
      "metadata": {
        "id": "8cWiv8BqRqN7"
      }
    },
    {
      "cell_type": "markdown",
      "source": [
        "#Business Question\n",
        "- Wich region gave the most revenue?\n",
        "- Are there specific times in all regions when customers make the most purchase ?\n",
        "- What are the most purchased products?\n",
        "- Which seller make the most selling?\n",
        "\n"
      ],
      "metadata": {
        "id": "wU9MEh0aTRFg"
      }
    },
    {
      "cell_type": "markdown",
      "source": [
        "#Importing Library"
      ],
      "metadata": {
        "id": "S7CrrFmFhhjd"
      }
    },
    {
      "cell_type": "code",
      "source": [
        "import pandas as pd\n",
        "import matplotlib.pyplot as plt\n",
        "import numpy as np\n",
        "import seaborn as sns"
      ],
      "metadata": {
        "id": "629YFciXhr5L"
      },
      "execution_count": 1,
      "outputs": []
    },
    {
      "cell_type": "markdown",
      "source": [
        "#Data Wrangling"
      ],
      "metadata": {
        "id": "NHTu_HsoiT1A"
      }
    },
    {
      "cell_type": "markdown",
      "source": [
        "##Data Gathering"
      ],
      "metadata": {
        "id": "Zh_XjBT0ijBM"
      }
    },
    {
      "cell_type": "code",
      "source": [
        "orders_df = pd.read_csv(\"/Data/E-Commerce-Public-Dataset/orders_dataset.csv\")\n",
        "geolocation_df = pd.read_csv(\"/Data/E-Commerce-Public-Dataset/geolocation_dataset.csv\")\n",
        "order_items_df = pd.read_csv(\"/Data/E-Commerce-Public-Dataset/order_items_dataset.csv\")\n",
        "order_payments_df = pd.read_csv(\"/Data/E-Commerce-Public-Dataset/order_payments_dataset.csv\")\n",
        "sellers_df = pd.read_csv(\"/Data/E-Commerce-Public-Dataset/sellers_dataset.csv\")\n"
      ],
      "metadata": {
        "id": "wNkhCAJ1jmxq"
      },
      "execution_count": null,
      "outputs": []
    }
  ]
}